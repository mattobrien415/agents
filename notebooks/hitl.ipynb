{
 "cells": [
  {
   "cell_type": "markdown",
   "id": "07c57479",
   "metadata": {},
   "source": [
    "# Human-in-the-Loop\n",
    "\n",
    "We've tested two different email assistant, both of which can triage emails and use tools to respond to them. But do we actually *trust* them to manage our inbox? Few would trust an AI to manage their inbox without some human oversight immediately, which is why human-in-the-loop (HITL) is a critical pattern for many agent systems.\n",
    "\n",
    "![overview-img](img/overview_hitl.png)\n",
    "\n",
    "## LangGraph Interrupts\n",
    "\n",
    "The HITL (Human-In-The-Loop) pattern is useful for applications where decisions require human validation. LangGraph provides built-in support for this through its [interrupt mechanism](https://langchain-ai.github.io/langgraph/concepts/interrupts/), allowing us to pause execution of an agent and request human input when needed. Let's add HITL to our email assistant after specific tools are called.\n",
    "\n",
    "### Simple Interrupt Example\n",
    "\n",
    "First, let's just show a simple example for how to use the `interrupt` function. Assume we want a simple agent that can ask the user a question and then use that information. The `interrupt` function can be used for this purpose:\n",
    "\n",
    "```\n",
    "location = interrupt(ask.question)\n",
    "```\n",
    "\n",
    "When this line executes:\n",
    "1. It raises a `GraphInterrupt` exception, which pauses the graph execution\n",
    "2. It surfaces the value passed in (`ask.question`) to the client TODO: explain the client\n",
    "3. Execution stops at this point until resumed \n",
    "4. When resumed, the function returns the value provided by the human\n",
    "\n",
    "Here's a minimal example of how to implement this using `interrupt`:"
   ]
  },
  {
   "cell_type": "code",
   "execution_count": 1,
   "id": "855e31bd",
   "metadata": {},
   "outputs": [
    {
     "data": {
      "image/png": "[encoded data removed]",
      "text/plain": [
       "<IPython.core.display.Image object>"
      ]
     },
     "metadata": {},
     "output_type": "display_data"
    }
   ],
   "source": [
    "from pydantic import BaseModel\n",
    "from langgraph.graph import MessagesState, START, END, StateGraph\n",
    "from langchain_core.tools import tool\n",
    "from langgraph.prebuilt import ToolNode\n",
    "from langgraph.types import Command, interrupt\n",
    "from IPython.display import Image, display\n",
    "\n",
    "@tool\n",
    "def search(query: str):\n",
    "    \"\"\"Call to surf the web.\"\"\"\n",
    "    return f\"I looked up: {query}. Result: It's sunny in San Francisco.\"\n",
    "\n",
    "# We can define a tool definition for `ask_human`\n",
    "class AskHuman(BaseModel):\n",
    "    \"\"\"Ask the human a question\"\"\"\n",
    "    question: str\n",
    "\n",
    "tools = [search, AskHuman]\n",
    "tool_node = ToolNode([search])\n",
    "\n",
    "# Set up the model\n",
    "from langchain.chat_models import init_chat_model\n",
    "llm = init_chat_model(\"openai:gpt-4o\", temperature=0.0)\n",
    "llm_with_tools = llm.bind_tools(tools)\n",
    "\n",
    "# Define the function that determines whether to continue or not\n",
    "def should_continue(state):\n",
    "    messages = state[\"messages\"]\n",
    "    last_message = messages[-1]\n",
    "    # If there is no function call, then we finish\n",
    "    if not last_message.tool_calls:\n",
    "        return END\n",
    "    # If tool call is asking Human, we return that node\n",
    "    elif last_message.tool_calls[0][\"name\"] == \"AskHuman\":\n",
    "        return \"ask_human\"\n",
    "    # Otherwise if there is, we continue\n",
    "    else:\n",
    "        return \"action\"\n",
    "\n",
    "def call_model(state):\n",
    "    messages = state[\"messages\"]\n",
    "    message = llm_with_tools.invoke(messages)\n",
    "    return {\"messages\": [message]}\n",
    "\n",
    "def ask_human(state):\n",
    "    # Get the tool call ID \n",
    "    tool_call_id = state[\"messages\"][-1].tool_calls[0][\"id\"]\n",
    "    # Get the AskHuman schema\n",
    "    ask = AskHuman.model_validate(state[\"messages\"][-1].tool_calls[0][\"args\"])\n",
    "    # Interrupt the graph with the question from the AskHuman schema\n",
    "    location = interrupt(ask.question)\n",
    "    # Create a tool message once the user has responded with the location\n",
    "    tool_message = [{\"tool_call_id\": tool_call_id, \"type\": \"tool\", \"content\": location}]\n",
    "    return {\"messages\": tool_message}\n",
    "\n",
    "# Define a new graph\n",
    "workflow = StateGraph(MessagesState)\n",
    "workflow.add_node(\"agent\", call_model)\n",
    "workflow.add_node(\"action\", tool_node)\n",
    "workflow.add_node(\"ask_human\", ask_human)\n",
    "\n",
    "# Set the entrypoint as `agent`\n",
    "workflow.add_edge(START, \"agent\")\n",
    "# We now add a conditional edge\n",
    "workflow.add_conditional_edges(\n",
    "    # First, we define the start node. We use `agent`.\n",
    "    \"agent\",\n",
    "    # Next, we pass in the function that will determine which node is called next.\n",
    "    should_continue,\n",
    ")\n",
    "# We now add a normal edge from `tools` to `agent`.\n",
    "workflow.add_edge(\"action\", \"agent\")\n",
    "workflow.add_edge(\"ask_human\", \"agent\")\n",
    "\n",
    "# Set up memory\n",
    "from langgraph.checkpoint.memory import MemorySaver\n",
    "memory = MemorySaver()\n",
    "# Compile the workflow\n",
    "app = workflow.compile(checkpointer=memory)\n",
    "# Draw the graph\n",
    "display(Image(app.get_graph().draw_mermaid_png()))"
   ]
  },
  {
   "cell_type": "markdown",
   "id": "eb3c95ee",
   "metadata": {},
   "source": [
    "Now, we ask the user where they are and look up the weather there:"
   ]
  },
  {
   "cell_type": "code",
   "execution_count": 2,
   "id": "82e56ba2",
   "metadata": {},
   "outputs": [
    {
     "name": "stdout",
     "output_type": "stream",
     "text": [
      "================================\u001b[1m Human Message \u001b[0m=================================\n",
      "\n",
      "Ask the user where they are, then look up the weather there\n",
      "==================================\u001b[1m Ai Message \u001b[0m==================================\n",
      "Tool Calls:\n",
      "  AskHuman (call_eATaMXu32mxJS0kIxjzcUnvq)\n",
      " Call ID: call_eATaMXu32mxJS0kIxjzcUnvq\n",
      "  Args:\n",
      "    question: Where are you located?\n"
     ]
    }
   ],
   "source": [
    "config = {\"configurable\": {\"thread_id\": \"1\"}}\n",
    "messages = [{\"role\": \"user\", \"content\": \"Ask the user where they are, then look up the weather there\"}]\n",
    "for event in app.stream({\"messages\": messages}, config, stream_mode=\"values\"):\n",
    "    event[\"messages\"][-1].pretty_print()"
   ]
  },
  {
   "cell_type": "markdown",
   "id": "1253a7c2",
   "metadata": {},
   "source": [
    "You can see that our graph got interrupted inside the `ask_human` node. It is now waiting for a location to be provided. You also notice that we use the [checkpointer](https://langchain-ai.github.io/langgraph/concepts/memory/#short-term-memory) to persist the state of the graph after the interrupt. This allows us to resume execution from the same state after the human has responded."
   ]
  },
  {
   "cell_type": "code",
   "execution_count": 3,
   "id": "548507e3",
   "metadata": {},
   "outputs": [
    {
     "data": {
      "text/plain": [
       "('ask_human',)"
      ]
     },
     "execution_count": 3,
     "metadata": {},
     "output_type": "execute_result"
    }
   ],
   "source": [
    "app.get_state(config).next"
   ]
  },
  {
   "cell_type": "markdown",
   "id": "fa829ec4",
   "metadata": {},
   "source": [
    "### Using Command to Resume Execution\n",
    "\n",
    "After an interrupt, we need a way to continue execution. This is where the `Command` interface comes in. [The `Command` object has several powerful capabilities](https://langchain-ai.github.io/langgraph/how-tos/command/):\n",
    "- `resume`: Provides the value to return from the interrupt call\n",
    "- `goto`: Specifies which node to route to next\n",
    "- `update`: Modifies the state before continuing execution\n",
    "- `graph`: Controls navigation between parent and child graphs\n",
    "\n",
    "In this case, the `Command` object serves two crucial purposes:\n",
    "1. It provides the value to be returned from the `interrupt` call\n",
    "2. It controls the flow of execution in the graph"
   ]
  },
  {
   "cell_type": "code",
   "execution_count": 4,
   "id": "04ace4c0",
   "metadata": {},
   "outputs": [
    {
     "name": "stdout",
     "output_type": "stream",
     "text": [
      "==================================\u001b[1m Ai Message \u001b[0m==================================\n",
      "Tool Calls:\n",
      "  AskHuman (call_eATaMXu32mxJS0kIxjzcUnvq)\n",
      " Call ID: call_eATaMXu32mxJS0kIxjzcUnvq\n",
      "  Args:\n",
      "    question: Where are you located?\n",
      "=================================\u001b[1m Tool Message \u001b[0m=================================\n",
      "\n",
      "san francisco\n",
      "==================================\u001b[1m Ai Message \u001b[0m==================================\n",
      "Tool Calls:\n",
      "  search (call_AbXkvTDR2do3hfNOb9vTXRqA)\n",
      " Call ID: call_AbXkvTDR2do3hfNOb9vTXRqA\n",
      "  Args:\n",
      "    query: San Francisco weather\n",
      "=================================\u001b[1m Tool Message \u001b[0m=================================\n",
      "Name: search\n",
      "\n",
      "I looked up: San Francisco weather. Result: It's sunny in San Francisco.\n",
      "==================================\u001b[1m Ai Message \u001b[0m==================================\n",
      "\n",
      "The weather in San Francisco is currently sunny.\n"
     ]
    }
   ],
   "source": [
    "# Resume execution with the value \"san francisco\"\n",
    "for event in app.stream(Command(resume=\"san francisco\"), config, stream_mode=\"values\"):\n",
    "    event[\"messages\"][-1].pretty_print()"
   ]
  },
  {
   "cell_type": "markdown",
   "id": "529ec291",
   "metadata": {},
   "source": [
    "## Agent Inbox\n",
    "\n",
    "While we can implement basic human-in-the-loop functionality using `interrupt` calls and `Command` responses with the SDK, as shown above, this doesn't really scale well if we want to process a large number of emails and a variety of different actions. Our email assistant requires several types of human-in-the-loop interactions:\n",
    "\n",
    "1. **Email Triage Review**:\n",
    "   - When an email is classified as \"NOTIFY,\" humans should verify this classification\n",
    "   - Users should be able to accept the classification or provide feedback on how it should be classified\n",
    "\n",
    "2. **Email Response Review**:\n",
    "   - Before sending responses to important emails, humans should review the content\n",
    "   - Users need options to edit the draft, accept it as-is, provide feedback, or reject it entirely\n",
    "\n",
    "3. **Meeting Scheduling Review**:\n",
    "   - When the assistant proposes scheduling a meeting, humans should verify the details\n",
    "   - Users should be able to modify attendees, duration, date/time before accepting\n",
    "\n",
    "In general, any significant action (sending emails, scheduling meetings) requires human approval. Some low-risk tools (like calendar availability checks) can run without interruption. Of course, this is entirely dependent on the application and the risk of the action.\n",
    "\n",
    "### Agent Inbox: A Purpose-Built HITL Interface\n",
    "\n",
    "With this in mind, we built a simple interface for human-in-the-loop called [Agent Inbox](https://github.com/langchain-ai/agent-inbox) that allows us to review and approve or reject actions taken by LangGraph agents. Agent Inbox provides:\n",
    "\n",
    "1. **Structured Interaction Types**:\n",
    "   - `accept`: Approve the agent's action and continue\n",
    "   - `edit`: Modify the agent's proposed action before execution\n",
    "   - `response`: Provide feedback or answers without editing\n",
    "   - `ignore`: Reject the agent's action entirely\n",
    "\n",
    "2. **Rich Content Display**:\n",
    "   - Render (email) content in a readable format\n",
    "   - Support markdown for structured information presentation\n",
    "\n",
    "3. **Consistent User Experience**:\n",
    "   - Notification system for pending reviews\n",
    "   - Action buttons that match the allowed interaction types\n",
    "   - Thread-based organization of agent activities\n",
    "\n",
    "4. **Easy Integration with LangGraph**:\n",
    "   - Simple connection to local or hosted LangGraph deployments\n",
    "   - Compatible with LangGraph's interrupt mechanism\n",
    "   - No complex frontend development required\n",
    "\n",
    "### Integration with LangGraph's interrupt() Function\n",
    "\n",
    "Agent Inbox integrates seamlessly with LangGraph's `interrupt()` function. The integration works like this:\n",
    "\n",
    "1. **Request Structure**: We structure an interrupt request with specific fields:\n",
    "   ```python\n",
    "   request = {\n",
    "       \"action_request\": {\n",
    "           \"action\": \"write_email\",  # Name of the tool to call\n",
    "           \"args\": {\"to\": \"john@example.com\", \"subject\": \"Meeting\", \"content\": \"...\"}  # Action parameters\n",
    "       },\n",
    "       \"config\": {\n",
    "           \"allow_ignore\": True,   # Can dismiss the action\n",
    "           \"allow_respond\": True,  # Can provide feedback\n",
    "           \"allow_edit\": True,     # Can modify the action\n",
    "           \"allow_accept\": True,   # Can approve the action\n",
    "       },\n",
    "       \"description\": \"Email content to display...\" # Context shown to the user\n",
    "   }\n",
    "   ```\n",
    "\n",
    "2. **Passing to interrupt()**: We pass this request to the interrupt function:\n",
    "   ```python\n",
    "   response = interrupt([request])[0]  # Can batch multiple requests\n",
    "   ```\n",
    "\n",
    "3. **User Interaction**: Agent Inbox shows the request and collects the user's response\n",
    "\n",
    "4. **Handling Responses**: When execution resumes, we receive a structured `response`:\n",
    "   ```python\n",
    "   if response[\"type\"] == \"accept\":\n",
    "       # Execute the tool with original args\n",
    "   elif response[\"type\"] == \"edit\":\n",
    "       # Execute with edited args from response[\"args\"]\n",
    "   elif response[\"type\"] == \"ignore\":\n",
    "       # Skip execution\n",
    "   elif response[\"type\"] == \"response\":\n",
    "       # Process feedback from response[\"args\"]\n",
    "   ```\n",
    "\n",
    "This structured approach allows our email assistant to collect precise human input at critical decision points while maintaining a consistent user experience.\n",
    "\n",
    "## Email Assistant with Human-in-the-Loop\n",
    "\n",
    "Now that we understand both the interrupt mechanism and Agent Inbox, let's look at our email assistant implementation with human-in-the-loop. This implementation brings together all the concepts we've discussed:\n",
    "\n",
    "1. It uses the `interrupt` function to pause execution at key decision points\n",
    "2. It structures interrupt requests specifically for Agent Inbox\n",
    "3. It processes different response types from human reviewers\n",
    "4. It integrates these HITL capabilities into a full email processing workflow\n",
    "\n",
    "We'll instrument each of these human-in-the-loop capabilities into our email assistant. Then, in the next notebook, we'll add in memory!\n",
    "\n",
    "![overview-img](img/HITL_flow.png)"
   ]
  },
  {
   "cell_type": "code",
   "execution_count": 5,
   "id": "c90ef0df",
   "metadata": {},
   "outputs": [
    {
     "name": "stdout",
     "output_type": "stream",
     "text": [
      "/Users/rlm/Desktop/Code/interrupt_workshop\n"
     ]
    }
   ],
   "source": [
    "%cd ..\n",
    "%load_ext autoreload\n",
    "%autoreload 2"
   ]
  },
  {
   "cell_type": "code",
   "execution_count": 6,
   "id": "e6ff1c71",
   "metadata": {},
   "outputs": [
    {
     "name": "stderr",
     "output_type": "stream",
     "text": [
      "/var/folders/l9/bpjxdmfx7lvd1fbdjn38y5dh0000gn/T/ipykernel_62536/952962973.py:61: UserWarning: WARNING! tool_choice is not default parameter.\n",
      "                tool_choice was transferred to model_kwargs.\n",
      "                Please confirm that tool_choice is what you intended.\n",
      "  llm = init_chat_model(\"openai:gpt-4o\", tool_choice=\"required\", temperature=0.0)\n"
     ]
    }
   ],
   "source": [
    "from typing import Literal\n",
    "from pydantic import BaseModel\n",
    "\n",
    "from langchain.chat_models import init_chat_model\n",
    "from langchain_core.tools import tool\n",
    "\n",
    "from langgraph.graph import StateGraph, START, END\n",
    "from langgraph.types import interrupt, Command\n",
    "\n",
    "from email_assistant.prompts import triage_system_prompt, triage_user_prompt, agent_system_prompt_hitl, default_background, default_triage_instructions, default_response_preferences, default_cal_preferences\n",
    "from email_assistant.schemas import State, RouterSchema, StateInput\n",
    "from email_assistant.utils import parse_email, format_for_display, format_email_markdown\n",
    "\n",
    "# Agent tools \n",
    "@tool\n",
    "def write_email(to: str, subject: str, content: str) -> str:\n",
    "    \"\"\"Write and send an email.\"\"\"\n",
    "    # Placeholder response - in real app would send email\n",
    "    return f\"Email sent to {to} with subject '{subject}' and content: {content}\"\n",
    "\n",
    "@tool\n",
    "def schedule_meeting(\n",
    "    attendees: list[str], subject: str, duration_minutes: int, preferred_day: str, start_time: int\n",
    ") -> str:\n",
    "    \"\"\"Schedule a calendar meeting.\"\"\"\n",
    "    # Placeholder response - in real app would check calendar and schedule\n",
    "    return f\"Meeting '{subject}' scheduled on {preferred_day} at {start_time} for {duration_minutes} minutes with {len(attendees)} attendees\"\n",
    "\n",
    "@tool\n",
    "def check_calendar_availability(day: str) -> str:\n",
    "    \"\"\"Check calendar availability for a given day.\"\"\"\n",
    "    # Placeholder response - in real app would check actual calendar\n",
    "    return f\"Available times on {day}: 9:00 AM, 2:00 PM, 4:00 PM\"\n",
    "\n",
    "@tool\n",
    "class Question(BaseModel):\n",
    "      \"\"\"Question to ask user.\"\"\"\n",
    "      content: str\n",
    "    \n",
    "@tool\n",
    "class Done(BaseModel):\n",
    "      \"\"\"E-mail has been sent.\"\"\"\n",
    "      done: bool\n",
    "\n",
    "# All tools available to the agent\n",
    "tools = [\n",
    "    write_email, \n",
    "    schedule_meeting, \n",
    "    check_calendar_availability, \n",
    "    Question, \n",
    "    Done,\n",
    "]\n",
    "\n",
    "tools_by_name = {tool.name: tool for tool in tools}\n",
    "\n",
    "# Initialize the LLM for use with router / structured output\n",
    "llm = init_chat_model(\"openai:gpt-4o\", temperature=0.0)\n",
    "llm_router = llm.with_structured_output(RouterSchema) \n",
    "\n",
    "# Initialize the LLM, enforcing tool use (of any available tools) for agent\n",
    "llm = init_chat_model(\"openai:gpt-4o\", tool_choice=\"required\", temperature=0.0)\n",
    "llm_with_tools = llm.bind_tools(tools)"
   ]
  },
  {
   "cell_type": "markdown",
   "id": "11c508a7",
   "metadata": {},
   "source": [
    "### Nodes of the Email Assistant\n",
    "\n",
    "Our email assistant has several key nodes that handle different aspects of the workflow:\n",
    "\n",
    "1. **triage_router**: This node is responsible for analyzing incoming emails and classifying them into three categories:\n",
    "   - **RESPOND**: Emails that require a response from the assistant.\n",
    "   - **NOTIFY**: Important emails that don't need a response but should be brought to the user's attention.\n",
    "   - **IGNORE**: Low-priority emails that can be safely ignored.\n",
    "   \n",
    "   The router uses a structured output LLM to make this classification and then routes to the appropriate next node based on its decision.\n",
    "\n",
    "2. **triage_interrupt_handler**: When an email is classified as \"notify,\" this handler creates an interrupt to display the email in Agent Inbox and collect human feedback. This allows users to:\n",
    "   - Confirm the notification classification\n",
    "   - Provide feedback on how they would prefer similar emails to be classified in the future\n",
    "   \n",
    "   This feedback loop is crucial for improving the assistant's classification over time.\n",
    "\n",
    "3. **llm_call**: This node invokes the LLM with the available tools to decide how to respond to an email. The LLM might decide to:\n",
    "   - Draft a response email\n",
    "   - Schedule a meeting\n",
    "   - Ask the user a question\n",
    "   - Or mark the email as done\n",
    "\n",
    "Each of these nodes plays a specific role in the overall email processing workflow."
   ]
  },
  {
   "cell_type": "code",
   "execution_count": 7,
   "id": "3f44ce00",
   "metadata": {},
   "outputs": [],
   "source": [
    "# Nodes \n",
    "def triage_router(state: State) -> Command[Literal[\"triage_interrupt_handler\", \"response_agent\", \"__end__\"]]:\n",
    "    \"\"\"Analyze email content to decide if we should respond, notify, or ignore.\n",
    "\n",
    "    The triage step prevents the assistant from wasting time on:\n",
    "    - Marketing emails and spam\n",
    "    - Company-wide announcements\n",
    "    - Messages meant for other teams\n",
    "    \"\"\"\n",
    "\n",
    "    # Parse the email input\n",
    "    author, to, subject, email_thread = parse_email(state[\"email_input\"])\n",
    "    user_prompt = triage_user_prompt.format(\n",
    "        author=author, to=to, subject=subject, email_thread=email_thread\n",
    "    )\n",
    "\n",
    "    # Create email markdown for Agent Inbox in case of notification  \n",
    "    email_markdown = format_email_markdown(subject, author, to, email_thread)\n",
    "\n",
    "    # Format system prompt with background and triage instructions\n",
    "    system_prompt = triage_system_prompt.format(\n",
    "        background=default_background,\n",
    "        triage_instructions=default_triage_instructions\n",
    "    )\n",
    "\n",
    "    # Run the router LLM\n",
    "    result = llm_router.invoke(\n",
    "        [\n",
    "            {\"role\": \"system\", \"content\": system_prompt},\n",
    "            {\"role\": \"user\", \"content\": user_prompt},\n",
    "        ]\n",
    "    )\n",
    "\n",
    "    # Decision\n",
    "    classification = result.classification\n",
    "\n",
    "    # Process the classification decision\n",
    "    if classification == \"respond\":\n",
    "        print(\"📧 Classification: RESPOND - This email requires a response\")\n",
    "        # Next node\n",
    "        goto = \"response_agent\"\n",
    "        # Update the state\n",
    "        update = {\n",
    "            \"classification_decision\": result.classification,\n",
    "            \"messages\": [{\"role\": \"user\",\n",
    "                            \"content\": f\"Respond to the email: {email_markdown}\"\n",
    "                        }],\n",
    "        }\n",
    "    elif classification == \"ignore\":\n",
    "        print(\"🚫 Classification: IGNORE - This email can be safely ignored\")\n",
    "\n",
    "        # Next node\n",
    "        goto = END\n",
    "        # Update the state\n",
    "        update = {\n",
    "            \"classification_decision\": classification,\n",
    "        }\n",
    "\n",
    "    elif classification == \"notify\":\n",
    "        print(\"🔔 Classification: NOTIFY - This email contains important information\") \n",
    "\n",
    "        # Next node\n",
    "        goto = \"triage_interrupt_handler\"\n",
    "        # Update the state\n",
    "        update = {\n",
    "            \"classification_decision\": classification,\n",
    "        }\n",
    "\n",
    "    else:\n",
    "        raise ValueError(f\"Invalid classification: {classification}\")\n",
    "    return Command(goto=goto, update=update)\n",
    "\n",
    "def triage_interrupt_handler(state: State) -> Command[Literal[\"response_agent\", \"__end__\"]]:\n",
    "    \"\"\"Handles interrupts from the triage step\"\"\"\n",
    "    \n",
    "    # Parse the email input\n",
    "    author, to, subject, email_thread = parse_email(state[\"email_input\"])\n",
    "\n",
    "    # Create email markdown for Agent Inbox in case of notification  \n",
    "    email_markdown = format_email_markdown(subject, author, to, email_thread)\n",
    "\n",
    "    # Create messages\n",
    "    messages = [{\"role\": \"user\",\n",
    "                \"content\": f\"Email to notify user about: {email_markdown}\"\n",
    "                }]\n",
    "\n",
    "    # Create interrupt for Agent Inbox\n",
    "    request = {\n",
    "        \"action_request\": {\n",
    "            \"action\": f\"Email Assistant: {state['classification_decision']}\",\n",
    "            \"args\": {}\n",
    "        },\n",
    "        \"config\": {\n",
    "            \"allow_ignore\": True,  \n",
    "            \"allow_respond\": True, \n",
    "            \"allow_edit\": False, \n",
    "            \"allow_accept\": False,  \n",
    "        },\n",
    "        # Email to show in Agent Inbox\n",
    "        \"description\": email_markdown,\n",
    "    }\n",
    "\n",
    "    # Agent Inbox responds with a list  \n",
    "    response = interrupt([request])[0]\n",
    "\n",
    "    # If user provides feedback, go to response agent and use feedback to respond to email   \n",
    "    if response[\"type\"] == \"response\":\n",
    "        # Add feedback to messages \n",
    "        user_input = response[\"args\"]\n",
    "        # Used by the response agent\n",
    "        messages.append({\"role\": \"user\",\n",
    "                        \"content\": f\"User wants to reply to the email. Use this feedback to respond: {user_input}\"\n",
    "                        })\n",
    "        # Go to response agent\n",
    "        goto = \"response_agent\"\n",
    "\n",
    "    # If user ignores email, go to END\n",
    "    elif response[\"type\"] == \"ignore\":\n",
    "        goto = END\n",
    "\n",
    "    # Catch all other responses\n",
    "    else:\n",
    "        raise ValueError(f\"Invalid response: {response}\")\n",
    "\n",
    "    # Update the state \n",
    "    update = {\n",
    "        \"messages\": messages,\n",
    "    }\n",
    "\n",
    "    return Command(goto=goto, update=update)\n",
    "\n",
    "def llm_call(state: State):\n",
    "    \"\"\"LLM decides whether to call a tool or not\"\"\"\n",
    "\n",
    "    return {\n",
    "        \"messages\": [\n",
    "            llm_with_tools.invoke(\n",
    "                [\n",
    "                    {\"role\": \"system\", \"content\": agent_system_prompt_hitl.format(background=default_background,\n",
    "                                                                                  response_preferences=default_response_preferences, \n",
    "                                                                                  cal_preferences=default_cal_preferences)}\n",
    "                ]\n",
    "                + state[\"messages\"]\n",
    "            )\n",
    "        ]\n",
    "    }"
   ]
  },
  {
   "cell_type": "markdown",
   "id": "eceb9f50",
   "metadata": {},
   "source": [
    "### The interrupt_handler\n",
    "\n",
    "The `interrupt_handler` is the core HITL component of our response agent. Its job is to examine the tool calls that the LLM wants to make and determine which ones need human review before execution. Here's how it works:\n",
    "\n",
    "1. **Tool Selection**: The handler maintains a list of \"HITL tools\" that require human approval:\n",
    "   - `write_email`: Since sending emails has significant external impact\n",
    "   - `schedule_meeting`: Since scheduling meetings affects calendars\n",
    "   - `Question`: Since asking users questions requires direct interaction\n",
    "\n",
    "2. **Direct Execution**: Tools not in the HITL list (like `check_calendar_availability`) are executed immediately without interruption. This allows low-risk operations to proceed automatically.\n",
    "\n",
    "3. **Context Preparation**: For tools requiring review, the handler:\n",
    "   - Retrieves the original email for context\n",
    "   - Formats the tool call details for clear display\n",
    "   - Configures which interaction types are allowed for each tool type\n",
    "\n",
    "4. **Interrupt Creation**: The handler creates a structured interrupt request with:\n",
    "   - The action name and arguments\n",
    "   - Configuration for allowed interaction types\n",
    "   - A description that includes both the original email and the proposed action\n",
    "\n",
    "5. **Response Processing**: After the interrupt, the handler processes the human response:\n",
    "   - **Accept**: Executes the tool with original arguments\n",
    "   - **Edit**: Updates the tool call with edited arguments and then executes\n",
    "   - **Ignore**: Cancels the tool execution\n",
    "   - **Response**: Records feedback without execution\n",
    "\n",
    "This handler ensures humans have oversight of all significant actions while allowing routine operations to proceed automatically. The ability to edit tool arguments (like email content or meeting details) gives users precise control over the assistant's actions."
   ]
  },
  {
   "cell_type": "code",
   "execution_count": 8,
   "id": "3de9a983",
   "metadata": {},
   "outputs": [],
   "source": [
    "def interrupt_handler(state: State):\n",
    "    \"\"\"Creates an interrupt for human review of tool calls\"\"\"\n",
    "    \n",
    "    # Store messages\n",
    "    result = []\n",
    "\n",
    "    # Iterate over the tool calls in the last message\n",
    "    for tool_call in state[\"messages\"][-1].tool_calls:\n",
    "        \n",
    "        # Allowed tools for HITL\n",
    "        hitl_tools = [\"write_email\", \"schedule_meeting\", \"Question\"]\n",
    "        \n",
    "        # If tool is not in our HITL list, execute it directly without interruption\n",
    "        if tool_call[\"name\"] not in hitl_tools:\n",
    "\n",
    "            # Execute search_memory and other tools without interruption\n",
    "            tool = tools_by_name[tool_call[\"name\"]]\n",
    "            observation = tool.invoke(tool_call[\"args\"])\n",
    "            result.append({\"role\": \"tool\", \"content\": observation, \"tool_call_id\": tool_call[\"id\"]})\n",
    "            continue\n",
    "            \n",
    "        # Get original email from email_input in state\n",
    "        email_input = state[\"email_input\"]\n",
    "        author, to, subject, email_thread = parse_email(email_input)\n",
    "        original_email_markdown = format_email_markdown(subject, author, to, email_thread)\n",
    "        \n",
    "        # Format tool call for display and prepend the original email\n",
    "        tool_display = format_for_display(state, tool_call)\n",
    "        description = original_email_markdown + tool_display\n",
    "\n",
    "        # Configure what actions are allowed in Agent Inbox\n",
    "        if tool_call[\"name\"] == \"write_email\":\n",
    "            config = {\n",
    "                \"allow_ignore\": True,\n",
    "                \"allow_respond\": True,\n",
    "                \"allow_edit\": True,\n",
    "                \"allow_accept\": True,\n",
    "            }\n",
    "        elif tool_call[\"name\"] == \"schedule_meeting\":\n",
    "            config = {\n",
    "                \"allow_ignore\": True,\n",
    "                \"allow_respond\": True,\n",
    "                \"allow_edit\": True,\n",
    "                \"allow_accept\": True,\n",
    "            }\n",
    "        elif tool_call[\"name\"] == \"Question\":\n",
    "            config = {\n",
    "                \"allow_ignore\": True,\n",
    "                \"allow_respond\": True,\n",
    "                \"allow_edit\": False,\n",
    "                \"allow_accept\": False,\n",
    "            }\n",
    "        else:\n",
    "            raise ValueError(f\"Invalid tool call: {tool_call['name']}\")\n",
    "\n",
    "        # Create the interrupt request\n",
    "        request = {\n",
    "            \"action_request\": {\n",
    "                \"action\": tool_call[\"name\"],\n",
    "                \"args\": tool_call[\"args\"]\n",
    "            },\n",
    "            \"config\": config,\n",
    "            \"description\": description,\n",
    "        }\n",
    "\n",
    "        # Send to Agent Inbox and wait for response\n",
    "        response = interrupt([request])[0]\n",
    "\n",
    "        # Handle the responses \n",
    "        if response[\"type\"] == \"accept\":\n",
    "\n",
    "            # Execute the tool with original args\n",
    "            tool = tools_by_name[tool_call[\"name\"]]\n",
    "            observation = tool.invoke(tool_call[\"args\"])\n",
    "            result.append({\"role\": \"tool\", \"content\": observation, \"tool_call_id\": tool_call[\"id\"]})\n",
    "                        \n",
    "        elif response[\"type\"] == \"edit\":\n",
    "\n",
    "            # Tool selection \n",
    "            tool = tools_by_name[tool_call[\"name\"]]\n",
    "            \n",
    "            # Get edited args from Agent Inbox\n",
    "            edited_args = response[\"args\"][\"args\"]\n",
    "\n",
    "            # Update the write_email tool call with the edited content from Agent Inbox\n",
    "            if tool_call[\"name\"] == \"write_email\":\n",
    "                \n",
    "                # Update the AI message's tool call with edited content (reference to the message in the state)\n",
    "                ai_message = state[\"messages\"][-1]\n",
    "                current_id = tool_call[\"id\"]\n",
    "                \n",
    "                # Replace the original tool call with the edited one (any changes made to this reference affect the original object in the state)\n",
    "                ai_message.tool_calls = [tc for tc in ai_message.tool_calls if tc[\"id\"] != current_id] + [\n",
    "                    {\"type\": \"tool_call\", \"name\": tool_call[\"name\"], \"args\": edited_args, \"id\": current_id}\n",
    "                ]\n",
    "                \n",
    "                # Execute the tool with edited args\n",
    "                observation = tool.invoke(edited_args)\n",
    "                \n",
    "                # Add only the tool response message\n",
    "                result.append({\"role\": \"tool\", \"content\": observation, \"tool_call_id\": current_id})\n",
    "            \n",
    "            # Update the schedule_meeting tool call with the edited content from Agent Inbox\n",
    "            elif tool_call[\"name\"] == \"schedule_meeting\":\n",
    "                \n",
    "                # Update the AI message's tool call with edited content\n",
    "                ai_message = state[\"messages\"][-1]\n",
    "                current_id = tool_call[\"id\"]\n",
    "                \n",
    "                # Replace the original tool call with the edited one\n",
    "                ai_message.tool_calls = [tc for tc in ai_message.tool_calls if tc[\"id\"] != current_id] + [\n",
    "                    {\"type\": \"tool_call\", \"name\": tool_call[\"name\"], \"args\": edited_args, \"id\": current_id}\n",
    "                ]\n",
    "                \n",
    "                # Execute the tool with edited args\n",
    "                observation = tool.invoke(edited_args)\n",
    "                \n",
    "                # Add only the tool response message\n",
    "                result.append({\"role\": \"tool\", \"content\": observation, \"tool_call_id\": current_id})\n",
    "            \n",
    "            # Catch all other tool calls\n",
    "            else:\n",
    "                raise ValueError(f\"Invalid tool call: {tool_call['name']}\")\n",
    "\n",
    "        elif response[\"type\"] == \"ignore\":\n",
    "            if tool_call[\"name\"] == \"write_email\":\n",
    "                # Don't execute the tool, and tell the agent how to proceed\n",
    "                result.append({\"role\": \"tool\", \"content\": \"User ignored this email draft. Call the 'Done' tool to end the email assistant workflow.\", \"tool_call_id\": tool_call[\"id\"]})\n",
    "            elif tool_call[\"name\"] == \"schedule_meeting\":\n",
    "                # Don't execute the tool, and tell the agent how to proceed\n",
    "                result.append({\"role\": \"tool\", \"content\": \"User ignored this calendar meeting draft. Call the 'write_email' tool to respond, but don't include the meeting details in the email.\", \"tool_call_id\": tool_call[\"id\"]})\n",
    "            elif tool_call[\"name\"] == \"Question\":\n",
    "                # Don't execute the tool, and tell the agent how to proceed\n",
    "                result.append({\"role\": \"tool\", \"content\": \"User ignored this question. Proceed with the context that you have and don't ask the user any more questions.\", \"tool_call_id\": tool_call[\"id\"]})\n",
    "            else:\n",
    "                raise ValueError(f\"Invalid tool call: {tool_call['name']}\")\n",
    "            \n",
    "        elif response[\"type\"] == \"response\":\n",
    "            # User provided feedback\n",
    "            user_feedback = response[\"args\"]\n",
    "            if tool_call[\"name\"] == \"write_email\":\n",
    "                # Don't execute the tool, and add a message with the user feedback to incorporate into the email\n",
    "                result.append({\"role\": \"tool\", \"content\": f\"User gave feedback, which can we incorporate into the email. Feedback: {user_feedback}\", \"tool_call_id\": tool_call[\"id\"]})\n",
    "            elif tool_call[\"name\"] == \"schedule_meeting\":\n",
    "                # Don't execute the tool, and add a message with the user feedback to incorporate into the email\n",
    "                result.append({\"role\": \"tool\", \"content\": f\"User gave feedback, which can we incorporate into the meeting request. Feedback: {user_feedback}\", \"tool_call_id\": tool_call[\"id\"]})\n",
    "            elif tool_call[\"name\"] == \"Question\":\n",
    "                # Don't execute the tool, and add a message with the user feedback to incorporate into the email\n",
    "                result.append({\"role\": \"tool\", \"content\": f\"User answered the question, which can we can use for any follow up actions. Feedback: {user_feedback}\", \"tool_call_id\": tool_call[\"id\"]})\n",
    "            else:\n",
    "                raise ValueError(f\"Invalid tool call: {tool_call['name']}\")\n",
    "\n",
    "        # Catch all other responses\n",
    "        else:\n",
    "            raise ValueError(f\"Invalid response: {response}\")\n",
    "            \n",
    "    return {\"messages\": result}"
   ]
  },
  {
   "cell_type": "markdown",
   "id": "0ed953ed",
   "metadata": {},
   "source": [
    "### HITL Email Assistant Workflow\n",
    "\n",
    "Now we can integrate everything into a complete workflow that connects all the components. The workflow consists of two main parts:\n",
    "\n",
    "1. **Response Agent Subgraph**:\n",
    "   First, we build a standalone agent that can handle email responses:\n",
    "   - The `llm_call` node generates responses or tool calls\n",
    "   - The `should_continue` function checks if the agent is done or needs to use a tool\n",
    "   - The `interrupt_handler` manages human review of tool execution\n",
    "   - The cycle continues until the agent reaches a conclusion\n",
    "   \n",
    "   This response agent is compiled as a reusable subgraph.\n",
    "\n",
    "2. **Overall Email Assistant Workflow**:\n",
    "   Then, we create the main workflow that:\n",
    "   - Starts with `triage_router` to classify the email\n",
    "   - Routes to `triage_interrupt_handler` for NOTIFY classifications\n",
    "   - Routes to `response_agent` for RESPOND classifications\n",
    "   - Ends immediately for IGNORE classifications\n",
    "\n",
    "This architecture provides a clean separation of concerns, with distinct components for triage, response generation, and human oversight. The resulting workflow gives us a complete email assistant that:\n",
    "\n",
    "- Analyzes incoming emails\n",
    "- Correctly routes them based on importance\n",
    "- Engages humans for oversight at critical decision points\n",
    "- Responds appropriately to important emails\n",
    "\n",
    "The final graph visualization shows the complete flow from email input through triage and, when necessary, through the response generation process with human oversight at each significant step."
   ]
  },
  {
   "cell_type": "code",
   "execution_count": 9,
   "id": "db309a23",
   "metadata": {},
   "outputs": [
    {
     "data": {
      "image/png": "[encoded data removed]",
      "text/plain": [
       "<IPython.core.display.Image object>"
      ]
     },
     "metadata": {},
     "output_type": "display_data"
    }
   ],
   "source": [
    "# Conditional edge function\n",
    "def should_continue(state: State) -> Literal[\"interrupt_handler\", END]:\n",
    "    \"\"\"Route to tool handler, or end if Done tool called\"\"\"\n",
    "    messages = state[\"messages\"]\n",
    "    last_message = messages[-1]\n",
    "    if last_message.tool_calls:\n",
    "        for tool_call in last_message.tool_calls: \n",
    "            if tool_call[\"name\"] == \"Done\":\n",
    "                return END\n",
    "            else:\n",
    "                return \"interrupt_handler\"\n",
    "\n",
    "# Build workflow\n",
    "agent_builder = StateGraph(State)\n",
    "\n",
    "# Add nodes\n",
    "agent_builder.add_node(\"llm_call\", llm_call)\n",
    "agent_builder.add_node(\"interrupt_handler\", interrupt_handler)\n",
    "\n",
    "# Add edges\n",
    "agent_builder.add_edge(START, \"llm_call\")\n",
    "agent_builder.add_conditional_edges(\n",
    "    \"llm_call\",\n",
    "    should_continue,\n",
    "    {\n",
    "        \"interrupt_handler\": \"interrupt_handler\",\n",
    "        END: END,\n",
    "    },\n",
    ")\n",
    "agent_builder.add_edge(\"interrupt_handler\", \"llm_call\")\n",
    "\n",
    "# Compile the agent\n",
    "response_agent = agent_builder.compile()\n",
    "\n",
    "# Build overall workflow\n",
    "overall_workflow = (\n",
    "    StateGraph(State, input=StateInput)\n",
    "    .add_node(triage_router)\n",
    "    .add_node(triage_interrupt_handler)\n",
    "    .add_node(\"response_agent\", response_agent)\n",
    "    .add_edge(START, \"triage_router\")\n",
    "    \n",
    ")\n",
    "\n",
    "email_assistant = overall_workflow.compile()\n",
    "display(Image(email_assistant.get_graph().draw_mermaid_png()))"
   ]
  },
  {
   "cell_type": "markdown",
   "id": "37bac65b",
   "metadata": {},
   "source": [
    "Now, we can test the workflow! \n",
    "\n",
    "## Accept `write_email` and `schedule_meeting`\n",
    "\n",
    "This test simulates an email that gets classified as \"respond\" and the agent creates a schedule_meeting and write_email tool call that the user accepts."
   ]
  },
  {
   "cell_type": "code",
   "execution_count": 20,
   "id": "5ac5dde7",
   "metadata": {},
   "outputs": [
    {
     "name": "stdout",
     "output_type": "stream",
     "text": [
      "Running the graph until the first interrupt...\n",
      "📧 Classification: RESPOND - This email requires a response\n",
      "\n",
      "INTERRUPT OBJECT:\n",
      "Action Request: {'action': 'schedule_meeting', 'args': {'attendees': ['pm@client.com', 'lance@company.com'], 'subject': 'Tax Planning Strategies Discussion', 'duration_minutes': 45, 'preferred_day': '2023-11-07', 'start_time': 14}}\n"
     ]
    }
   ],
   "source": [
    "import uuid\n",
    "\n",
    "# Respond - Meeting Request Email\n",
    "email_input_respond = {\n",
    "    \"to\": \"Lance Martin <lance@company.com>\",\n",
    "    \"author\": \"Project Manager <pm@client.com>\",\n",
    "    \"subject\": \"Tax season let's schedule call\",\n",
    "    \"email_thread\": \"Lance,\\n\\nIt's tax season again, and I wanted to schedule a call to discuss your tax planning strategies for this year. I have some suggestions that could potentially save you money.\\n\\nAre you available sometime next week? Tuesday or Thursday afternoon would work best for me, for about 45 minutes.\\n\\nRegards,\\nProject Manager\"\n",
    "}\n",
    "\n",
    "# Compile the graph\n",
    "checkpointer = MemorySaver()\n",
    "graph = overall_workflow.compile(checkpointer=checkpointer)\n",
    "thread_id_1 = uuid.uuid4()\n",
    "thread_config_1 = {\"configurable\": {\"thread_id\": thread_id_1}}\n",
    "\n",
    "# Run the graph until the first interrupt \n",
    "# Email will be classified as \"respond\" \n",
    "# Agent will create a schedule_meeting and write_email tool call\n",
    "print(\"Running the graph until the first interrupt...\")\n",
    "for chunk in graph.stream({\"email_input\": email_input_respond}, config=thread_config_1):\n",
    "    # Inspect interrupt object if present\n",
    "    if '__interrupt__' in chunk:\n",
    "        Interrupt_Object = chunk['__interrupt__'][0]\n",
    "        print(\"\\nINTERRUPT OBJECT:\")\n",
    "        print(f\"Action Request: {Interrupt_Object.value[0]['action_request']}\")"
   ]
  },
  {
   "cell_type": "markdown",
   "id": "5454d987",
   "metadata": {},
   "source": [
    "Accept the `schedule_meeting` tool call"
   ]
  },
  {
   "cell_type": "code",
   "execution_count": 21,
   "id": "643e7974",
   "metadata": {},
   "outputs": [
    {
     "name": "stdout",
     "output_type": "stream",
     "text": [
      "\n",
      "Simulating user accepting the {'action': 'schedule_meeting', 'args': {'attendees': ['pm@client.com', 'lance@company.com'], 'subject': 'Tax Planning Strategies Discussion', 'duration_minutes': 45, 'preferred_day': '2023-11-07', 'start_time': 14}} tool call...\n",
      "\n",
      "INTERRUPT OBJECT:\n",
      "Action Request: {'action': 'write_email', 'args': {'to': 'pm@client.com', 'subject': \"Re: Tax season let's schedule call\", 'content': 'Hello,\\n\\nThank you for reaching out. I have scheduled a call for us to discuss tax planning strategies on Tuesday, November 7th at 2:00 PM. The meeting is set for 45 minutes.\\n\\nLooking forward to our discussion and your suggestions.\\n\\nBest regards,\\n\\nLance Martin'}}\n"
     ]
    }
   ],
   "source": [
    "print(f\"\\nSimulating user accepting the {Interrupt_Object.value[0]['action_request']} tool call...\")\n",
    "for chunk in graph.stream(Command(resume=[{\"type\": \"accept\"}]), config=thread_config_1):\n",
    "    # Inspect interrupt object if present\n",
    "    if '__interrupt__' in chunk:\n",
    "        Interrupt_Object = chunk['__interrupt__'][0]\n",
    "        print(\"\\nINTERRUPT OBJECT:\")\n",
    "        print(f\"Action Request: {Interrupt_Object.value[0]['action_request']}\")"
   ]
  },
  {
   "cell_type": "markdown",
   "id": "00d8c1a5",
   "metadata": {},
   "source": [
    "Accept the `write_email` tool call"
   ]
  },
  {
   "cell_type": "code",
   "execution_count": 22,
   "id": "656f4336",
   "metadata": {},
   "outputs": [
    {
     "name": "stdout",
     "output_type": "stream",
     "text": [
      "\n",
      "Simulating user accepting the {'action': 'write_email', 'args': {'to': 'pm@client.com', 'subject': \"Re: Tax season let's schedule call\", 'content': 'Hello,\\n\\nThank you for reaching out. I have scheduled a call for us to discuss tax planning strategies on Tuesday, November 7th at 2:00 PM. The meeting is set for 45 minutes.\\n\\nLooking forward to our discussion and your suggestions.\\n\\nBest regards,\\n\\nLance Martin'}} tool call...\n",
      "==================================\u001b[1m Ai Message \u001b[0m==================================\n",
      "Tool Calls:\n",
      "  Done (call_EPCwGSrxYpNduujTUZYI50Iw)\n",
      " Call ID: call_EPCwGSrxYpNduujTUZYI50Iw\n",
      "  Args:\n",
      "    done: True\n"
     ]
    }
   ],
   "source": [
    "print(f\"\\nSimulating user accepting the {Interrupt_Object.value[0]['action_request']} tool call...\")\n",
    "for chunk in graph.stream(Command(resume=[{\"type\": \"accept\"}]), config=thread_config_1):\n",
    "    # Inspect response_agent most recent message\n",
    "    if 'response_agent' in chunk:\n",
    "        chunk['response_agent']['messages'][-1].pretty_print()\n",
    "    # Inspect interrupt object if present\n",
    "    if '__interrupt__' in chunk:\n",
    "        Interrupt_Object = chunk['__interrupt__'][0]\n",
    "        print(\"\\nINTERRUPT OBJECT:\")\n",
    "        print(f\"Action Request: {Interrupt_Object.value[0]['action_request']}\")"
   ]
  },
  {
   "cell_type": "markdown",
   "id": "7d228ff8",
   "metadata": {},
   "source": [
    "Look at the full message history, and see trace:\n",
    "\n",
    "https://smith.langchain.com/public/82277f96-3abd-48e0-a4db-413f7572240d/r"
   ]
  },
  {
   "cell_type": "code",
   "execution_count": 23,
   "id": "3b168d80",
   "metadata": {},
   "outputs": [
    {
     "name": "stdout",
     "output_type": "stream",
     "text": [
      "================================\u001b[1m Human Message \u001b[0m=================================\n",
      "\n",
      "Respond to the email: \n",
      "\n",
      "**Subject**: Tax season let's schedule call\n",
      "**From**: Project Manager <pm@client.com>\n",
      "**To**: Lance Martin <lance@company.com>\n",
      "\n",
      "Lance,\n",
      "\n",
      "It's tax season again, and I wanted to schedule a call to discuss your tax planning strategies for this year. I have some suggestions that could potentially save you money.\n",
      "\n",
      "Are you available sometime next week? Tuesday or Thursday afternoon would work best for me, for about 45 minutes.\n",
      "\n",
      "Regards,\n",
      "Project Manager\n",
      "\n",
      "---\n",
      "\n",
      "==================================\u001b[1m Ai Message \u001b[0m==================================\n",
      "Tool Calls:\n",
      "  check_calendar_availability (call_JULjapjWiBs3YBtccNpHqECR)\n",
      " Call ID: call_JULjapjWiBs3YBtccNpHqECR\n",
      "  Args:\n",
      "    day: 2023-11-07\n",
      "  check_calendar_availability (call_3ljnPp3z5ZTmGJbqG9BTwzTM)\n",
      " Call ID: call_3ljnPp3z5ZTmGJbqG9BTwzTM\n",
      "  Args:\n",
      "    day: 2023-11-09\n",
      "=================================\u001b[1m Tool Message \u001b[0m=================================\n",
      "\n",
      "Available times on 2023-11-07: 9:00 AM, 2:00 PM, 4:00 PM\n",
      "=================================\u001b[1m Tool Message \u001b[0m=================================\n",
      "\n",
      "Available times on 2023-11-09: 9:00 AM, 2:00 PM, 4:00 PM\n",
      "==================================\u001b[1m Ai Message \u001b[0m==================================\n",
      "Tool Calls:\n",
      "  schedule_meeting (call_CIbtr1oixj7XSpSnkW1PsJ14)\n",
      " Call ID: call_CIbtr1oixj7XSpSnkW1PsJ14\n",
      "  Args:\n",
      "    attendees: ['pm@client.com', 'lance@company.com']\n",
      "    subject: Tax Planning Strategies Discussion\n",
      "    duration_minutes: 45\n",
      "    preferred_day: 2023-11-07\n",
      "    start_time: 14\n",
      "=================================\u001b[1m Tool Message \u001b[0m=================================\n",
      "\n",
      "Meeting 'Tax Planning Strategies Discussion' scheduled on 2023-11-07 at 14 for 45 minutes with 2 attendees\n",
      "==================================\u001b[1m Ai Message \u001b[0m==================================\n",
      "Tool Calls:\n",
      "  write_email (call_iF7v21Upb0d8nzuOBF5N9cZ1)\n",
      " Call ID: call_iF7v21Upb0d8nzuOBF5N9cZ1\n",
      "  Args:\n",
      "    to: pm@client.com\n",
      "    subject: Re: Tax season let's schedule call\n",
      "    content: Hello,\n",
      "\n",
      "Thank you for reaching out. I have scheduled a call for us to discuss tax planning strategies on Tuesday, November 7th at 2:00 PM. The meeting is set for 45 minutes.\n",
      "\n",
      "Looking forward to our discussion and your suggestions.\n",
      "\n",
      "Best regards,\n",
      "\n",
      "Lance Martin\n",
      "=================================\u001b[1m Tool Message \u001b[0m=================================\n",
      "\n",
      "Email sent to pm@client.com with subject 'Re: Tax season let's schedule call' and content: Hello,\n",
      "\n",
      "Thank you for reaching out. I have scheduled a call for us to discuss tax planning strategies on Tuesday, November 7th at 2:00 PM. The meeting is set for 45 minutes.\n",
      "\n",
      "Looking forward to our discussion and your suggestions.\n",
      "\n",
      "Best regards,\n",
      "\n",
      "Lance Martin\n",
      "==================================\u001b[1m Ai Message \u001b[0m==================================\n",
      "Tool Calls:\n",
      "  Done (call_EPCwGSrxYpNduujTUZYI50Iw)\n",
      " Call ID: call_EPCwGSrxYpNduujTUZYI50Iw\n",
      "  Args:\n",
      "    done: True\n"
     ]
    }
   ],
   "source": [
    "state = graph.get_state(thread_config_1)\n",
    "for m in state.values['messages']:\n",
    "    m.pretty_print()"
   ]
  },
  {
   "cell_type": "markdown",
   "id": "86b1ba30",
   "metadata": {},
   "source": [
    "## Edit `write_email` and `schedule_meeting`\n",
    "\n",
    "The agent creates a `schedule_meeting` and `write_email` tool call that the user edits."
   ]
  },
  {
   "cell_type": "code",
   "execution_count": 15,
   "id": "3bfca1b4",
   "metadata": {},
   "outputs": [
    {
     "name": "stdout",
     "output_type": "stream",
     "text": [
      "Running the graph until the first interrupt...\n",
      "📧 Classification: RESPOND - This email requires a response\n",
      "\n",
      "INTERRUPT OBJECT:\n",
      "Action Request: {'action': 'schedule_meeting', 'args': {'attendees': ['pm@client.com', 'lance@company.com'], 'subject': 'Tax Planning Strategies Discussion', 'duration_minutes': 45, 'preferred_day': '2023-11-07', 'start_time': 14}}\n"
     ]
    }
   ],
   "source": [
    "# Same email as before\n",
    "email_input_respond = {\n",
    "    \"to\": \"Lance Martin <lance@company.com>\",\n",
    "    \"author\": \"Project Manager <pm@client.com>\",\n",
    "    \"subject\": \"Tax season let's schedule call\",\n",
    "    \"email_thread\": \"Lance,\\n\\nIt's tax season again, and I wanted to schedule a call to discuss your tax planning strategies for this year. I have some suggestions that could potentially save you money.\\n\\nAre you available sometime next week? Tuesday or Thursday afternoon would work best for me, for about 45 minutes.\\n\\nRegards,\\nProject Manager\"\n",
    "}\n",
    "\n",
    "# Compile the graph with new thread\n",
    "checkpointer = MemorySaver()\n",
    "graph = overall_workflow.compile(checkpointer=checkpointer)\n",
    "thread_id_2 = uuid.uuid4()\n",
    "thread_config_2 = {\"configurable\": {\"thread_id\": thread_id_2}}\n",
    "\n",
    "# Run the graph until the first interrupt - will be classified as \"respond\" and the agent will create a write_email tool call\n",
    "print(\"Running the graph until the first interrupt...\")\n",
    "for chunk in graph.stream({\"email_input\": email_input_respond}, config=thread_config_2):\n",
    "    # Inspect interrupt object if present\n",
    "    if '__interrupt__' in chunk:\n",
    "        Interrupt_Object = chunk['__interrupt__'][0]\n",
    "        print(\"\\nINTERRUPT OBJECT:\")\n",
    "        print(f\"Action Request: {Interrupt_Object.value[0]['action_request']}\")"
   ]
  },
  {
   "cell_type": "markdown",
   "id": "706ac0a6",
   "metadata": {},
   "source": [
    "Edit the `schedule_meeting` tool call"
   ]
  },
  {
   "cell_type": "code",
   "execution_count": 16,
   "id": "7175fedb",
   "metadata": {},
   "outputs": [
    {
     "name": "stdout",
     "output_type": "stream",
     "text": [
      "\n",
      "Simulating user editing the schedule_meeting tool call...\n",
      "\n",
      "INTERRUPT OBJECT:\n",
      "Action Request: {'action': 'write_email', 'args': {'to': 'pm@client.com', 'subject': \"Re: Tax season let's schedule call\", 'content': \"Hello,\\n\\nThank you for reaching out regarding tax planning strategies. I've scheduled a call for us on Thursday, November 9th, at 2:00 PM. We'll have 30 minutes to discuss your suggestions and explore potential savings.\\n\\nLooking forward to our conversation.\\n\\nBest regards,\\n\\nLance Martin\"}}\n"
     ]
    }
   ],
   "source": [
    "# Now simulate user editing the schedule_meeting tool call\n",
    "print(\"\\nSimulating user editing the schedule_meeting tool call...\")\n",
    "edited_schedule_args = {\n",
    "    \"attendees\": [\"pm@client.com\", \"lance@company.com\"],\n",
    "    \"subject\": \"Tax Planning Discussion\",\n",
    "    \"duration_minutes\": 30,  # Changed from 45 to 30\n",
    "    \"preferred_day\": \"Thursday\",\n",
    "    \"start_time\": 14 \n",
    "}\n",
    "for chunk in graph.stream(Command(resume=[{\"type\": \"edit\", \"args\": {\"args\": edited_schedule_args}}]), config=thread_config_2):\n",
    "    # Inspect response_agent most recent message\n",
    "    if 'response_agent' in chunk:\n",
    "        chunk['response_agent']['messages'][-1].pretty_print()\n",
    "    # Inspect interrupt object if present\n",
    "    if '__interrupt__' in chunk:\n",
    "        Interrupt_Object = chunk['__interrupt__'][0]\n",
    "        print(\"\\nINTERRUPT OBJECT:\")\n",
    "        print(f\"Action Request: {Interrupt_Object.value[0]['action_request']}\")"
   ]
  },
  {
   "cell_type": "markdown",
   "id": "9757706b",
   "metadata": {},
   "source": [
    "Edit the `write_email` tool call"
   ]
  },
  {
   "cell_type": "code",
   "execution_count": 17,
   "id": "a0604d53",
   "metadata": {},
   "outputs": [
    {
     "name": "stdout",
     "output_type": "stream",
     "text": [
      "\n",
      "Simulating user editing the write_email tool call...\n",
      "==================================\u001b[1m Ai Message \u001b[0m==================================\n",
      "Tool Calls:\n",
      "  Done (call_sdYc5FP1hzosXeIDmJWS53ov)\n",
      " Call ID: call_sdYc5FP1hzosXeIDmJWS53ov\n",
      "  Args:\n",
      "    done: True\n"
     ]
    }
   ],
   "source": [
    "# Now simulate user editing the write_email tool call\n",
    "print(\"\\nSimulating user editing the write_email tool call...\")\n",
    "edited_email_args = {\n",
    "    \"to\": \"pm@client.com\",\n",
    "    \"subject\": \"Re: Tax season let's schedule call\",\n",
    "    \"content\": \"Hello Project Manager,\\n\\nThank you for reaching out about tax planning. I scheduled a 30-minute call next Thursday at 3:00 PM. Would that work for you?\\n\\nBest regards,\\nLance Martin\"\n",
    "}\n",
    "for chunk in graph.stream(Command(resume=[{\"type\": \"edit\", \"args\": {\"args\": edited_email_args}}]), config=thread_config_2):\n",
    "    # Inspect response_agent most recent message\n",
    "    if 'response_agent' in chunk:\n",
    "        chunk['response_agent']['messages'][-1].pretty_print()\n",
    "    # Inspect interrupt object if present\n",
    "    if '__interrupt__' in chunk:\n",
    "        Interrupt_Object = chunk['__interrupt__'][0]\n",
    "        print(\"\\nINTERRUPT OBJECT:\")\n",
    "        print(f\"Action Request: {Interrupt_Object.value[0]['action_request']}\")"
   ]
  },
  {
   "cell_type": "markdown",
   "id": "ac279101",
   "metadata": {},
   "source": [
    "Look at the full message history, and see trace, to view the edited tool calls:\n",
    "\n",
    "https://smith.langchain.com/public/3ecbc07a-9a9f-4372-8f7e-f9c719e16e5d/r"
   ]
  },
  {
   "cell_type": "code",
   "execution_count": 18,
   "id": "6d3e9be7",
   "metadata": {},
   "outputs": [
    {
     "name": "stdout",
     "output_type": "stream",
     "text": [
      "================================\u001b[1m Human Message \u001b[0m=================================\n",
      "\n",
      "Respond to the email: \n",
      "\n",
      "**Subject**: Tax season let's schedule call\n",
      "**From**: Project Manager <pm@client.com>\n",
      "**To**: Lance Martin <lance@company.com>\n",
      "\n",
      "Lance,\n",
      "\n",
      "It's tax season again, and I wanted to schedule a call to discuss your tax planning strategies for this year. I have some suggestions that could potentially save you money.\n",
      "\n",
      "Are you available sometime next week? Tuesday or Thursday afternoon would work best for me, for about 45 minutes.\n",
      "\n",
      "Regards,\n",
      "Project Manager\n",
      "\n",
      "---\n",
      "\n",
      "==================================\u001b[1m Ai Message \u001b[0m==================================\n",
      "Tool Calls:\n",
      "  check_calendar_availability (call_wEkXtxd6IlJRFQ0TbQF09xlp)\n",
      " Call ID: call_wEkXtxd6IlJRFQ0TbQF09xlp\n",
      "  Args:\n",
      "    day: 2023-11-07\n",
      "  check_calendar_availability (call_qQJRVonWvppB0BLngAPNdQ0e)\n",
      " Call ID: call_qQJRVonWvppB0BLngAPNdQ0e\n",
      "  Args:\n",
      "    day: 2023-11-09\n",
      "=================================\u001b[1m Tool Message \u001b[0m=================================\n",
      "\n",
      "Available times on 2023-11-07: 9:00 AM, 2:00 PM, 4:00 PM\n",
      "=================================\u001b[1m Tool Message \u001b[0m=================================\n",
      "\n",
      "Available times on 2023-11-09: 9:00 AM, 2:00 PM, 4:00 PM\n",
      "==================================\u001b[1m Ai Message \u001b[0m==================================\n",
      "Tool Calls:\n",
      "  schedule_meeting (call_N4hfI3hYjLblRCW01TuHWjkv)\n",
      " Call ID: call_N4hfI3hYjLblRCW01TuHWjkv\n",
      "  Args:\n",
      "    attendees: ['pm@client.com', 'lance@company.com']\n",
      "    subject: Tax Planning Discussion\n",
      "    duration_minutes: 30\n",
      "    preferred_day: Thursday\n",
      "    start_time: 14\n",
      "=================================\u001b[1m Tool Message \u001b[0m=================================\n",
      "\n",
      "Meeting 'Tax Planning Discussion' scheduled on Thursday at 14 for 30 minutes with 2 attendees\n",
      "==================================\u001b[1m Ai Message \u001b[0m==================================\n",
      "Tool Calls:\n",
      "  write_email (call_E1yDFSB9kUQ0qrbVAhlmWNX9)\n",
      " Call ID: call_E1yDFSB9kUQ0qrbVAhlmWNX9\n",
      "  Args:\n",
      "    to: pm@client.com\n",
      "    subject: Re: Tax season let's schedule call\n",
      "    content: Hello Project Manager,\n",
      "\n",
      "Thank you for reaching out about tax planning. I scheduled a 30-minute call next Thursday at 3:00 PM. Would that work for you?\n",
      "\n",
      "Best regards,\n",
      "Lance Martin\n",
      "=================================\u001b[1m Tool Message \u001b[0m=================================\n",
      "\n",
      "Email sent to pm@client.com with subject 'Re: Tax season let's schedule call' and content: Hello Project Manager,\n",
      "\n",
      "Thank you for reaching out about tax planning. I scheduled a 30-minute call next Thursday at 3:00 PM. Would that work for you?\n",
      "\n",
      "Best regards,\n",
      "Lance Martin\n",
      "==================================\u001b[1m Ai Message \u001b[0m==================================\n",
      "Tool Calls:\n",
      "  Done (call_sdYc5FP1hzosXeIDmJWS53ov)\n",
      " Call ID: call_sdYc5FP1hzosXeIDmJWS53ov\n",
      "  Args:\n",
      "    done: True\n"
     ]
    }
   ],
   "source": [
    "state = graph.get_state(thread_config_2)\n",
    "for m in state.values['messages']:\n",
    "    m.pretty_print()"
   ]
  },
  {
   "cell_type": "markdown",
   "id": "5281cb1f",
   "metadata": {},
   "source": [
    "## Ignore `write_email`, `schedule_meeting`, and `question`\n",
    "\n",
    "This tests the user ignoring write_email, schedule_meeting, and question tool calls."
   ]
  },
  {
   "cell_type": "code",
   "execution_count": 24,
   "id": "d60baeed",
   "metadata": {},
   "outputs": [
    {
     "name": "stdout",
     "output_type": "stream",
     "text": [
      "Running the graph until the first interrupt...\n",
      "📧 Classification: RESPOND - This email requires a response\n",
      "\n",
      "INTERRUPT OBJECT:\n",
      "Action Request: {'action': 'schedule_meeting', 'args': {'attendees': ['pm@client.com', 'lance@company.com'], 'subject': 'Tax Planning Strategies Discussion', 'duration_minutes': 45, 'preferred_day': '2023-11-07', 'start_time': 14}}\n"
     ]
    }
   ],
   "source": [
    "# Respond - Meeting Request Email\n",
    "email_input_respond = {\n",
    "    \"to\": \"Lance Martin <lance@company.com>\",\n",
    "    \"author\": \"Project Manager <pm@client.com>\",\n",
    "    \"subject\": \"Tax season let's schedule call\",\n",
    "    \"email_thread\": \"Lance,\\n\\nIt's tax season again, and I wanted to schedule a call to discuss your tax planning strategies for this year. I have some suggestions that could potentially save you money.\\n\\nAre you available sometime next week? Tuesday or Thursday afternoon would work best for me, for about 45 minutes.\\n\\nRegards,\\nProject Manager\"\n",
    "}\n",
    "\n",
    "# Compile the graph\n",
    "checkpointer = MemorySaver()\n",
    "graph = overall_workflow.compile(checkpointer=checkpointer)\n",
    "thread_id_3 = uuid.uuid4()\n",
    "thread_config_3 = {\"configurable\": {\"thread_id\": thread_id_3}}\n",
    "\n",
    "# Run the graph until the first interrupt \n",
    "# Email will be classified as \"respond\" \n",
    "# Agent will create a schedule_meeting and write_email tool call\n",
    "print(\"Running the graph until the first interrupt...\")\n",
    "for chunk in graph.stream({\"email_input\": email_input_respond}, config=thread_config_3):\n",
    "    # Inspect interrupt object if present\n",
    "    if '__interrupt__' in chunk:\n",
    "        Interrupt_Object = chunk['__interrupt__'][0]\n",
    "        print(\"\\nINTERRUPT OBJECT:\")\n",
    "        print(f\"Action Request: {Interrupt_Object.value[0]['action_request']}\")"
   ]
  },
  {
   "cell_type": "markdown",
   "id": "2442cc81",
   "metadata": {},
   "source": [
    "Ignore the `schedule_meeting` tool call"
   ]
  },
  {
   "cell_type": "code",
   "execution_count": 25,
   "id": "f2e86ca6",
   "metadata": {},
   "outputs": [
    {
     "name": "stdout",
     "output_type": "stream",
     "text": [
      "\n",
      "Simulating user ignoring the {'action': 'schedule_meeting', 'args': {'attendees': ['pm@client.com', 'lance@company.com'], 'subject': 'Tax Planning Strategies Discussion', 'duration_minutes': 45, 'preferred_day': '2023-11-07', 'start_time': 14}} tool call...\n",
      "\n",
      "INTERRUPT OBJECT:\n",
      "Action Request: {'action': 'write_email', 'args': {'to': 'pm@client.com', 'subject': \"Re: Tax season let's schedule call\", 'content': 'Hello,\\n\\nThank you for reaching out regarding tax planning strategies. I am available for a call on Tuesday, November 7th at 2:00 PM for 45 minutes. Please let me know if this works for you.\\n\\nLooking forward to our discussion.\\n\\nBest regards,\\n\\nLance Martin'}}\n"
     ]
    }
   ],
   "source": [
    "print(f\"\\nSimulating user ignoring the {Interrupt_Object.value[0]['action_request']} tool call...\")\n",
    "for chunk in graph.stream(Command(resume=[{\"type\": \"ignore\"}]), config=thread_config_3):\n",
    "    # Inspect interrupt object if present\n",
    "    if '__interrupt__' in chunk:\n",
    "        Interrupt_Object = chunk['__interrupt__'][0]\n",
    "        print(\"\\nINTERRUPT OBJECT:\")\n",
    "        print(f\"Action Request: {Interrupt_Object.value[0]['action_request']}\")"
   ]
  },
  {
   "cell_type": "markdown",
   "id": "f5ccb8e0",
   "metadata": {},
   "source": [
    "Ignore the `write_email` tool call"
   ]
  },
  {
   "cell_type": "code",
   "execution_count": 26,
   "id": "15e33156",
   "metadata": {},
   "outputs": [
    {
     "name": "stdout",
     "output_type": "stream",
     "text": [
      "\n",
      "Simulating user ignoring the {'action': 'write_email', 'args': {'to': 'pm@client.com', 'subject': \"Re: Tax season let's schedule call\", 'content': 'Hello,\\n\\nThank you for reaching out regarding tax planning strategies. I am available for a call on Tuesday, November 7th at 2:00 PM for 45 minutes. Please let me know if this works for you.\\n\\nLooking forward to our discussion.\\n\\nBest regards,\\n\\nLance Martin'}} tool call...\n",
      "==================================\u001b[1m Ai Message \u001b[0m==================================\n",
      "Tool Calls:\n",
      "  Done (call_Nfa4VFDOUbyiKdTY0ZzJMBZk)\n",
      " Call ID: call_Nfa4VFDOUbyiKdTY0ZzJMBZk\n",
      "  Args:\n",
      "    done: True\n"
     ]
    }
   ],
   "source": [
    "print(f\"\\nSimulating user ignoring the {Interrupt_Object.value[0]['action_request']} tool call...\")\n",
    "for chunk in graph.stream(Command(resume=[{\"type\": \"ignore\"}]), config=thread_config_3):\n",
    "    # Inspect response_agent most recent message\n",
    "    if 'response_agent' in chunk:\n",
    "        chunk['response_agent']['messages'][-1].pretty_print()\n",
    "    # Inspect interrupt object if present\n",
    "    if '__interrupt__' in chunk:\n",
    "        Interrupt_Object = chunk['__interrupt__'][0]\n",
    "        print(\"\\nINTERRUPT OBJECT:\")\n",
    "        print(f\"Action Request: {Interrupt_Object.value[0]['action_request']}\")"
   ]
  },
  {
   "cell_type": "markdown",
   "id": "1acea519",
   "metadata": {},
   "source": [
    "Look at the full message history, and see trace:\n",
    "\n",
    "https://smith.langchain.com/public/06e22fef-160e-48ec-8c37-e4666a95afb2/r\n",
    "\n",
    "We can see that agent does not create a meeting and does not write the email. "
   ]
  },
  {
   "cell_type": "code",
   "execution_count": 27,
   "id": "eb55b5f1",
   "metadata": {},
   "outputs": [
    {
     "name": "stdout",
     "output_type": "stream",
     "text": [
      "================================\u001b[1m Human Message \u001b[0m=================================\n",
      "\n",
      "Respond to the email: \n",
      "\n",
      "**Subject**: Tax season let's schedule call\n",
      "**From**: Project Manager <pm@client.com>\n",
      "**To**: Lance Martin <lance@company.com>\n",
      "\n",
      "Lance,\n",
      "\n",
      "It's tax season again, and I wanted to schedule a call to discuss your tax planning strategies for this year. I have some suggestions that could potentially save you money.\n",
      "\n",
      "Are you available sometime next week? Tuesday or Thursday afternoon would work best for me, for about 45 minutes.\n",
      "\n",
      "Regards,\n",
      "Project Manager\n",
      "\n",
      "---\n",
      "\n",
      "==================================\u001b[1m Ai Message \u001b[0m==================================\n",
      "Tool Calls:\n",
      "  check_calendar_availability (call_juEXNt4Tu1pPd9FtLOHqDCmc)\n",
      " Call ID: call_juEXNt4Tu1pPd9FtLOHqDCmc\n",
      "  Args:\n",
      "    day: 2023-11-07\n",
      "  check_calendar_availability (call_0E9N7EQ0k92iKZrjCrkKUUfI)\n",
      " Call ID: call_0E9N7EQ0k92iKZrjCrkKUUfI\n",
      "  Args:\n",
      "    day: 2023-11-09\n",
      "=================================\u001b[1m Tool Message \u001b[0m=================================\n",
      "\n",
      "Available times on 2023-11-07: 9:00 AM, 2:00 PM, 4:00 PM\n",
      "=================================\u001b[1m Tool Message \u001b[0m=================================\n",
      "\n",
      "Available times on 2023-11-09: 9:00 AM, 2:00 PM, 4:00 PM\n",
      "==================================\u001b[1m Ai Message \u001b[0m==================================\n",
      "Tool Calls:\n",
      "  schedule_meeting (call_sftQdKHEO7peJk3udNPlhUQk)\n",
      " Call ID: call_sftQdKHEO7peJk3udNPlhUQk\n",
      "  Args:\n",
      "    attendees: ['pm@client.com', 'lance@company.com']\n",
      "    subject: Tax Planning Strategies Discussion\n",
      "    duration_minutes: 45\n",
      "    preferred_day: 2023-11-07\n",
      "    start_time: 14\n",
      "=================================\u001b[1m Tool Message \u001b[0m=================================\n",
      "\n",
      "User ignored this calendar meeting draft. Call the 'write_email' tool to respond, but don't include the meeting details in the email.\n",
      "==================================\u001b[1m Ai Message \u001b[0m==================================\n",
      "Tool Calls:\n",
      "  write_email (call_5dPQ1AjPhkhNpdTFQN5rGf7t)\n",
      " Call ID: call_5dPQ1AjPhkhNpdTFQN5rGf7t\n",
      "  Args:\n",
      "    to: pm@client.com\n",
      "    subject: Re: Tax season let's schedule call\n",
      "    content: Hello,\n",
      "\n",
      "Thank you for reaching out regarding tax planning strategies. I am available for a call on Tuesday, November 7th at 2:00 PM for 45 minutes. Please let me know if this works for you.\n",
      "\n",
      "Looking forward to our discussion.\n",
      "\n",
      "Best regards,\n",
      "\n",
      "Lance Martin\n",
      "=================================\u001b[1m Tool Message \u001b[0m=================================\n",
      "\n",
      "User ignored this email draft. Call the 'Done' tool to end the email assistant workflow.\n",
      "==================================\u001b[1m Ai Message \u001b[0m==================================\n",
      "Tool Calls:\n",
      "  Done (call_Nfa4VFDOUbyiKdTY0ZzJMBZk)\n",
      " Call ID: call_Nfa4VFDOUbyiKdTY0ZzJMBZk\n",
      "  Args:\n",
      "    done: True\n"
     ]
    }
   ],
   "source": [
    "state = graph.get_state(thread_config_3)\n",
    "for m in state.values['messages']:\n",
    "    m.pretty_print()"
   ]
  },
  {
   "cell_type": "markdown",
   "id": "7200cdaf",
   "metadata": {},
   "source": [
    "Now let's try an email that calls the `Question` tool."
   ]
  },
  {
   "cell_type": "code",
   "execution_count": 28,
   "id": "bdea633a",
   "metadata": {},
   "outputs": [
    {
     "name": "stdout",
     "output_type": "stream",
     "text": [
      "Running the graph until the first interrupt...\n",
      "📧 Classification: RESPOND - This email requires a response\n",
      "\n",
      "INTERRUPT OBJECT:\n",
      "Action Request: {'action': 'Question', 'args': {'content': 'Do you have a specific date and time in mind for the brunch, or should I check our calendar for availability in three weeks?'}}\n"
     ]
    }
   ],
   "source": [
    "# Respond - Meeting Request Email\n",
    "email_input_respond = {\n",
    "    \"to\": \"Lance Martin <lance@company.com>\",\n",
    "    \"author\": \"Partner <partner@home.com>\",\n",
    "    \"subject\": \"Meet Jim and Lisa for brunch in 3 weeks?\",\n",
    "    \"email_thread\": \"Hey, should we invite Jim and Lisa to brunch in 3 weeks? We could go to the new place on 17th that everyone is talking about.\"\n",
    "}\n",
    "\n",
    "# Compile the graph\n",
    "checkpointer = MemorySaver()\n",
    "graph = overall_workflow.compile(checkpointer=checkpointer)\n",
    "thread_id_4 = uuid.uuid4()\n",
    "thread_config_4 = {\"configurable\": {\"thread_id\": thread_id_4}}\n",
    "\n",
    "# Run the graph until the first interrupt \n",
    "# Email will be classified as \"respond\" \n",
    "# Agent will create a schedule_meeting and write_email tool call\n",
    "print(\"Running the graph until the first interrupt...\")\n",
    "for chunk in graph.stream({\"email_input\": email_input_respond}, config=thread_config_4):\n",
    "    # Inspect interrupt object if present\n",
    "    if '__interrupt__' in chunk:\n",
    "        Interrupt_Object = chunk['__interrupt__'][0]\n",
    "        print(\"\\nINTERRUPT OBJECT:\")\n",
    "        print(f\"Action Request: {Interrupt_Object.value[0]['action_request']}\")"
   ]
  },
  {
   "cell_type": "markdown",
   "id": "9aaca6d4",
   "metadata": {},
   "source": [
    "Ignore the `question` tool call"
   ]
  },
  {
   "cell_type": "code",
   "execution_count": 29,
   "id": "d4e5d62b",
   "metadata": {},
   "outputs": [
    {
     "name": "stdout",
     "output_type": "stream",
     "text": [
      "\n",
      "Simulating user ignoring the {'action': 'Question', 'args': {'content': 'Do you have a specific date and time in mind for the brunch, or should I check our calendar for availability in three weeks?'}} tool call...\n",
      "\n",
      "INTERRUPT OBJECT:\n",
      "Action Request: {'action': 'write_email', 'args': {'to': 'partner@home.com', 'subject': 'Re: Meet Jim and Lisa for brunch in 3 weeks?', 'content': 'Hi,\\n\\nI checked our calendar, and we are available for brunch on November 17th at 9:00 AM, 2:00 PM, or 4:00 PM. Let me know which time works best for you, and I can reach out to Jim and Lisa to see if they are available.\\n\\nLooking forward to it!\\n\\nBest,\\nLance'}}\n"
     ]
    }
   ],
   "source": [
    "print(f\"\\nSimulating user ignoring the {Interrupt_Object.value[0]['action_request']} tool call...\")\n",
    "for chunk in graph.stream(Command(resume=[{\"type\": \"ignore\"}]), config=thread_config_4):\n",
    "    # Inspect interrupt object if present\n",
    "    if '__interrupt__' in chunk:\n",
    "        Interrupt_Object = chunk['__interrupt__'][0]\n",
    "        print(\"\\nINTERRUPT OBJECT:\")\n",
    "        print(f\"Action Request: {Interrupt_Object.value[0]['action_request']}\")"
   ]
  },
  {
   "cell_type": "markdown",
   "id": "a3810a16",
   "metadata": {},
   "source": [
    "And just accept the `write_email` tool call"
   ]
  },
  {
   "cell_type": "code",
   "execution_count": 30,
   "id": "8ebe4f8d",
   "metadata": {},
   "outputs": [
    {
     "name": "stdout",
     "output_type": "stream",
     "text": [
      "\n",
      "Simulating user ignoring the {'action': 'write_email', 'args': {'to': 'partner@home.com', 'subject': 'Re: Meet Jim and Lisa for brunch in 3 weeks?', 'content': 'Hi,\\n\\nI checked our calendar, and we are available for brunch on November 17th at 9:00 AM, 2:00 PM, or 4:00 PM. Let me know which time works best for you, and I can reach out to Jim and Lisa to see if they are available.\\n\\nLooking forward to it!\\n\\nBest,\\nLance'}} tool call...\n",
      "==================================\u001b[1m Ai Message \u001b[0m==================================\n",
      "Tool Calls:\n",
      "  Done (call_LLLn4pbr9XYPEN9HvEWoOZ5I)\n",
      " Call ID: call_LLLn4pbr9XYPEN9HvEWoOZ5I\n",
      "  Args:\n",
      "    done: True\n"
     ]
    }
   ],
   "source": [
    "print(f\"\\nSimulating user ignoring the {Interrupt_Object.value[0]['action_request']} tool call...\")\n",
    "for chunk in graph.stream(Command(resume=[{\"type\": \"accept\"}]), config=thread_config_4):\n",
    "    # Inspect response_agent most recent message\n",
    "    if 'response_agent' in chunk:\n",
    "        chunk['response_agent']['messages'][-1].pretty_print()\n",
    "    # Inspect interrupt object if present\n",
    "    if '__interrupt__' in chunk:\n",
    "        Interrupt_Object = chunk['__interrupt__'][0]\n",
    "        print(\"\\nINTERRUPT OBJECT:\")\n",
    "        print(f\"Action Request: {Interrupt_Object.value[0]['action_request']}\")"
   ]
  },
  {
   "cell_type": "markdown",
   "id": "90c7ade4",
   "metadata": {},
   "source": [
    "Look at the full message history, and see the trace. \n",
    "\n",
    "We can see agent proceeds without user input.\n",
    "\n",
    "https://smith.langchain.com/public/8cf85d98-0418-469f-a3f4-d407e0315b5b/r"
   ]
  },
  {
   "cell_type": "code",
   "execution_count": 31,
   "id": "ef334860",
   "metadata": {},
   "outputs": [
    {
     "name": "stdout",
     "output_type": "stream",
     "text": [
      "================================\u001b[1m Human Message \u001b[0m=================================\n",
      "\n",
      "Respond to the email: \n",
      "\n",
      "**Subject**: Meet Jim and Lisa for brunch in 3 weeks?\n",
      "**From**: Partner <partner@home.com>\n",
      "**To**: Lance Martin <lance@company.com>\n",
      "\n",
      "Hey, should we invite Jim and Lisa to brunch in 3 weeks? We could go to the new place on 17th that everyone is talking about.\n",
      "\n",
      "---\n",
      "\n",
      "==================================\u001b[1m Ai Message \u001b[0m==================================\n",
      "Tool Calls:\n",
      "  Question (call_o1KzulY3brIQo2BzBiM6qeOW)\n",
      " Call ID: call_o1KzulY3brIQo2BzBiM6qeOW\n",
      "  Args:\n",
      "    content: Do you have a specific date and time in mind for the brunch, or should I check our calendar for availability in three weeks?\n",
      "=================================\u001b[1m Tool Message \u001b[0m=================================\n",
      "\n",
      "User ignored this question. Proceed with the context that you have and don't ask the user any more questions.\n",
      "==================================\u001b[1m Ai Message \u001b[0m==================================\n",
      "Tool Calls:\n",
      "  check_calendar_availability (call_e1m2LJNEbaMBGjU6K1x1GD39)\n",
      " Call ID: call_e1m2LJNEbaMBGjU6K1x1GD39\n",
      "  Args:\n",
      "    day: 2023-11-17\n",
      "=================================\u001b[1m Tool Message \u001b[0m=================================\n",
      "\n",
      "Available times on 2023-11-17: 9:00 AM, 2:00 PM, 4:00 PM\n",
      "==================================\u001b[1m Ai Message \u001b[0m==================================\n",
      "Tool Calls:\n",
      "  write_email (call_LDR17xzai8Tbjcho5twHv5jK)\n",
      " Call ID: call_LDR17xzai8Tbjcho5twHv5jK\n",
      "  Args:\n",
      "    to: partner@home.com\n",
      "    subject: Re: Meet Jim and Lisa for brunch in 3 weeks?\n",
      "    content: Hi,\n",
      "\n",
      "I checked our calendar, and we are available for brunch on November 17th at 9:00 AM, 2:00 PM, or 4:00 PM. Let me know which time works best for you, and I can reach out to Jim and Lisa to see if they are available.\n",
      "\n",
      "Looking forward to it!\n",
      "\n",
      "Best,\n",
      "Lance\n",
      "=================================\u001b[1m Tool Message \u001b[0m=================================\n",
      "\n",
      "Email sent to partner@home.com with subject 'Re: Meet Jim and Lisa for brunch in 3 weeks?' and content: Hi,\n",
      "\n",
      "I checked our calendar, and we are available for brunch on November 17th at 9:00 AM, 2:00 PM, or 4:00 PM. Let me know which time works best for you, and I can reach out to Jim and Lisa to see if they are available.\n",
      "\n",
      "Looking forward to it!\n",
      "\n",
      "Best,\n",
      "Lance\n",
      "==================================\u001b[1m Ai Message \u001b[0m==================================\n",
      "Tool Calls:\n",
      "  Done (call_LLLn4pbr9XYPEN9HvEWoOZ5I)\n",
      " Call ID: call_LLLn4pbr9XYPEN9HvEWoOZ5I\n",
      "  Args:\n",
      "    done: True\n"
     ]
    }
   ],
   "source": [
    "state = graph.get_state(thread_config_4)\n",
    "for m in state.values['messages']:\n",
    "    m.pretty_print()"
   ]
  },
  {
   "cell_type": "markdown",
   "id": "da4c39e9",
   "metadata": {},
   "source": [
    "## Respond (with feedback) `write_email`, `schedule_meeting`, and `question`\n",
    "\n",
    "This tests the user responding to `write_email`, `schedule_meeting`, and `question` tool calls with feedback."
   ]
  },
  {
   "cell_type": "code",
   "execution_count": 32,
   "id": "3c4b3517",
   "metadata": {},
   "outputs": [
    {
     "name": "stdout",
     "output_type": "stream",
     "text": [
      "Running the graph until the first interrupt...\n",
      "📧 Classification: RESPOND - This email requires a response\n",
      "\n",
      "INTERRUPT OBJECT:\n",
      "Action Request: {'action': 'schedule_meeting', 'args': {'attendees': ['pm@client.com', 'lance@company.com'], 'subject': 'Tax Planning Strategies Discussion', 'duration_minutes': 45, 'preferred_day': '2023-11-07', 'start_time': 14}}\n"
     ]
    }
   ],
   "source": [
    "# Respond - Meeting Request Email\n",
    "email_input_respond = {\n",
    "    \"to\": \"Lance Martin <lance@company.com>\",\n",
    "    \"author\": \"Project Manager <pm@client.com>\",\n",
    "    \"subject\": \"Tax season let's schedule call\",\n",
    "    \"email_thread\": \"Lance,\\n\\nIt's tax season again, and I wanted to schedule a call to discuss your tax planning strategies for this year. I have some suggestions that could potentially save you money.\\n\\nAre you available sometime next week? Tuesday or Thursday afternoon would work best for me, for about 45 minutes.\\n\\nRegards,\\nProject Manager\"\n",
    "}\n",
    "\n",
    "# Compile the graph\n",
    "checkpointer = MemorySaver()\n",
    "graph = overall_workflow.compile(checkpointer=checkpointer)\n",
    "thread_id_5 = uuid.uuid4()\n",
    "thread_config_5 = {\"configurable\": {\"thread_id\": thread_id_5}}\n",
    "\n",
    "# Run the graph until the first interrupt \n",
    "# Email will be classified as \"respond\" \n",
    "# Agent will create a schedule_meeting and write_email tool call\n",
    "print(\"Running the graph until the first interrupt...\")\n",
    "for chunk in graph.stream({\"email_input\": email_input_respond}, config=thread_config_5):\n",
    "    # Inspect interrupt object if present\n",
    "    if '__interrupt__' in chunk:\n",
    "        Interrupt_Object = chunk['__interrupt__'][0]\n",
    "        print(\"\\nINTERRUPT OBJECT:\")\n",
    "        print(f\"Action Request: {Interrupt_Object.value[0]['action_request']}\")"
   ]
  },
  {
   "cell_type": "markdown",
   "id": "ae2bea0a",
   "metadata": {},
   "source": [
    "Provide feedback for the `schedule_meeting` tool call"
   ]
  },
  {
   "cell_type": "code",
   "execution_count": 33,
   "id": "9a916e10",
   "metadata": {},
   "outputs": [
    {
     "name": "stdout",
     "output_type": "stream",
     "text": [
      "\n",
      "Simulating user providing feedback for the schedule_meeting tool call...\n",
      "\n",
      "INTERRUPT OBJECT:\n",
      "Action Request: {'action': 'schedule_meeting', 'args': {'attendees': ['pm@client.com', 'lance@company.com'], 'subject': 'Tax Planning Strategies Discussion', 'duration_minutes': 30, 'preferred_day': '2023-11-07', 'start_time': 14}}\n"
     ]
    }
   ],
   "source": [
    "print(f\"\\nSimulating user providing feedback for the {Interrupt_Object.value[0]['action_request']['action']} tool call...\")\n",
    "for chunk in graph.stream(Command(resume=[{\"type\": \"response\", \"args\": \"Please schedule this for 30 minutes instead of 45 minutes, and I prefer afternoon meetings after 2pm.\"}]), config=thread_config_5):\n",
    "    # Inspect interrupt object if present\n",
    "    if '__interrupt__' in chunk:\n",
    "        Interrupt_Object = chunk['__interrupt__'][0]\n",
    "        print(\"\\nINTERRUPT OBJECT:\")\n",
    "        print(f\"Action Request: {Interrupt_Object.value[0]['action_request']}\")"
   ]
  },
  {
   "cell_type": "markdown",
   "id": "cf35f1a2",
   "metadata": {},
   "source": [
    "Accept the `schedule_meeting` tool call after providing feedback"
   ]
  },
  {
   "cell_type": "code",
   "execution_count": 34,
   "id": "2727fb0e",
   "metadata": {},
   "outputs": [
    {
     "name": "stdout",
     "output_type": "stream",
     "text": [
      "\n",
      "Simulating user accepting the {'action': 'schedule_meeting', 'args': {'attendees': ['pm@client.com', 'lance@company.com'], 'subject': 'Tax Planning Strategies Discussion', 'duration_minutes': 30, 'preferred_day': '2023-11-07', 'start_time': 14}} tool call...\n",
      "\n",
      "INTERRUPT OBJECT:\n",
      "Action Request: {'action': 'write_email', 'args': {'to': 'pm@client.com', 'subject': \"Re: Tax season let's schedule call\", 'content': \"Hello,\\n\\nThank you for reaching out regarding tax planning strategies. I've scheduled a call for us on Tuesday, November 7th, at 2:00 PM for 30 minutes. I look forward to discussing your suggestions and exploring potential savings.\\n\\nBest regards,\\n\\nLance Martin\"}}\n"
     ]
    }
   ],
   "source": [
    "print(f\"\\nSimulating user accepting the {Interrupt_Object.value[0]['action_request']} tool call...\")\n",
    "for chunk in graph.stream(Command(resume=[{\"type\": \"accept\"}]), config=thread_config_5):\n",
    "    # Inspect interrupt object if present\n",
    "    if '__interrupt__' in chunk:\n",
    "        Interrupt_Object = chunk['__interrupt__'][0]\n",
    "        print(\"\\nINTERRUPT OBJECT:\")\n",
    "        print(f\"Action Request: {Interrupt_Object.value[0]['action_request']}\")"
   ]
  },
  {
   "cell_type": "markdown",
   "id": "3ca470c5",
   "metadata": {},
   "source": [
    "Now provide feedback for the `write_email` tool call"
   ]
  },
  {
   "cell_type": "code",
   "execution_count": 35,
   "id": "f5221d87",
   "metadata": {},
   "outputs": [
    {
     "name": "stdout",
     "output_type": "stream",
     "text": [
      "\n",
      "Simulating user providing feedback for the write_email tool call...\n",
      "\n",
      "INTERRUPT OBJECT:\n",
      "Action Request: {'action': 'write_email', 'args': {'to': 'pm@client.com', 'subject': \"Re: Tax season let's schedule call\", 'content': \"Hi,\\n\\nI've set up a call for us on Tuesday, November 7th, at 2:00 PM for 30 minutes. Looking forward to hearing your suggestions!\\n\\nBest,\\nLance\"}}\n"
     ]
    }
   ],
   "source": [
    "print(f\"\\nSimulating user providing feedback for the {Interrupt_Object.value[0]['action_request']['action']} tool call...\")\n",
    "for chunk in graph.stream(Command(resume=[{\"type\": \"response\", \"args\": \"Shorter and less formal. Include a closing statement about looking forward to the meeting!\"}]), config=thread_config_5):\n",
    "    # Inspect response_agent most recent message\n",
    "    if 'response_agent' in chunk:\n",
    "        chunk['response_agent']['messages'][-1].pretty_print()\n",
    "    # Inspect interrupt object if present\n",
    "    if '__interrupt__' in chunk:\n",
    "        Interrupt_Object = chunk['__interrupt__'][0]\n",
    "        print(\"\\nINTERRUPT OBJECT:\")\n",
    "        print(f\"Action Request: {Interrupt_Object.value[0]['action_request']}\")"
   ]
  },
  {
   "cell_type": "markdown",
   "id": "1266ec72",
   "metadata": {},
   "source": [
    "Accept the `write_email` tool call after providing feedback"
   ]
  },
  {
   "cell_type": "code",
   "execution_count": 36,
   "id": "0b4698c0",
   "metadata": {},
   "outputs": [
    {
     "name": "stdout",
     "output_type": "stream",
     "text": [
      "\n",
      "Simulating user accepting the {'action': 'write_email', 'args': {'to': 'pm@client.com', 'subject': \"Re: Tax season let's schedule call\", 'content': \"Hi,\\n\\nI've set up a call for us on Tuesday, November 7th, at 2:00 PM for 30 minutes. Looking forward to hearing your suggestions!\\n\\nBest,\\nLance\"}} tool call...\n"
     ]
    }
   ],
   "source": [
    "print(f\"\\nSimulating user accepting the {Interrupt_Object.value[0]['action_request']} tool call...\")\n",
    "for chunk in graph.stream(Command(resume=[{\"type\": \"accept\"}]), config=thread_config_5):\n",
    "    # Inspect interrupt object if present\n",
    "    if '__interrupt__' in chunk:\n",
    "        Interrupt_Object = chunk['__interrupt__'][0]\n",
    "        print(\"\\nINTERRUPT OBJECT:\")\n",
    "        print(f\"Action Request: {Interrupt_Object.value[0]['action_request']}\")"
   ]
  },
  {
   "cell_type": "markdown",
   "id": "c270f52a",
   "metadata": {},
   "source": [
    "Look at the full message history, and see the trace:\n",
    "\n",
    "https://smith.langchain.com/public/57006770-6bb3-4e40-b990-143c373ebe60/r\n",
    "\n",
    "We can see that user feedback in incorporated into the tool calls.  "
   ]
  },
  {
   "cell_type": "code",
   "execution_count": 37,
   "id": "1daf10d6",
   "metadata": {},
   "outputs": [
    {
     "name": "stdout",
     "output_type": "stream",
     "text": [
      "================================\u001b[1m Human Message \u001b[0m=================================\n",
      "\n",
      "Respond to the email: \n",
      "\n",
      "**Subject**: Tax season let's schedule call\n",
      "**From**: Project Manager <pm@client.com>\n",
      "**To**: Lance Martin <lance@company.com>\n",
      "\n",
      "Lance,\n",
      "\n",
      "It's tax season again, and I wanted to schedule a call to discuss your tax planning strategies for this year. I have some suggestions that could potentially save you money.\n",
      "\n",
      "Are you available sometime next week? Tuesday or Thursday afternoon would work best for me, for about 45 minutes.\n",
      "\n",
      "Regards,\n",
      "Project Manager\n",
      "\n",
      "---\n",
      "\n",
      "==================================\u001b[1m Ai Message \u001b[0m==================================\n",
      "Tool Calls:\n",
      "  check_calendar_availability (call_U1A4PQ3qm49OJWYsXDc8Y2B6)\n",
      " Call ID: call_U1A4PQ3qm49OJWYsXDc8Y2B6\n",
      "  Args:\n",
      "    day: 2023-11-07\n",
      "  check_calendar_availability (call_AYI8HMI4ukCmR1kGyCKbzkDG)\n",
      " Call ID: call_AYI8HMI4ukCmR1kGyCKbzkDG\n",
      "  Args:\n",
      "    day: 2023-11-09\n",
      "=================================\u001b[1m Tool Message \u001b[0m=================================\n",
      "\n",
      "Available times on 2023-11-07: 9:00 AM, 2:00 PM, 4:00 PM\n",
      "=================================\u001b[1m Tool Message \u001b[0m=================================\n",
      "\n",
      "Available times on 2023-11-09: 9:00 AM, 2:00 PM, 4:00 PM\n",
      "==================================\u001b[1m Ai Message \u001b[0m==================================\n",
      "Tool Calls:\n",
      "  schedule_meeting (call_sfqJ2pRtNCfEgvNMVA66MwOq)\n",
      " Call ID: call_sfqJ2pRtNCfEgvNMVA66MwOq\n",
      "  Args:\n",
      "    attendees: ['pm@client.com', 'lance@company.com']\n",
      "    subject: Tax Planning Strategies Discussion\n",
      "    duration_minutes: 45\n",
      "    preferred_day: 2023-11-07\n",
      "    start_time: 14\n",
      "=================================\u001b[1m Tool Message \u001b[0m=================================\n",
      "\n",
      "User gave feedback, which can we incorporate into the meeting request. Feedback: Please schedule this for 30 minutes instead of 45 minutes, and I prefer afternoon meetings after 2pm.\n",
      "==================================\u001b[1m Ai Message \u001b[0m==================================\n",
      "Tool Calls:\n",
      "  schedule_meeting (call_M1NttsoYU7HCrfAenjWK52vu)\n",
      " Call ID: call_M1NttsoYU7HCrfAenjWK52vu\n",
      "  Args:\n",
      "    attendees: ['pm@client.com', 'lance@company.com']\n",
      "    subject: Tax Planning Strategies Discussion\n",
      "    duration_minutes: 30\n",
      "    preferred_day: 2023-11-07\n",
      "    start_time: 14\n",
      "=================================\u001b[1m Tool Message \u001b[0m=================================\n",
      "\n",
      "Meeting 'Tax Planning Strategies Discussion' scheduled on 2023-11-07 at 14 for 30 minutes with 2 attendees\n",
      "==================================\u001b[1m Ai Message \u001b[0m==================================\n",
      "Tool Calls:\n",
      "  write_email (call_59vZgMPyw5sXDdjwRnQQiZm8)\n",
      " Call ID: call_59vZgMPyw5sXDdjwRnQQiZm8\n",
      "  Args:\n",
      "    to: pm@client.com\n",
      "    subject: Re: Tax season let's schedule call\n",
      "    content: Hello,\n",
      "\n",
      "Thank you for reaching out regarding tax planning strategies. I've scheduled a call for us on Tuesday, November 7th, at 2:00 PM for 30 minutes. I look forward to discussing your suggestions and exploring potential savings.\n",
      "\n",
      "Best regards,\n",
      "\n",
      "Lance Martin\n",
      "=================================\u001b[1m Tool Message \u001b[0m=================================\n",
      "\n",
      "User gave feedback, which can we incorporate into the email. Feedback: Shorter and less formal. Include a closing statement about looking forward to the meeting!\n",
      "==================================\u001b[1m Ai Message \u001b[0m==================================\n",
      "Tool Calls:\n",
      "  write_email (call_ZOnCPkuOq0GD3FltfoLCE0Ec)\n",
      " Call ID: call_ZOnCPkuOq0GD3FltfoLCE0Ec\n",
      "  Args:\n",
      "    to: pm@client.com\n",
      "    subject: Re: Tax season let's schedule call\n",
      "    content: Hi,\n",
      "\n",
      "I've set up a call for us on Tuesday, November 7th, at 2:00 PM for 30 minutes. Looking forward to hearing your suggestions!\n",
      "\n",
      "Best,\n",
      "Lance\n",
      "=================================\u001b[1m Tool Message \u001b[0m=================================\n",
      "\n",
      "Email sent to pm@client.com with subject 'Re: Tax season let's schedule call' and content: Hi,\n",
      "\n",
      "I've set up a call for us on Tuesday, November 7th, at 2:00 PM for 30 minutes. Looking forward to hearing your suggestions!\n",
      "\n",
      "Best,\n",
      "Lance\n",
      "==================================\u001b[1m Ai Message \u001b[0m==================================\n",
      "Tool Calls:\n",
      "  Done (call_74mPqIh6bv8JT7RRY8H2zNev)\n",
      " Call ID: call_74mPqIh6bv8JT7RRY8H2zNev\n",
      "  Args:\n",
      "    done: True\n"
     ]
    }
   ],
   "source": [
    "state = graph.get_state(thread_config_5)\n",
    "for m in state.values['messages']:\n",
    "    m.pretty_print()"
   ]
  },
  {
   "cell_type": "markdown",
   "id": "1d964e36",
   "metadata": {},
   "source": [
    "Now let's try an email that calls the `Question` tool to provide feedback."
   ]
  },
  {
   "cell_type": "code",
   "execution_count": 38,
   "id": "8827632a",
   "metadata": {},
   "outputs": [
    {
     "name": "stdout",
     "output_type": "stream",
     "text": [
      "Running the graph until the first interrupt...\n",
      "📧 Classification: RESPOND - This email requires a response\n",
      "\n",
      "INTERRUPT OBJECT:\n",
      "Action Request: {'action': 'Question', 'args': {'content': 'What day and time are you considering for the brunch in 3 weeks? I can check my calendar for availability and confirm.'}}\n"
     ]
    }
   ],
   "source": [
    "# Respond - Meeting Request Email\n",
    "email_input_respond = {\n",
    "    \"to\": \"Lance Martin <lance@company.com>\",\n",
    "    \"author\": \"Partner <partner@home.com>\",\n",
    "    \"subject\": \"Meet Jim and Lisa for brunch in 3 weeks?\",\n",
    "    \"email_thread\": \"Hey, should we invite Jim and Lisa to brunch in 3 weeks? We could go to the new place on 17th that everyone is talking about.\"\n",
    "}\n",
    "\n",
    "# Compile the graph\n",
    "checkpointer = MemorySaver()\n",
    "graph = overall_workflow.compile(checkpointer=checkpointer)\n",
    "thread_id_6 = uuid.uuid4()\n",
    "thread_config_6 = {\"configurable\": {\"thread_id\": thread_id_6}}\n",
    "\n",
    "# Run the graph until the first interrupt\n",
    "print(\"Running the graph until the first interrupt...\")\n",
    "for chunk in graph.stream({\"email_input\": email_input_respond}, config=thread_config_6):\n",
    "    # Inspect interrupt object if present\n",
    "    if '__interrupt__' in chunk:\n",
    "        Interrupt_Object = chunk['__interrupt__'][0]\n",
    "        print(\"\\nINTERRUPT OBJECT:\")\n",
    "        print(f\"Action Request: {Interrupt_Object.value[0]['action_request']}\")"
   ]
  },
  {
   "cell_type": "markdown",
   "id": "1d9f7f1b",
   "metadata": {},
   "source": [
    "Provide feedback for the `Question` tool call"
   ]
  },
  {
   "cell_type": "code",
   "execution_count": 39,
   "id": "4979effd",
   "metadata": {},
   "outputs": [
    {
     "name": "stdout",
     "output_type": "stream",
     "text": [
      "\n",
      "Simulating user providing feedback for the Question tool call...\n",
      "\n",
      "INTERRUPT OBJECT:\n",
      "Action Request: {'action': 'write_email', 'args': {'to': 'partner@home.com', 'subject': 'Re: Meet Jim and Lisa for brunch in 3 weeks?', 'content': \"Hi,\\n\\nYes, let's definitely invite Jim and Lisa for brunch. I'll check my calendar to confirm which weekend works best for us. Also, since the new place on 17th is quite popular, we'll need to make a reservation in advance.\\n\\nI'll get back to you shortly with the details.\\n\\nBest,\\nLance\"}}\n"
     ]
    }
   ],
   "source": [
    "print(f\"\\nSimulating user providing feedback for the {Interrupt_Object.value[0]['action_request']['action']} tool call...\")\n",
    "for chunk in graph.stream(Command(resume=[{\"type\": \"response\", \"args\": \"Yes, let's invite them, but let me confirm which weekend works best. Also mention that we'll need to make a reservation since that place is popular.\"}]), config=thread_config_6):\n",
    "    # Inspect interrupt object if present\n",
    "    if '__interrupt__' in chunk:\n",
    "        Interrupt_Object = chunk['__interrupt__'][0]\n",
    "        print(\"\\nINTERRUPT OBJECT:\")\n",
    "        print(f\"Action Request: {Interrupt_Object.value[0]['action_request']}\")"
   ]
  },
  {
   "cell_type": "markdown",
   "id": "76b4ba9b",
   "metadata": {},
   "source": [
    "Accept the `write_email` tool call"
   ]
  },
  {
   "cell_type": "code",
   "execution_count": 40,
   "id": "bfd34ec2",
   "metadata": {},
   "outputs": [
    {
     "name": "stdout",
     "output_type": "stream",
     "text": [
      "\n",
      "Simulating user accepting the write_email tool call...\n",
      "==================================\u001b[1m Ai Message \u001b[0m==================================\n",
      "Tool Calls:\n",
      "  Done (call_9tqjOJ3AQHs0kTKBQWLc1YEK)\n",
      " Call ID: call_9tqjOJ3AQHs0kTKBQWLc1YEK\n",
      "  Args:\n",
      "    done: True\n"
     ]
    }
   ],
   "source": [
    "print(f\"\\nSimulating user accepting the {Interrupt_Object.value[0]['action_request']['action']} tool call...\")\n",
    "for chunk in graph.stream(Command(resume=[{\"type\": \"accept\"}]), config=thread_config_6):\n",
    "    # Inspect response_agent most recent message\n",
    "    if 'response_agent' in chunk:\n",
    "        chunk['response_agent']['messages'][-1].pretty_print()\n",
    "    # Inspect interrupt object if present\n",
    "    if '__interrupt__' in chunk:\n",
    "        Interrupt_Object = chunk['__interrupt__'][0]\n",
    "        print(\"\\nINTERRUPT OBJECT:\")\n",
    "        print(f\"Action Request: {Interrupt_Object.value[0]['action_request']}\")"
   ]
  },
  {
   "cell_type": "markdown",
   "id": "e214fe9e",
   "metadata": {},
   "source": [
    "Look at the full message history, and see the trace:\n",
    "\n",
    "https://smith.langchain.com/public/f4c727c3-b1d9-47a5-b3d0-3451619db8a2/r\n",
    "\n",
    "We can see that user feedback in incorporated into the email response."
   ]
  },
  {
   "cell_type": "code",
   "execution_count": 41,
   "id": "070393eb",
   "metadata": {},
   "outputs": [
    {
     "name": "stdout",
     "output_type": "stream",
     "text": [
      "================================\u001b[1m Human Message \u001b[0m=================================\n",
      "\n",
      "Respond to the email: \n",
      "\n",
      "**Subject**: Meet Jim and Lisa for brunch in 3 weeks?\n",
      "**From**: Partner <partner@home.com>\n",
      "**To**: Lance Martin <lance@company.com>\n",
      "\n",
      "Hey, should we invite Jim and Lisa to brunch in 3 weeks? We could go to the new place on 17th that everyone is talking about.\n",
      "\n",
      "---\n",
      "\n",
      "==================================\u001b[1m Ai Message \u001b[0m==================================\n",
      "Tool Calls:\n",
      "  Question (call_uIFMRcTx5hAX0Xc8LTD9eb0A)\n",
      " Call ID: call_uIFMRcTx5hAX0Xc8LTD9eb0A\n",
      "  Args:\n",
      "    content: What day and time are you considering for the brunch in 3 weeks? I can check my calendar for availability and confirm.\n",
      "=================================\u001b[1m Tool Message \u001b[0m=================================\n",
      "\n",
      "User answered the question, which can we can use for any follow up actions. Feedback: Yes, let's invite them, but let me confirm which weekend works best. Also mention that we'll need to make a reservation since that place is popular.\n",
      "==================================\u001b[1m Ai Message \u001b[0m==================================\n",
      "Tool Calls:\n",
      "  write_email (call_ffXYHSl1VrpDcjbQPBrwfbWF)\n",
      " Call ID: call_ffXYHSl1VrpDcjbQPBrwfbWF\n",
      "  Args:\n",
      "    to: partner@home.com\n",
      "    subject: Re: Meet Jim and Lisa for brunch in 3 weeks?\n",
      "    content: Hi,\n",
      "\n",
      "Yes, let's definitely invite Jim and Lisa for brunch. I'll check my calendar to confirm which weekend works best for us. Also, since the new place on 17th is quite popular, we'll need to make a reservation in advance.\n",
      "\n",
      "I'll get back to you shortly with the details.\n",
      "\n",
      "Best,\n",
      "Lance\n",
      "=================================\u001b[1m Tool Message \u001b[0m=================================\n",
      "\n",
      "Email sent to partner@home.com with subject 'Re: Meet Jim and Lisa for brunch in 3 weeks?' and content: Hi,\n",
      "\n",
      "Yes, let's definitely invite Jim and Lisa for brunch. I'll check my calendar to confirm which weekend works best for us. Also, since the new place on 17th is quite popular, we'll need to make a reservation in advance.\n",
      "\n",
      "I'll get back to you shortly with the details.\n",
      "\n",
      "Best,\n",
      "Lance\n",
      "==================================\u001b[1m Ai Message \u001b[0m==================================\n",
      "Tool Calls:\n",
      "  Done (call_9tqjOJ3AQHs0kTKBQWLc1YEK)\n",
      " Call ID: call_9tqjOJ3AQHs0kTKBQWLc1YEK\n",
      "  Args:\n",
      "    done: True\n"
     ]
    }
   ],
   "source": [
    "state = graph.get_state(thread_config_6)\n",
    "for m in state.values['messages']:\n",
    "    m.pretty_print()"
   ]
  },
  {
   "cell_type": "markdown",
   "id": "8036348c",
   "metadata": {},
   "source": [
    "## Test Case for Notify Classification\n",
    "\n",
    "This test simulates an email that gets classified as \"notify\" and the user decides to respond with feedback."
   ]
  },
  {
   "cell_type": "code",
   "execution_count": 42,
   "id": "930e86cf",
   "metadata": {},
   "outputs": [
    {
     "name": "stdout",
     "output_type": "stream",
     "text": [
      "Running the graph until the first interrupt...\n",
      "🔔 Classification: NOTIFY - This email contains important information\n",
      "\n",
      "INTERRUPT OBJECT:\n",
      "Action Request: {'action': 'Email Assistant: notify', 'args': {}}\n"
     ]
    }
   ],
   "source": [
    "# Notify - Important FYI Email\n",
    "email_input_notify = {\n",
    "    \"to\": \"Team Members <team@company.com>\",\n",
    "    \"author\": \"IT Department <it@company.com>\",\n",
    "    \"subject\": \"Critical Security Update\",\n",
    "    \"email_thread\": \"Dear Team,\\n\\nThis is an important security notification. We will be updating our authentication system this weekend. During the update window (Saturday 2am-4am), you will not be able to access company resources.\\n\\nPlease ensure you log out of all systems before the maintenance window.\\n\\nRegards,\\nIT Department\"\n",
    "}\n",
    "\n",
    "# Compile the graph with new thread\n",
    "checkpointer = MemorySaver()\n",
    "graph = overall_workflow.compile(checkpointer=checkpointer)\n",
    "thread_id_7 = uuid.uuid4()\n",
    "thread_config_7 = {\"configurable\": {\"thread_id\": thread_id_7}}\n",
    "\n",
    "# Run the graph until the first interrupt - should be classified as \"notify\"\n",
    "print(\"Running the graph until the first interrupt...\")\n",
    "for chunk in graph.stream({\"email_input\": email_input_notify}, config=thread_config_7):\n",
    "    # Inspect interrupt object if present\n",
    "    if '__interrupt__' in chunk:\n",
    "        Interrupt_Object = chunk['__interrupt__'][0]\n",
    "        print(\"\\nINTERRUPT OBJECT:\")\n",
    "        print(f\"Action Request: {Interrupt_Object.value[0]['action_request']}\")"
   ]
  },
  {
   "cell_type": "markdown",
   "id": "c3d062bb",
   "metadata": {},
   "source": [
    "Now simulate user deciding to respond with feedback."
   ]
  },
  {
   "cell_type": "code",
   "execution_count": 43,
   "id": "6bd027a4",
   "metadata": {},
   "outputs": [
    {
     "name": "stdout",
     "output_type": "stream",
     "text": [
      "\n",
      "Simulating user deciding to respond with feedback...\n",
      "\n",
      "INTERRUPT OBJECT:\n",
      "Action Request: {'action': 'write_email', 'args': {'to': 'it@company.com', 'subject': 'Re: Critical Security Update', 'content': 'Dear IT Department,\\n\\nThank you for the important security update notification. I acknowledge receipt of this notice and will ensure that I am logged out of all systems before the maintenance window begins.\\n\\nBest regards,\\nLance'}}\n"
     ]
    }
   ],
   "source": [
    "print(\"\\nSimulating user deciding to respond with feedback...\")\n",
    "for chunk in graph.stream(Command(resume=[{\"type\": \"response\", \"args\": \"We should acknowledge receipt of this important notice and confirm that we'll be logged out before the maintenance window.\"}]), config=thread_config_7):\n",
    "    # Inspect interrupt object if present\n",
    "    if '__interrupt__' in chunk:\n",
    "        Interrupt_Object = chunk['__interrupt__'][0]\n",
    "        print(\"\\nINTERRUPT OBJECT:\")\n",
    "        print(f\"Action Request: {Interrupt_Object.value[0]['action_request']}\")"
   ]
  },
  {
   "cell_type": "markdown",
   "id": "e84de751",
   "metadata": {},
   "source": [
    "Accept the `write_email` tool call after feedback."
   ]
  },
  {
   "cell_type": "code",
   "execution_count": 44,
   "id": "073642cd",
   "metadata": {},
   "outputs": [
    {
     "name": "stdout",
     "output_type": "stream",
     "text": [
      "\n",
      "Simulating user accepting the {'action': 'write_email', 'args': {'to': 'it@company.com', 'subject': 'Re: Critical Security Update', 'content': 'Dear IT Department,\\n\\nThank you for the important security update notification. I acknowledge receipt of this notice and will ensure that I am logged out of all systems before the maintenance window begins.\\n\\nBest regards,\\nLance'}} tool call...\n"
     ]
    }
   ],
   "source": [
    "print(f\"\\nSimulating user accepting the {Interrupt_Object.value[0]['action_request']} tool call...\")\n",
    "for chunk in graph.stream(Command(resume=[{\"type\": \"accept\"}]), config=thread_config_7):\n",
    "    # Inspect interrupt object if present\n",
    "    if '__interrupt__' in chunk:\n",
    "        Interrupt_Object = chunk['__interrupt__'][0]\n",
    "        print(\"\\nINTERRUPT OBJECT:\")\n",
    "        print(f\"Action Request: {Interrupt_Object.value[0]['action_request']}\")"
   ]
  },
  {
   "cell_type": "markdown",
   "id": "b270fa6c",
   "metadata": {},
   "source": [
    "Look at the full message history, and see the trace:\n",
    "\n",
    "https://smith.langchain.com/public/6594f98f-eb83-4560-9c34-28ec22ada3dc/r\n",
    "\n",
    "We can see that user feedback causes agent to go reply to the email."
   ]
  },
  {
   "cell_type": "code",
   "execution_count": 45,
   "id": "a1bbc9b7",
   "metadata": {},
   "outputs": [
    {
     "name": "stdout",
     "output_type": "stream",
     "text": [
      "================================\u001b[1m Human Message \u001b[0m=================================\n",
      "\n",
      "Email to notify user about: \n",
      "\n",
      "**Subject**: Critical Security Update\n",
      "**From**: IT Department <it@company.com>\n",
      "**To**: Team Members <team@company.com>\n",
      "\n",
      "Dear Team,\n",
      "\n",
      "This is an important security notification. We will be updating our authentication system this weekend. During the update window (Saturday 2am-4am), you will not be able to access company resources.\n",
      "\n",
      "Please ensure you log out of all systems before the maintenance window.\n",
      "\n",
      "Regards,\n",
      "IT Department\n",
      "\n",
      "---\n",
      "\n",
      "================================\u001b[1m Human Message \u001b[0m=================================\n",
      "\n",
      "User wants to reply to the email. Use this feedback to respond: We should acknowledge receipt of this important notice and confirm that we'll be logged out before the maintenance window.\n",
      "==================================\u001b[1m Ai Message \u001b[0m==================================\n",
      "Tool Calls:\n",
      "  write_email (call_0YzR0aORrsTua5qZu6I3NjU4)\n",
      " Call ID: call_0YzR0aORrsTua5qZu6I3NjU4\n",
      "  Args:\n",
      "    to: it@company.com\n",
      "    subject: Re: Critical Security Update\n",
      "    content: Dear IT Department,\n",
      "\n",
      "Thank you for the important security update notification. I acknowledge receipt of this notice and will ensure that I am logged out of all systems before the maintenance window begins.\n",
      "\n",
      "Best regards,\n",
      "Lance\n",
      "=================================\u001b[1m Tool Message \u001b[0m=================================\n",
      "\n",
      "Email sent to it@company.com with subject 'Re: Critical Security Update' and content: Dear IT Department,\n",
      "\n",
      "Thank you for the important security update notification. I acknowledge receipt of this notice and will ensure that I am logged out of all systems before the maintenance window begins.\n",
      "\n",
      "Best regards,\n",
      "Lance\n",
      "==================================\u001b[1m Ai Message \u001b[0m==================================\n",
      "Tool Calls:\n",
      "  Done (call_3mqGNM6m95iAkHW875QYCbSd)\n",
      " Call ID: call_3mqGNM6m95iAkHW875QYCbSd\n",
      "  Args:\n",
      "    done: True\n"
     ]
    }
   ],
   "source": [
    "state = graph.get_state(thread_config_7)\n",
    "for m in state.values['messages']:\n",
    "    m.pretty_print()"
   ]
  },
  {
   "cell_type": "markdown",
   "id": "318fce72",
   "metadata": {},
   "source": [
    "## Test Case for Notify + Ignore\n",
    "\n",
    "This test simulates an email that gets classified as \"notify\" and the user decides to ignore it."
   ]
  },
  {
   "cell_type": "code",
   "execution_count": null,
   "id": "ff23e6e7",
   "metadata": {},
   "outputs": [],
   "source": [
    "# Notify - Important FYI Email\n",
    "email_input_notify = {\n",
    "    \"to\": \"Team Members <team@company.com>\",\n",
    "    \"author\": \"HR Department <hr@company.com>\",\n",
    "    \"subject\": \"Company Picnic Next Month\",\n",
    "    \"email_thread\": \"Dear Team,\\n\\nWe're planning the annual company picnic for next month. The tentative date is Saturday, June 15th from noon to 4pm at Central Park. There will be food, games, and activities for families.\\n\\nMore details will follow in the coming weeks.\\n\\nRegards,\\nHR Department\"\n",
    "}\n",
    "\n",
    "# Compile the graph with new thread\n",
    "checkpointer = MemorySaver()\n",
    "graph = overall_workflow.compile(checkpointer=checkpointer)\n",
    "thread_id_8 = uuid.uuid4()\n",
    "thread_config_8 = {\"configurable\": {\"thread_id\": thread_id_8}}\n",
    "\n",
    "# Run the graph until the first interrupt - should be classified as \"notify\"\n",
    "print(\"Running the graph until the first interrupt...\")\n",
    "for chunk in graph.stream({\"email_input\": email_input_notify}, config=thread_config_8):\n",
    "    # Inspect interrupt object if present\n",
    "    if '__interrupt__' in chunk:\n",
    "        Interrupt_Object = chunk['__interrupt__'][0]\n",
    "        print(\"\\nINTERRUPT OBJECT:\")\n",
    "        print(f\"Action Request: {Interrupt_Object.value[0]['action_request']}\")"
   ]
  },
  {
   "cell_type": "markdown",
   "id": "8b44290b",
   "metadata": {},
   "source": [
    "Now simulate user deciding to ignore the notification."
   ]
  },
  {
   "cell_type": "code",
   "execution_count": null,
   "id": "d17d9526",
   "metadata": {},
   "outputs": [],
   "source": [
    "print(\"\\nSimulating user deciding to ignore the notification...\")\n",
    "for chunk in graph.stream(Command(resume=[{\"type\": \"ignore\"}]), config=thread_config_8):\n",
    "    # Inspect interrupt object if present\n",
    "    if '__interrupt__' in chunk:\n",
    "        Interrupt_Object = chunk['__interrupt__'][0]\n",
    "        print(\"\\nINTERRUPT OBJECT:\")\n",
    "        print(f\"Action Request: {Interrupt_Object.value[0]['action_request']}\")"
   ]
  },
  {
   "cell_type": "markdown",
   "id": "0d7269bb",
   "metadata": {},
   "source": [
    "Look at the full message history."
   ]
  },
  {
   "cell_type": "code",
   "execution_count": null,
   "id": "ae5dbaba",
   "metadata": {},
   "outputs": [],
   "source": [
    "state = graph.get_state(thread_config_8)\n",
    "for m in state.values['messages']:\n",
    "    m.pretty_print()"
   ]
  },
  {
   "cell_type": "markdown",
   "id": "da5a2b66",
   "metadata": {},
   "source": [
    "## Testing with Local Deployment\n",
    "\n",
    "You can find this graph in the `src/email_assistant` directory:\n",
    "\n",
    "* `src/email_assistant/email_assistant_hitl.py`\n",
    "\n",
    "You can test it locally in LangGraph Studio by running:"
   ]
  },
  {
   "cell_type": "code",
   "execution_count": null,
   "id": "d49a57e4",
   "metadata": {},
   "outputs": [],
   "source": [
    "! langgraph dev"
   ]
  },
  {
   "cell_type": "markdown",
   "id": "f68c776e",
   "metadata": {
    "lines_to_next_cell": 0
   },
   "source": [
    "Example e-mail you can test:"
   ]
  },
  {
   "cell_type": "code",
   "execution_count": null,
   "id": "5954f0e2",
   "metadata": {},
   "outputs": [],
   "source": [
    "email_input = {\n",
    "  \"author\": \"Alice Smith <alice.smith@company.com>\",\n",
    "  \"to\": \"John Doe <john.doe@company.com>\",\n",
    "  \"subject\": \"Quick question about API documentation\",\n",
    "  \"email_thread\": \"Hi John,\\nI was reviewing the API documentation for the new authentication service and noticed a few endpoints seem to be missing from the specs. Could you help clarify if this was intentional or if we should update the docs?\\nSpecifically, I'm looking at:\\n- /auth/refresh\\n- /auth/validate\\nThanks!\\nAlice\"\n",
    "}"
   ]
  },
  {
   "cell_type": "markdown",
   "id": "afb1be24",
   "metadata": {},
   "source": [
    "When you submit the e-mail, you will see the interrupt in Studio. This displays the full `request` object that was passed to the `interrupt` function.\n",
    "\n",
    "![studio-img](img/studio-interrupt.png)\n",
    " \n",
    "If you go to [dev.agentinbox.ai](https://dev.agentinbox.ai/), you can add the graph url:\n",
    "   * Graph name: the name from the `langgraph.json` file (`email_assistant_hitl`)\n",
    "   * Graph URL: `http://127.0.0.1:2024/`\n",
    "\n",
    "All interrupted threads run will be visible. Any e-mail triaged to `Notify` will be displayed in Agent Inbox with the action request in `triage_interrupt_handler`, allowing you to ignore or respond with feedback. In addition, any email marked with `Respond` will be displayed in Agent Inbox with the action request in `interrupt_handler`, allowing you to review tool calls from `[\"write_email\", \"schedule_meeting\", \"Question\"]`.\n",
    "\n",
    "![agent-inbox-img](img/agent-inbox.png)\n",
    "\n",
    "In the case of `write_email`, you can fully edit the e-mail content, accept it as-is, ignore it, or provide feedback as specified in the `config` argument:"
   ]
  },
  {
   "cell_type": "code",
   "execution_count": null,
   "id": "db39f593",
   "metadata": {},
   "outputs": [],
   "source": [
    "config = {\n",
    "    \"allow_ignore\": True,\n",
    "    \"allow_respond\": True,\n",
    "    \"allow_edit\": True,\n",
    "    \"allow_accept\": True,\n",
    "}"
   ]
  },
  {
   "cell_type": "markdown",
   "id": "0320be47",
   "metadata": {},
   "source": [
    "![agent-inbox-img](img/agent-inbox-draft.png)"
   ]
  }
 ],
 "metadata": {
  "jupytext": {
   "cell_metadata_filter": "-all",
   "main_language": "python",
   "notebook_metadata_filter": "-all"
  },
  "language_info": {
   "name": "python"
  }
 },
 "nbformat": 4,
 "nbformat_minor": 5
}
