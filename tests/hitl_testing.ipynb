{
 "cells": [
  {
   "cell_type": "markdown",
   "id": "07c57479",
   "metadata": {},
   "source": [
    "# Test Cases for Human-in-the-Loop\n"
   ]
  },
  {
   "cell_type": "markdown",
   "id": "1c77003d",
   "metadata": {},
   "source": [
    "Let' see this working in practice by importing the email assistant with HITL from our module, `src/email_assistant/email_assistant_hitl.py`. We'll compile the graph with a [checkpointer](https://langchain-ai.github.io/langgraph/concepts/memory/#short-term-memory), which allows us to persist the state of the graph after interruption. We can then resume execution from the same state after the human has responded.\n",
    "\n",
    "> **Note:** here we change to the parent directory (`%cd ..`) to access our project's module structure, which contains reusable prompts and components. The autoreload extensions ensure any changes to these modules are automatically reflected in the notebook without requiring kernel restarts. This allows us to organize our prompts in a dedicated module rather than defining them inline, making them easier to maintain and reuse across the notebooks! You can see all these files in: `src/email_assistant`"
   ]
  },
  {
   "cell_type": "code",
   "execution_count": 1,
   "id": "2a082b81",
   "metadata": {},
   "outputs": [
    {
     "name": "stdout",
     "output_type": "stream",
     "text": [
      "/Users/rlm/Desktop/Code/interrupt_workshop\n"
     ]
    }
   ],
   "source": [
    "%cd ..\n",
    "%load_ext autoreload\n",
    "%autoreload 2\n",
    "\n",
    "import uuid\n",
    "from langgraph.checkpoint.memory import MemorySaver\n",
    "from email_assistant.email_assistant_hitl import overall_workflow"
   ]
  },
  {
   "cell_type": "markdown",
   "id": "37bac65b",
   "metadata": {},
   "source": [
    "## Accept `write_email` and `schedule_meeting`\n",
    "\n",
    "This test demonstrates the fundamental HITL approval flow when a user accepts all agent actions:\n",
    "1. An email about tax planning is received and classified as \"RESPOND\"\n",
    "2. The agent checks calendar availability for both suggested dates (Tuesday and Thursday)\n",
    "3. The agent proposes scheduling a meeting on Tuesday at 2:00 PM for 45 minutes\n",
    "4. The user reviews and ACCEPTS the meeting request without changes\n",
    "5. The agent drafts a confirmation email to send to the client\n",
    "6. The user reviews and ACCEPTS the email draft without changes\n",
    "7. The agent marks the workflow as complete\n",
    "\n",
    "This scenario shows how human-in-the-loop works at its most basic level - humans provide oversight while the agent handles the execution."
   ]
  },
  {
   "cell_type": "code",
   "execution_count": 36,
   "id": "5ac5dde7",
   "metadata": {},
   "outputs": [
    {
     "name": "stdout",
     "output_type": "stream",
     "text": [
      "Running the graph until the first interrupt...\n",
      "📧 Classification: RESPOND - This email requires a response\n",
      "\n",
      "INTERRUPT OBJECT:\n",
      "Action Request: {'action': 'schedule_meeting', 'args': {'attendees': ['pm@client.com', 'lance@company.com'], 'subject': 'Tax Planning Strategies Discussion', 'duration_minutes': 45, 'preferred_day': '2025-05-06', 'start_time': 14}}\n"
     ]
    }
   ],
   "source": [
    "import uuid\n",
    "\n",
    "# Respond - Meeting Request Email\n",
    "email_input_respond = {\n",
    "    \"to\": \"Lance Martin <lance@company.com>\",\n",
    "    \"author\": \"Project Manager <pm@client.com>\",\n",
    "    \"subject\": \"Tax season let's schedule call\",\n",
    "    \"email_thread\": \"Lance,\\n\\nIt's tax season again, and I wanted to schedule a call to discuss your tax planning strategies for this year. I have some suggestions that could potentially save you money.\\n\\nAre you available sometime next week? Tuesday or Thursday afternoon would work best for me, for about 45 minutes.\\n\\nRegards,\\nProject Manager\"\n",
    "}\n",
    "\n",
    "# Compile the graph\n",
    "checkpointer = MemorySaver()\n",
    "graph = overall_workflow.compile(checkpointer=checkpointer)\n",
    "thread_id_1 = uuid.uuid4()\n",
    "thread_config_1 = {\"configurable\": {\"thread_id\": thread_id_1}}\n",
    "\n",
    "# Run the graph until the first interrupt \n",
    "# Email will be classified as \"respond\" \n",
    "# Agent will create a schedule_meeting and write_email tool call\n",
    "print(\"Running the graph until the first interrupt...\")\n",
    "for chunk in graph.stream({\"email_input\": email_input_respond}, config=thread_config_1):\n",
    "    # Inspect interrupt object if present\n",
    "    if '__interrupt__' in chunk:\n",
    "        Interrupt_Object = chunk['__interrupt__'][0]\n",
    "        print(\"\\nINTERRUPT OBJECT:\")\n",
    "        print(f\"Action Request: {Interrupt_Object.value[0]['action_request']}\")"
   ]
  },
  {
   "cell_type": "markdown",
   "id": "5454d987",
   "metadata": {},
   "source": [
    "Accept the `schedule_meeting` tool call\n",
    "\n",
    "After the agent proposes scheduling a meeting, it creates an interrupt to seek human approval. In this step, we simulate a user accepting the proposed meeting parameters without changes. This allows the workflow to proceed to the next step (drafting a confirmation email). The interrupt object contains critical information:\n",
    "\n",
    "1. The action type (`schedule_meeting`)\n",
    "2. The proposed meeting parameters (attendees, subject, duration, day, time)\n",
    "3. Configuration options for what kinds of responses are allowed\n",
    "\n",
    "When the user accepts, the tool is executed as proposed without modification."
   ]
  },
  {
   "cell_type": "code",
   "execution_count": 37,
   "id": "643e7974",
   "metadata": {},
   "outputs": [
    {
     "name": "stdout",
     "output_type": "stream",
     "text": [
      "\n",
      "Simulating user accepting the {'action': 'schedule_meeting', 'args': {'attendees': ['pm@client.com', 'lance@company.com'], 'subject': 'Tax Planning Strategies Discussion', 'duration_minutes': 45, 'preferred_day': '2025-05-06', 'start_time': 14}} tool call...\n",
      "\n",
      "INTERRUPT OBJECT:\n",
      "Action Request: {'action': 'write_email', 'args': {'to': 'pm@client.com', 'subject': \"Re: Tax season let's schedule call\", 'content': 'Hello,\\n\\nThank you for reaching out. I am available on Tuesday, May 6th at 2:00 PM for a 45-minute call to discuss tax planning strategies. I have scheduled the meeting accordingly.\\n\\nLooking forward to your suggestions.\\n\\nBest regards,\\nLance'}}\n"
     ]
    }
   ],
   "source": [
    "from langgraph.types import Command\n",
    "\n",
    "print(f\"\\nSimulating user accepting the {Interrupt_Object.value[0]['action_request']} tool call...\")\n",
    "for chunk in graph.stream(Command(resume=[{\"type\": \"accept\"}]), config=thread_config_1):\n",
    "    # Inspect interrupt object if present\n",
    "    if '__interrupt__' in chunk:\n",
    "        Interrupt_Object = chunk['__interrupt__'][0]\n",
    "        print(\"\\nINTERRUPT OBJECT:\")\n",
    "        print(f\"Action Request: {Interrupt_Object.value[0]['action_request']}\")"
   ]
  },
  {
   "cell_type": "markdown",
   "id": "00d8c1a5",
   "metadata": {},
   "source": [
    "Accept the `write_email` tool call\n",
    "\n",
    "With the meeting scheduled, the agent now drafts a confirmation email to the client. The interrupt contains:\n",
    "\n",
    "1. The email tool action with recipient, subject, and proposed content\n",
    "2. The formatted email showing what will be sent\n",
    "3. The same configuration options for user response types\n",
    "\n",
    "When the user accepts, the email is sent as written. After this step, the agent marks the task as complete with the `Done` tool call, and the workflow ends. The complete message history shows all the steps taken:\n",
    "\n",
    "1. Initial email processing\n",
    "2. Calendar availability checks for both days\n",
    "3. Meeting scheduling with confirmation\n",
    "4. Email composition and sending\n",
    "5. Workflow completion"
   ]
  },
  {
   "cell_type": "code",
   "execution_count": 13,
   "id": "656f4336",
   "metadata": {},
   "outputs": [
    {
     "name": "stdout",
     "output_type": "stream",
     "text": [
      "\n",
      "Simulating user accepting the {'action': 'write_email', 'args': {'to': 'pm@client.com', 'subject': \"Re: Tax season let's schedule call\", 'content': 'Hello,\\n\\nThank you for reaching out. I have scheduled a call for us to discuss tax planning strategies on Tuesday, April 22, 2025, at 2:00 PM. The meeting is set for 45 minutes.\\n\\nLooking forward to our discussion.\\n\\nBest regards,\\n\\nLance Martin'}} tool call...\n",
      "==================================\u001b[1m Ai Message \u001b[0m==================================\n",
      "Tool Calls:\n",
      "  Done (call_h6a55b78txHk7GV7yQa9sQU9)\n",
      " Call ID: call_h6a55b78txHk7GV7yQa9sQU9\n",
      "  Args:\n",
      "    done: True\n"
     ]
    }
   ],
   "source": [
    "print(f\"\\nSimulating user accepting the {Interrupt_Object.value[0]['action_request']} tool call...\")\n",
    "for chunk in graph.stream(Command(resume=[{\"type\": \"accept\"}]), config=thread_config_1):\n",
    "    # Inspect response_agent most recent message\n",
    "    if 'response_agent' in chunk:\n",
    "        chunk['response_agent']['messages'][-1].pretty_print()\n",
    "    # Inspect interrupt object if present\n",
    "    if '__interrupt__' in chunk:\n",
    "        Interrupt_Object = chunk['__interrupt__'][0]\n",
    "        print(\"\\nINTERRUPT OBJECT:\")\n",
    "        print(f\"Action Request: {Interrupt_Object.value[0]['action_request']}\")"
   ]
  },
  {
   "cell_type": "markdown",
   "id": "7d228ff8",
   "metadata": {},
   "source": [
    "Look at the full message history, and see trace:\n",
    "\n",
    "https://smith.langchain.com/public/82277f96-3abd-48e0-a4db-413f7572240d/r"
   ]
  },
  {
   "cell_type": "code",
   "execution_count": 14,
   "id": "3b168d80",
   "metadata": {},
   "outputs": [
    {
     "name": "stdout",
     "output_type": "stream",
     "text": [
      "================================\u001b[1m Human Message \u001b[0m=================================\n",
      "\n",
      "Respond to the email: \n",
      "\n",
      "**Subject**: Tax season let's schedule call\n",
      "**From**: Project Manager <pm@client.com>\n",
      "**To**: Lance Martin <lance@company.com>\n",
      "\n",
      "Lance,\n",
      "\n",
      "It's tax season again, and I wanted to schedule a call to discuss your tax planning strategies for this year. I have some suggestions that could potentially save you money.\n",
      "\n",
      "Are you available sometime next week? Tuesday or Thursday afternoon would work best for me, for about 45 minutes.\n",
      "\n",
      "Regards,\n",
      "Project Manager\n",
      "\n",
      "---\n",
      "\n",
      "==================================\u001b[1m Ai Message \u001b[0m==================================\n",
      "Tool Calls:\n",
      "  check_calendar_availability (call_NrkaML1VPyeDXFNiQZUvfGIo)\n",
      " Call ID: call_NrkaML1VPyeDXFNiQZUvfGIo\n",
      "  Args:\n",
      "    day: 2025-04-22\n",
      "  check_calendar_availability (call_cjRWdZCRnPsYsagEGZxASZht)\n",
      " Call ID: call_cjRWdZCRnPsYsagEGZxASZht\n",
      "  Args:\n",
      "    day: 2025-04-24\n",
      "=================================\u001b[1m Tool Message \u001b[0m=================================\n",
      "\n",
      "Available times on 2025-04-22: 9:00 AM, 2:00 PM, 4:00 PM\n",
      "=================================\u001b[1m Tool Message \u001b[0m=================================\n",
      "\n",
      "Available times on 2025-04-24: 9:00 AM, 2:00 PM, 4:00 PM\n",
      "==================================\u001b[1m Ai Message \u001b[0m==================================\n",
      "Tool Calls:\n",
      "  schedule_meeting (call_lD42qto5T8dxkfzV6yYjWZQL)\n",
      " Call ID: call_lD42qto5T8dxkfzV6yYjWZQL\n",
      "  Args:\n",
      "    attendees: ['pm@client.com', 'lance@company.com']\n",
      "    subject: Tax Planning Strategies Discussion\n",
      "    duration_minutes: 45\n",
      "    preferred_day: 2025-04-22\n",
      "    start_time: 14\n",
      "=================================\u001b[1m Tool Message \u001b[0m=================================\n",
      "\n",
      "Meeting 'Tax Planning Strategies Discussion' scheduled on Tuesday, April 22, 2025 at 14 for 45 minutes with 2 attendees\n",
      "==================================\u001b[1m Ai Message \u001b[0m==================================\n",
      "Tool Calls:\n",
      "  write_email (call_ElvioA4LUlyWqCTgwQTI4gs6)\n",
      " Call ID: call_ElvioA4LUlyWqCTgwQTI4gs6\n",
      "  Args:\n",
      "    to: pm@client.com\n",
      "    subject: Re: Tax season let's schedule call\n",
      "    content: Hello,\n",
      "\n",
      "Thank you for reaching out. I have scheduled a call for us to discuss tax planning strategies on Tuesday, April 22, 2025, at 2:00 PM. The meeting is set for 45 minutes.\n",
      "\n",
      "Looking forward to our discussion.\n",
      "\n",
      "Best regards,\n",
      "\n",
      "Lance Martin\n",
      "=================================\u001b[1m Tool Message \u001b[0m=================================\n",
      "\n",
      "Email sent to pm@client.com with subject 'Re: Tax season let's schedule call' and content: Hello,\n",
      "\n",
      "Thank you for reaching out. I have scheduled a call for us to discuss tax planning strategies on Tuesday, April 22, 2025, at 2:00 PM. The meeting is set for 45 minutes.\n",
      "\n",
      "Looking forward to our discussion.\n",
      "\n",
      "Best regards,\n",
      "\n",
      "Lance Martin\n",
      "==================================\u001b[1m Ai Message \u001b[0m==================================\n",
      "Tool Calls:\n",
      "  Done (call_h6a55b78txHk7GV7yQa9sQU9)\n",
      " Call ID: call_h6a55b78txHk7GV7yQa9sQU9\n",
      "  Args:\n",
      "    done: True\n"
     ]
    }
   ],
   "source": [
    "state = graph.get_state(thread_config_1)\n",
    "for m in state.values['messages']:\n",
    "    m.pretty_print()"
   ]
  },
  {
   "cell_type": "markdown",
   "id": "86b1ba30",
   "metadata": {},
   "source": [
    "## Edit `write_email` and `schedule_meeting`\n",
    "\n",
    "This test demonstrates how human modification works in the HITL flow:\n",
    "1. We start with the same tax planning email as before\n",
    "2. The agent proposes a meeting with the same parameters\n",
    "3. This time, the user EDITS the meeting proposal to change:\n",
    "   - Duration from 45 to 30 minutes\n",
    "   - Meeting subject is made more concise\n",
    "4. The agent adapts to these changes when drafting the email\n",
    "5. The user further EDITS the email to be shorter and less formal\n",
    "6. The workflow completes with both modifications incorporated\n",
    "\n",
    "This scenario showcases one of the most powerful aspects of HITL: users can make precise modifications to agent actions before they are executed, ensuring the final outcome matches their preferences without having to handle all the details themselves."
   ]
  },
  {
   "cell_type": "code",
   "execution_count": 14,
   "id": "3bfca1b4",
   "metadata": {},
   "outputs": [
    {
     "name": "stdout",
     "output_type": "stream",
     "text": [
      "Running the graph until the first interrupt...\n",
      "📧 Classification: RESPOND - This email requires a response\n",
      "\n",
      "INTERRUPT OBJECT:\n",
      "Action Request: {'action': 'schedule_meeting', 'args': {'attendees': ['pm@client.com', 'lance@company.com'], 'subject': 'Tax Planning Strategies Discussion', 'duration_minutes': 45, 'preferred_day': '2025-05-06', 'start_time': 14}}\n"
     ]
    }
   ],
   "source": [
    "# Same email as before\n",
    "email_input_respond = {\n",
    "    \"to\": \"Lance Martin <lance@company.com>\",\n",
    "    \"author\": \"Project Manager <pm@client.com>\",\n",
    "    \"subject\": \"Tax season let's schedule call\",\n",
    "    \"email_thread\": \"Lance,\\n\\nIt's tax season again, and I wanted to schedule a call to discuss your tax planning strategies for this year. I have some suggestions that could potentially save you money.\\n\\nAre you available sometime next week? Tuesday or Thursday afternoon would work best for me, for about 45 minutes.\\n\\nRegards,\\nProject Manager\"\n",
    "}\n",
    "\n",
    "# Compile the graph with new thread\n",
    "checkpointer = MemorySaver()\n",
    "graph = overall_workflow.compile(checkpointer=checkpointer)\n",
    "thread_id_2 = uuid.uuid4()\n",
    "thread_config_2 = {\"configurable\": {\"thread_id\": thread_id_2}}\n",
    "\n",
    "# Run the graph until the first interrupt - will be classified as \"respond\" and the agent will create a write_email tool call\n",
    "print(\"Running the graph until the first interrupt...\")\n",
    "for chunk in graph.stream({\"email_input\": email_input_respond}, config=thread_config_2):\n",
    "    # Inspect interrupt object if present\n",
    "    if '__interrupt__' in chunk:\n",
    "        Interrupt_Object = chunk['__interrupt__'][0]\n",
    "        print(\"\\nINTERRUPT OBJECT:\")\n",
    "        print(f\"Action Request: {Interrupt_Object.value[0]['action_request']}\")"
   ]
  },
  {
   "cell_type": "markdown",
   "id": "706ac0a6",
   "metadata": {},
   "source": [
    "Edit the `schedule_meeting` tool call\n",
    "\n",
    "When the agent proposes the initial meeting schedule, we now simulate the user making modifications through the edit functionality. This demonstrates how the `edit` response type works:\n",
    "\n",
    "1. The user receives the same meeting proposal as in the previous test\n",
    "2. Instead of accepting, they modify the parameters:\n",
    "   - Reducing duration from 45 to 30 minutes\n",
    "   - Keeping the same day and time\n",
    "3. The `edit` response includes the complete set of modified arguments\n",
    "4. The interrupt handler replaces the original tool arguments with these edited ones\n",
    "5. The tool is executed with the user's modifications\n",
    "\n",
    "This shows how edit capability gives users precise control over agent actions while still letting the agent handle the execution details."
   ]
  },
  {
   "cell_type": "code",
   "execution_count": 15,
   "id": "7175fedb",
   "metadata": {},
   "outputs": [
    {
     "name": "stdout",
     "output_type": "stream",
     "text": [
      "\n",
      "Simulating user editing the schedule_meeting tool call...\n",
      "\n",
      "INTERRUPT OBJECT:\n",
      "Action Request: {'action': 'write_email', 'args': {'to': 'pm@client.com', 'subject': \"Re: Tax season let's schedule call\", 'content': 'Hello,\\n\\nThank you for reaching out regarding tax planning strategies. I am available on Tuesday, May 6th at 2:00 PM, and have scheduled a 30-minute call for us to discuss your suggestions. If you feel we need additional time, please let me know and I can adjust the meeting duration accordingly.\\n\\nLooking forward to our discussion.\\n\\nBest regards,\\nLance'}}\n"
     ]
    }
   ],
   "source": [
    "# Now simulate user editing the schedule_meeting tool call\n",
    "print(\"\\nSimulating user editing the schedule_meeting tool call...\")\n",
    "edited_schedule_args = {\n",
    "    \"attendees\": [\"pm@client.com\", \"lance@company.com\"],\n",
    "    \"subject\": \"Tax Planning Discussion\",\n",
    "    \"duration_minutes\": 30,  # Changed from 45 to 30\n",
    "    \"preferred_day\": \"2025-05-06\",\n",
    "    \"start_time\": 14 \n",
    "}\n",
    "for chunk in graph.stream(Command(resume=[{\"type\": \"edit\", \"args\": {\"args\": edited_schedule_args}}]), config=thread_config_2):\n",
    "    # Inspect response_agent most recent message\n",
    "    if 'response_agent' in chunk:\n",
    "        chunk['response_agent']['messages'][-1].pretty_print()\n",
    "    # Inspect interrupt object if present\n",
    "    if '__interrupt__' in chunk:\n",
    "        Interrupt_Object = chunk['__interrupt__'][0]\n",
    "        print(\"\\nINTERRUPT OBJECT:\")\n",
    "        print(f\"Action Request: {Interrupt_Object.value[0]['action_request']}\")"
   ]
  },
  {
   "cell_type": "markdown",
   "id": "9757706b",
   "metadata": {},
   "source": [
    "Edit the `write_email` tool call\n",
    "\n",
    "After accepting the modified meeting schedule, the agent drafts an email reflecting the 30-minute duration. Now we demonstrate how editing works with email content:\n",
    "\n",
    "1. The agent has adapted its email to mention the shorter 30-minute duration\n",
    "2. We simulate the user wanting an even more significant change to the email:\n",
    "   - Completely rewriting the content to be shorter and less formal\n",
    "   - Changing the meeting day mentioned in the email (showing how users can correct agent mistakes)\n",
    "   - Requesting confirmation rather than stating the meeting as definite\n",
    "3. The `edit` response contains the complete new email content\n",
    "4. The tool arguments are updated with this edited content\n",
    "5. The email is sent with the user's preferred wording\n",
    "\n",
    "This example shows the power of HITL for complex communication tasks - the agent handles the structure and initial content, while humans can refine tone, style, and substance."
   ]
  },
  {
   "cell_type": "code",
   "execution_count": 16,
   "id": "a0604d53",
   "metadata": {},
   "outputs": [
    {
     "name": "stdout",
     "output_type": "stream",
     "text": [
      "\n",
      "Simulating user editing the write_email tool call...\n",
      "==================================\u001b[1m Ai Message \u001b[0m==================================\n",
      "Tool Calls:\n",
      "  Done (call_PVtmxQJgG0wdFh299b70ab1z)\n",
      " Call ID: call_PVtmxQJgG0wdFh299b70ab1z\n",
      "  Args:\n",
      "    done: True\n"
     ]
    }
   ],
   "source": [
    "# Now simulate user editing the write_email tool call\n",
    "print(\"\\nSimulating user editing the write_email tool call...\")\n",
    "edited_email_args = {\n",
    "    \"to\": \"pm@client.com\",\n",
    "    \"subject\": \"Re: Tax season let's schedule call\",\n",
    "    \"content\": \"Hello Project Manager,\\n\\nThank you for reaching out about tax planning. I scheduled a 30-minute call next Thursday at 3:00 PM. Would that work for you?\\n\\nBest regards,\\nLance Martin\"\n",
    "}\n",
    "for chunk in graph.stream(Command(resume=[{\"type\": \"edit\", \"args\": {\"args\": edited_email_args}}]), config=thread_config_2):\n",
    "    # Inspect response_agent most recent message\n",
    "    if 'response_agent' in chunk:\n",
    "        chunk['response_agent']['messages'][-1].pretty_print()\n",
    "    # Inspect interrupt object if present\n",
    "    if '__interrupt__' in chunk:\n",
    "        Interrupt_Object = chunk['__interrupt__'][0]\n",
    "        print(\"\\nINTERRUPT OBJECT:\")\n",
    "        print(f\"Action Request: {Interrupt_Object.value[0]['action_request']}\")"
   ]
  },
  {
   "cell_type": "markdown",
   "id": "ac279101",
   "metadata": {},
   "source": [
    "Look at the full message history, and see trace, to view the edited tool calls:\n",
    "\n",
    "https://smith.langchain.com/public/21769510-d57a-41e4-b5c7-0ddb23c237d8/r"
   ]
  },
  {
   "cell_type": "code",
   "execution_count": 17,
   "id": "6d3e9be7",
   "metadata": {},
   "outputs": [
    {
     "name": "stdout",
     "output_type": "stream",
     "text": [
      "================================\u001b[1m Human Message \u001b[0m=================================\n",
      "\n",
      "Respond to the email: \n",
      "\n",
      "**Subject**: Tax season let's schedule call\n",
      "**From**: Project Manager <pm@client.com>\n",
      "**To**: Lance Martin <lance@company.com>\n",
      "\n",
      "Lance,\n",
      "\n",
      "It's tax season again, and I wanted to schedule a call to discuss your tax planning strategies for this year. I have some suggestions that could potentially save you money.\n",
      "\n",
      "Are you available sometime next week? Tuesday or Thursday afternoon would work best for me, for about 45 minutes.\n",
      "\n",
      "Regards,\n",
      "Project Manager\n",
      "\n",
      "---\n",
      "\n",
      "==================================\u001b[1m Ai Message \u001b[0m==================================\n",
      "Tool Calls:\n",
      "  check_calendar_availability (call_hKFyYkfY3fhQqflCAh2dm69E)\n",
      " Call ID: call_hKFyYkfY3fhQqflCAh2dm69E\n",
      "  Args:\n",
      "    day: 2025-05-06\n",
      "  check_calendar_availability (call_xdLGVBhQ3ki1vOSzReNxCZYk)\n",
      " Call ID: call_xdLGVBhQ3ki1vOSzReNxCZYk\n",
      "  Args:\n",
      "    day: 2025-05-08\n",
      "=================================\u001b[1m Tool Message \u001b[0m=================================\n",
      "\n",
      "Available times on 2025-05-06: 9:00 AM, 2:00 PM, 4:00 PM\n",
      "=================================\u001b[1m Tool Message \u001b[0m=================================\n",
      "\n",
      "Available times on 2025-05-08: 9:00 AM, 2:00 PM, 4:00 PM\n",
      "==================================\u001b[1m Ai Message \u001b[0m==================================\n",
      "Tool Calls:\n",
      "  schedule_meeting (call_jJoVei2IxgVbQI7cXrEPJe8p)\n",
      " Call ID: call_jJoVei2IxgVbQI7cXrEPJe8p\n",
      "  Args:\n",
      "    attendees: ['pm@client.com', 'lance@company.com']\n",
      "    subject: Tax Planning Discussion\n",
      "    duration_minutes: 30\n",
      "    preferred_day: 2025-05-06\n",
      "    start_time: 14\n",
      "=================================\u001b[1m Tool Message \u001b[0m=================================\n",
      "\n",
      "Meeting 'Tax Planning Discussion' scheduled on Tuesday, May 06, 2025 at 14 for 30 minutes with 2 attendees\n",
      "==================================\u001b[1m Ai Message \u001b[0m==================================\n",
      "Tool Calls:\n",
      "  write_email (call_MTSKFqw6OfmpZU6bMt8nCHwl)\n",
      " Call ID: call_MTSKFqw6OfmpZU6bMt8nCHwl\n",
      "  Args:\n",
      "    to: pm@client.com\n",
      "    subject: Re: Tax season let's schedule call\n",
      "    content: Hello Project Manager,\n",
      "\n",
      "Thank you for reaching out about tax planning. I scheduled a 30-minute call next Thursday at 3:00 PM. Would that work for you?\n",
      "\n",
      "Best regards,\n",
      "Lance Martin\n",
      "=================================\u001b[1m Tool Message \u001b[0m=================================\n",
      "\n",
      "Email sent to pm@client.com with subject 'Re: Tax season let's schedule call' and content: Hello Project Manager,\n",
      "\n",
      "Thank you for reaching out about tax planning. I scheduled a 30-minute call next Thursday at 3:00 PM. Would that work for you?\n",
      "\n",
      "Best regards,\n",
      "Lance Martin\n",
      "==================================\u001b[1m Ai Message \u001b[0m==================================\n",
      "Tool Calls:\n",
      "  Done (call_PVtmxQJgG0wdFh299b70ab1z)\n",
      " Call ID: call_PVtmxQJgG0wdFh299b70ab1z\n",
      "  Args:\n",
      "    done: True\n"
     ]
    }
   ],
   "source": [
    "state = graph.get_state(thread_config_2)\n",
    "for m in state.values['messages']:\n",
    "    m.pretty_print()"
   ]
  },
  {
   "cell_type": "markdown",
   "id": "5281cb1f",
   "metadata": {},
   "source": [
    "## Ignore `write_email`, `schedule_meeting`, and `question`\n",
    "\n",
    "This test set demonstrates the \"ignore\" capability of the HITL system, showing how users can reject agent actions entirely:\n",
    "\n",
    "1. First, we test ignoring a `schedule_meeting` request:\n",
    "   - When the agent proposes scheduling a meeting, the user rejects it completely\n",
    "   - The workflow ends immediately without scheduling anything\n",
    "   \n",
    "2. Second, we test accepting a meeting but ignoring the follow-up email:\n",
    "   - The user accepts the meeting schedule\n",
    "   - But when the agent drafts a confirmation email, the user ignores it\n",
    "   - The meeting is still scheduled, but no email is sent\n",
    "   - The workflow ends after the rejection\n",
    "\n",
    "3. Third, we test ignoring a `question` tool call:\n",
    "   - For a different email about brunch plans\n",
    "   - The agent asks a clarifying question\n",
    "   - The user ignores the question\n",
    "   - The workflow ends without further action\n",
    "\n",
    "The \"ignore\" capability is crucial for HITL systems as it allows users to stop potentially unwanted actions before they occur, providing an important safety mechanism and ensuring users maintain full control."
   ]
  },
  {
   "cell_type": "code",
   "execution_count": 20,
   "id": "d60baeed",
   "metadata": {},
   "outputs": [
    {
     "name": "stdout",
     "output_type": "stream",
     "text": [
      "Running the graph until the first interrupt...\n",
      "📧 Classification: RESPOND - This email requires a response\n",
      "\n",
      "INTERRUPT OBJECT:\n",
      "Action Request: {'action': 'schedule_meeting', 'args': {'attendees': ['pm@client.com', 'lance@company.com'], 'subject': 'Tax Planning Strategies Discussion', 'duration_minutes': 45, 'preferred_day': '2025-04-22', 'start_time': 14}}\n"
     ]
    }
   ],
   "source": [
    "# Respond - Meeting Request Email\n",
    "email_input_respond = {\n",
    "    \"to\": \"Lance Martin <lance@company.com>\",\n",
    "    \"author\": \"Project Manager <pm@client.com>\",\n",
    "    \"subject\": \"Tax season let's schedule call\",\n",
    "    \"email_thread\": \"Lance,\\n\\nIt's tax season again, and I wanted to schedule a call to discuss your tax planning strategies for this year. I have some suggestions that could potentially save you money.\\n\\nAre you available sometime next week? Tuesday or Thursday afternoon would work best for me, for about 45 minutes.\\n\\nRegards,\\nProject Manager\"\n",
    "}\n",
    "\n",
    "# Compile the graph\n",
    "checkpointer = MemorySaver()\n",
    "graph = overall_workflow.compile(checkpointer=checkpointer)\n",
    "thread_id_3 = uuid.uuid4()\n",
    "thread_config_3 = {\"configurable\": {\"thread_id\": thread_id_3}}\n",
    "\n",
    "# Run the graph until the first interrupt \n",
    "# Email will be classified as \"respond\" \n",
    "# Agent will create a schedule_meeting and write_email tool call\n",
    "print(\"Running the graph until the first interrupt...\")\n",
    "for chunk in graph.stream({\"email_input\": email_input_respond}, config=thread_config_3):\n",
    "    # Inspect interrupt object if present\n",
    "    if '__interrupt__' in chunk:\n",
    "        Interrupt_Object = chunk['__interrupt__'][0]\n",
    "        print(\"\\nINTERRUPT OBJECT:\")\n",
    "        print(f\"Action Request: {Interrupt_Object.value[0]['action_request']}\")"
   ]
  },
  {
   "cell_type": "markdown",
   "id": "2442cc81",
   "metadata": {},
   "source": [
    "Ignore the `schedule_meeting` tool call\n",
    "\n",
    "In this test, we demonstrate rejection of the meeting scheduling proposal:\n",
    "\n",
    "1. The agent suggests a 45-minute meeting on Tuesday at 2:00 PM\n",
    "2. We simulate the user selecting \"ignore\" in the Agent Inbox interface\n",
    "3. The `interrupt_handler` processes this rejection with special logic:\n",
    "   - It adds a message explaining the user's choice to ignore\n",
    "   - It returns a command to end the workflow\n",
    "   - No meeting is scheduled and no email is sent\n",
    "\n",
    "This capability is crucial for several reasons:\n",
    "- Prevents incorrect actions from being executed\n",
    "- Gives users veto power over any agent decision\n",
    "- Provides a clear exit path when the agent's suggestion isn't appropriate\n",
    "\n",
    "The trace shows how the workflow ends immediately after the ignore action."
   ]
  },
  {
   "cell_type": "code",
   "execution_count": 21,
   "id": "f2e86ca6",
   "metadata": {},
   "outputs": [
    {
     "name": "stdout",
     "output_type": "stream",
     "text": [
      "\n",
      "Simulating user ignoring the {'action': 'schedule_meeting', 'args': {'attendees': ['pm@client.com', 'lance@company.com'], 'subject': 'Tax Planning Strategies Discussion', 'duration_minutes': 45, 'preferred_day': '2025-04-22', 'start_time': 14}} tool call...\n"
     ]
    }
   ],
   "source": [
    "print(f\"\\nSimulating user ignoring the {Interrupt_Object.value[0]['action_request']} tool call...\")\n",
    "for chunk in graph.stream(Command(resume=[{\"type\": \"ignore\"}]), config=thread_config_3):\n",
    "    # Inspect interrupt object if present\n",
    "    if '__interrupt__' in chunk:\n",
    "        Interrupt_Object = chunk['__interrupt__'][0]\n",
    "        print(\"\\nINTERRUPT OBJECT:\")\n",
    "        print(f\"Action Request: {Interrupt_Object.value[0]['action_request']}\")"
   ]
  },
  {
   "cell_type": "markdown",
   "id": "f5ccb8e0",
   "metadata": {},
   "source": [
    "As you can see from the trace, we end:\n",
    "\n",
    "https://smith.langchain.com/public/4e322b99-08ea-4d23-9653-475415ff3e33/r\n",
    "\n",
    "Now, let's run again, but ignore the `write_email` tool call:"
   ]
  },
  {
   "cell_type": "code",
   "execution_count": 22,
   "id": "15e33156",
   "metadata": {},
   "outputs": [
    {
     "name": "stdout",
     "output_type": "stream",
     "text": [
      "Running the graph until the first interrupt...\n",
      "📧 Classification: RESPOND - This email requires a response\n",
      "\n",
      "INTERRUPT OBJECT:\n",
      "Action Request: {'action': 'schedule_meeting', 'args': {'attendees': ['pm@client.com', 'lance@company.com'], 'subject': 'Tax Planning Strategies Discussion', 'duration_minutes': 45, 'preferred_day': '2025-04-22', 'start_time': 14}}\n",
      "\n",
      "Simulating user accepting the schedule_meeting tool call...\n",
      "\n",
      "INTERRUPT OBJECT:\n",
      "Action Request: {'action': 'write_email', 'args': {'to': 'pm@client.com', 'subject': \"Re: Tax season let's schedule call\", 'content': 'Hi,\\n\\nThank you for reaching out. I have scheduled our call to discuss tax planning strategies for Tuesday, April 22, 2025, at 2:00 PM. We will have 45 minutes to go over your suggestions.\\n\\nLooking forward to our discussion.\\n\\nBest regards,\\n\\nLance Martin'}}\n",
      "\n",
      "Simulating user ignoring the write_email tool call...\n",
      "=================================\u001b[1m Tool Message \u001b[0m=================================\n",
      "\n",
      "User ignored this email draft. Ignore this email and end the workflow.\n"
     ]
    }
   ],
   "source": [
    "# Respond - Meeting Request Email\n",
    "email_input_respond = {\n",
    "    \"to\": \"Lance Martin <lance@company.com>\",\n",
    "    \"author\": \"Project Manager <pm@client.com>\",\n",
    "    \"subject\": \"Tax season let's schedule call\",\n",
    "    \"email_thread\": \"Lance,\\n\\nIt's tax season again, and I wanted to schedule a call to discuss your tax planning strategies for this year. I have some suggestions that could potentially save you money.\\n\\nAre you available sometime next week? Tuesday or Thursday afternoon would work best for me, for about 45 minutes.\\n\\nRegards,\\nProject Manager\"\n",
    "}\n",
    "\n",
    "# Compile the graph\n",
    "checkpointer = MemorySaver()\n",
    "graph = overall_workflow.compile(checkpointer=checkpointer)\n",
    "thread_id_3 = uuid.uuid4()\n",
    "thread_config_3 = {\"configurable\": {\"thread_id\": thread_id_3}}\n",
    "\n",
    "# Run the graph until the first interrupt \n",
    "# Email will be classified as \"respond\" \n",
    "# Agent will create a schedule_meeting and write_email tool call\n",
    "print(\"Running the graph until the first interrupt...\")\n",
    "for chunk in graph.stream({\"email_input\": email_input_respond}, config=thread_config_3):\n",
    "    # Inspect interrupt object if present\n",
    "    if '__interrupt__' in chunk:\n",
    "        Interrupt_Object = chunk['__interrupt__'][0]\n",
    "        print(\"\\nINTERRUPT OBJECT:\")\n",
    "        print(f\"Action Request: {Interrupt_Object.value[0]['action_request']}\")\n",
    "\n",
    "print(f\"\\nSimulating user accepting the {Interrupt_Object.value[0]['action_request']['action']} tool call...\")\n",
    "for chunk in graph.stream(Command(resume=[{\"type\": \"accept\"}]), config=thread_config_3):\n",
    "    # Inspect response_agent most recent message\n",
    "    if 'response_agent' in chunk:\n",
    "        chunk['response_agent']['messages'][-1].pretty_print()\n",
    "    # Inspect interrupt object if present\n",
    "    if '__interrupt__' in chunk:\n",
    "        Interrupt_Object = chunk['__interrupt__'][0]\n",
    "        print(\"\\nINTERRUPT OBJECT:\")\n",
    "        print(f\"Action Request: {Interrupt_Object.value[0]['action_request']}\")\n",
    "\n",
    "print(f\"\\nSimulating user ignoring the {Interrupt_Object.value[0]['action_request']['action']} tool call...\")\n",
    "for chunk in graph.stream(Command(resume=[{\"type\": \"ignore\"}]), config=thread_config_3):\n",
    "    # Inspect response_agent most recent message\n",
    "    if 'response_agent' in chunk:\n",
    "        chunk['response_agent']['messages'][-1].pretty_print()\n",
    "    # Inspect interrupt object if present\n",
    "    if '__interrupt__' in chunk:\n",
    "        Interrupt_Object = chunk['__interrupt__'][0]\n",
    "        print(\"\\nINTERRUPT OBJECT:\")\n",
    "        print(f\"Action Request: {Interrupt_Object.value[0]['action_request']}\")"
   ]
  },
  {
   "cell_type": "markdown",
   "id": "1acea519",
   "metadata": {},
   "source": [
    "Again, we end:\n",
    "\n",
    "https://smith.langchain.com/public/819be555-4919-4d14-bdd9-eb6f73a3bafe/r"
   ]
  },
  {
   "cell_type": "code",
   "execution_count": 23,
   "id": "eb55b5f1",
   "metadata": {},
   "outputs": [
    {
     "name": "stdout",
     "output_type": "stream",
     "text": [
      "================================\u001b[1m Human Message \u001b[0m=================================\n",
      "\n",
      "Respond to the email: \n",
      "\n",
      "**Subject**: Tax season let's schedule call\n",
      "**From**: Project Manager <pm@client.com>\n",
      "**To**: Lance Martin <lance@company.com>\n",
      "\n",
      "Lance,\n",
      "\n",
      "It's tax season again, and I wanted to schedule a call to discuss your tax planning strategies for this year. I have some suggestions that could potentially save you money.\n",
      "\n",
      "Are you available sometime next week? Tuesday or Thursday afternoon would work best for me, for about 45 minutes.\n",
      "\n",
      "Regards,\n",
      "Project Manager\n",
      "\n",
      "---\n",
      "\n",
      "==================================\u001b[1m Ai Message \u001b[0m==================================\n",
      "Tool Calls:\n",
      "  check_calendar_availability (call_JpQevSvNkmodiACKRfONrqan)\n",
      " Call ID: call_JpQevSvNkmodiACKRfONrqan\n",
      "  Args:\n",
      "    day: 2025-04-22\n",
      "  check_calendar_availability (call_3gJfzFvJkgY9lRVTpUF1D9Zt)\n",
      " Call ID: call_3gJfzFvJkgY9lRVTpUF1D9Zt\n",
      "  Args:\n",
      "    day: 2025-04-24\n",
      "=================================\u001b[1m Tool Message \u001b[0m=================================\n",
      "\n",
      "Available times on 2025-04-22: 9:00 AM, 2:00 PM, 4:00 PM\n",
      "=================================\u001b[1m Tool Message \u001b[0m=================================\n",
      "\n",
      "Available times on 2025-04-24: 9:00 AM, 2:00 PM, 4:00 PM\n",
      "==================================\u001b[1m Ai Message \u001b[0m==================================\n",
      "Tool Calls:\n",
      "  schedule_meeting (call_FB8EtqpH1UZHfvZzerDzq16R)\n",
      " Call ID: call_FB8EtqpH1UZHfvZzerDzq16R\n",
      "  Args:\n",
      "    attendees: ['pm@client.com', 'lance@company.com']\n",
      "    subject: Tax Planning Strategies Discussion\n",
      "    duration_minutes: 45\n",
      "    preferred_day: 2025-04-22\n",
      "    start_time: 14\n",
      "=================================\u001b[1m Tool Message \u001b[0m=================================\n",
      "\n",
      "Meeting 'Tax Planning Strategies Discussion' scheduled on Tuesday, April 22, 2025 at 14 for 45 minutes with 2 attendees\n",
      "==================================\u001b[1m Ai Message \u001b[0m==================================\n",
      "Tool Calls:\n",
      "  write_email (call_GlntMuOdVnAjNq9R0tXmCkbV)\n",
      " Call ID: call_GlntMuOdVnAjNq9R0tXmCkbV\n",
      "  Args:\n",
      "    to: pm@client.com\n",
      "    subject: Re: Tax season let's schedule call\n",
      "    content: Hi,\n",
      "\n",
      "Thank you for reaching out. I have scheduled our call to discuss tax planning strategies for Tuesday, April 22, 2025, at 2:00 PM. We will have 45 minutes to go over your suggestions.\n",
      "\n",
      "Looking forward to our discussion.\n",
      "\n",
      "Best regards,\n",
      "\n",
      "Lance Martin\n",
      "=================================\u001b[1m Tool Message \u001b[0m=================================\n",
      "\n",
      "User ignored this email draft. Ignore this email and end the workflow.\n"
     ]
    }
   ],
   "source": [
    "state = graph.get_state(thread_config_3)\n",
    "for m in state.values['messages']:\n",
    "    m.pretty_print()"
   ]
  },
  {
   "cell_type": "markdown",
   "id": "7200cdaf",
   "metadata": {},
   "source": [
    "Now let's try an email that calls the `Question` tool\n",
    "\n",
    "The `Question` tool represents another important HITL interaction pattern - the agent asking for additional information rather than taking immediate action. This test shows:\n",
    "\n",
    "1. A different email scenario about a potential brunch invitation\n",
    "2. The agent doesn't have enough information to respond definitively\n",
    "3. Instead of guessing, it uses the `Question` tool to ask for clarification\n",
    "4. We'll simulate the user ignoring this question\n",
    "\n",
    "This demonstrates how the HITL system gracefully handles requests for information, and what happens when users choose not to engage with these requests."
   ]
  },
  {
   "cell_type": "code",
   "execution_count": 24,
   "id": "bdea633a",
   "metadata": {},
   "outputs": [
    {
     "name": "stdout",
     "output_type": "stream",
     "text": [
      "Running the graph until the first interrupt...\n",
      "📧 Classification: RESPOND - This email requires a response\n",
      "\n",
      "INTERRUPT OBJECT:\n",
      "Action Request: {'action': 'Question', 'args': {'content': 'What day and time are you considering for the brunch in 3 weeks?'}}\n"
     ]
    }
   ],
   "source": [
    "# Respond - Meeting Request Email\n",
    "email_input_respond = {\n",
    "    \"to\": \"Lance Martin <lance@company.com>\",\n",
    "    \"author\": \"Partner <partner@home.com>\",\n",
    "    \"subject\": \"Meet Jim and Lisa for brunch in 3 weeks?\",\n",
    "    \"email_thread\": \"Hey, should we invite Jim and Lisa to brunch in 3 weeks? We could go to the new place on 17th that everyone is talking about.\"\n",
    "}\n",
    "\n",
    "# Compile the graph\n",
    "checkpointer = MemorySaver()\n",
    "graph = overall_workflow.compile(checkpointer=checkpointer)\n",
    "thread_id_4 = uuid.uuid4()\n",
    "thread_config_4 = {\"configurable\": {\"thread_id\": thread_id_4}}\n",
    "\n",
    "# Run the graph until the first interrupt \n",
    "# Email will be classified as \"respond\" \n",
    "# Agent will create a schedule_meeting and write_email tool call\n",
    "print(\"Running the graph until the first interrupt...\")\n",
    "for chunk in graph.stream({\"email_input\": email_input_respond}, config=thread_config_4):\n",
    "    # Inspect interrupt object if present\n",
    "    if '__interrupt__' in chunk:\n",
    "        Interrupt_Object = chunk['__interrupt__'][0]\n",
    "        print(\"\\nINTERRUPT OBJECT:\")\n",
    "        print(f\"Action Request: {Interrupt_Object.value[0]['action_request']}\")"
   ]
  },
  {
   "cell_type": "markdown",
   "id": "9aaca6d4",
   "metadata": {},
   "source": [
    "Ignore the `question` tool call\n",
    "\n",
    "When the agent asks for clarification about the brunch plans, we simulate a user ignoring the question:\n",
    "\n",
    "1. The agent has asked about preferred day and time for the brunch\n",
    "2. We provide an \"ignore\" response to this question\n",
    "3. The system processes this as a decision to abandon handling this email:\n",
    "   - A message is added stating \"User ignored this question. Ignore this email and end the workflow.\"\n",
    "   - The workflow ends without sending any response\n",
    "\n",
    "This pattern is important because it allows users to:\n",
    "- Decide that some emails don't actually need responses\n",
    "- Avoid providing information they're not ready to share\n",
    "- Defer decision-making to a later time\n",
    "- Take over email handling manually if they prefer\n",
    "\n",
    "The trace and message history show how cleanly the workflow ends after ignoring the question."
   ]
  },
  {
   "cell_type": "code",
   "execution_count": 25,
   "id": "d4e5d62b",
   "metadata": {},
   "outputs": [
    {
     "name": "stdout",
     "output_type": "stream",
     "text": [
      "\n",
      "Simulating user ignoring the {'action': 'Question', 'args': {'content': 'What day and time are you considering for the brunch in 3 weeks?'}} tool call...\n"
     ]
    }
   ],
   "source": [
    "print(f\"\\nSimulating user ignoring the {Interrupt_Object.value[0]['action_request']} tool call...\")\n",
    "for chunk in graph.stream(Command(resume=[{\"type\": \"ignore\"}]), config=thread_config_4):\n",
    "    # Inspect interrupt object if present\n",
    "    if '__interrupt__' in chunk:\n",
    "        Interrupt_Object = chunk['__interrupt__'][0]\n",
    "        print(\"\\nINTERRUPT OBJECT:\")\n",
    "        print(f\"Action Request: {Interrupt_Object.value[0]['action_request']}\")"
   ]
  },
  {
   "cell_type": "markdown",
   "id": "90c7ade4",
   "metadata": {},
   "source": [
    "As before, we end:\n",
    "\n",
    "https://smith.langchain.com/public/276c4016-2b4c-43f5-a677-834a5eaa47c0/r"
   ]
  },
  {
   "cell_type": "code",
   "execution_count": 26,
   "id": "ef334860",
   "metadata": {},
   "outputs": [
    {
     "name": "stdout",
     "output_type": "stream",
     "text": [
      "================================\u001b[1m Human Message \u001b[0m=================================\n",
      "\n",
      "Respond to the email: \n",
      "\n",
      "**Subject**: Meet Jim and Lisa for brunch in 3 weeks?\n",
      "**From**: Partner <partner@home.com>\n",
      "**To**: Lance Martin <lance@company.com>\n",
      "\n",
      "Hey, should we invite Jim and Lisa to brunch in 3 weeks? We could go to the new place on 17th that everyone is talking about.\n",
      "\n",
      "---\n",
      "\n",
      "==================================\u001b[1m Ai Message \u001b[0m==================================\n",
      "Tool Calls:\n",
      "  Question (call_l6LC1srm8qt8CJCihDTz7wAW)\n",
      " Call ID: call_l6LC1srm8qt8CJCihDTz7wAW\n",
      "  Args:\n",
      "    content: What day and time are you considering for the brunch in 3 weeks?\n",
      "=================================\u001b[1m Tool Message \u001b[0m=================================\n",
      "\n",
      "User ignored this question. Ignore this email and end the workflow.\n"
     ]
    }
   ],
   "source": [
    "state = graph.get_state(thread_config_4)\n",
    "for m in state.values['messages']:\n",
    "    m.pretty_print()"
   ]
  },
  {
   "cell_type": "markdown",
   "id": "da4c39e9",
   "metadata": {},
   "source": [
    "## Respond (with feedback) `write_email`, `schedule_meeting`, and `question`\n",
    "\n",
    "This test set demonstrates the \"response\" capability - providing feedback without editing or accepting:\n",
    "\n",
    "1. First, we test feedback for meeting scheduling:\n",
    "   - The user provides specific preferences (30 minutes instead of 45, and afternoon meetings)\n",
    "   - The agent incorporates this feedback into a revised proposal\n",
    "   - The user then accepts the revised meeting schedule\n",
    "\n",
    "2. Second, we test feedback for email drafting:\n",
    "   - The user requests a shorter, less formal email with a specific closing statement\n",
    "   - The agent completely rewrites the email according to this guidance\n",
    "   - The user accepts the new draft\n",
    "\n",
    "3. Lastly, we test feedback for questions:\n",
    "   - For the brunch invitation, the user answers the question with additional context\n",
    "   - The agent uses this information to draft an appropriate email response\n",
    "   - The workflow proceeds with the user's input integrated\n",
    "\n",
    "The \"response\" capability bridges the gap between acceptance and editing - users can guide the agent without having to write the full content themselves. This is especially powerful for:\n",
    "- Adjusting tone and style\n",
    "- Adding context the agent missed\n",
    "- Redirecting the agent's approach\n",
    "- Answering questions in a way that shapes the next steps"
   ]
  },
  {
   "cell_type": "code",
   "execution_count": 27,
   "id": "3c4b3517",
   "metadata": {},
   "outputs": [
    {
     "name": "stdout",
     "output_type": "stream",
     "text": [
      "Running the graph until the first interrupt...\n",
      "📧 Classification: RESPOND - This email requires a response\n",
      "\n",
      "INTERRUPT OBJECT:\n",
      "Action Request: {'action': 'schedule_meeting', 'args': {'attendees': ['pm@client.com', 'lance@company.com'], 'subject': 'Tax Planning Strategies Discussion', 'duration_minutes': 45, 'preferred_day': '2025-04-22', 'start_time': 14}}\n"
     ]
    }
   ],
   "source": [
    "# Respond - Meeting Request Email\n",
    "email_input_respond = {\n",
    "    \"to\": \"Lance Martin <lance@company.com>\",\n",
    "    \"author\": \"Project Manager <pm@client.com>\",\n",
    "    \"subject\": \"Tax season let's schedule call\",\n",
    "    \"email_thread\": \"Lance,\\n\\nIt's tax season again, and I wanted to schedule a call to discuss your tax planning strategies for this year. I have some suggestions that could potentially save you money.\\n\\nAre you available sometime next week? Tuesday or Thursday afternoon would work best for me, for about 45 minutes.\\n\\nRegards,\\nProject Manager\"\n",
    "}\n",
    "\n",
    "# Compile the graph\n",
    "checkpointer = MemorySaver()\n",
    "graph = overall_workflow.compile(checkpointer=checkpointer)\n",
    "thread_id_5 = uuid.uuid4()\n",
    "thread_config_5 = {\"configurable\": {\"thread_id\": thread_id_5}}\n",
    "\n",
    "# Run the graph until the first interrupt \n",
    "# Email will be classified as \"respond\" \n",
    "# Agent will create a schedule_meeting and write_email tool call\n",
    "print(\"Running the graph until the first interrupt...\")\n",
    "for chunk in graph.stream({\"email_input\": email_input_respond}, config=thread_config_5):\n",
    "    # Inspect interrupt object if present\n",
    "    if '__interrupt__' in chunk:\n",
    "        Interrupt_Object = chunk['__interrupt__'][0]\n",
    "        print(\"\\nINTERRUPT OBJECT:\")\n",
    "        print(f\"Action Request: {Interrupt_Object.value[0]['action_request']}\")"
   ]
  },
  {
   "cell_type": "markdown",
   "id": "ae2bea0a",
   "metadata": {},
   "source": [
    "Provide feedback for the `schedule_meeting` tool call\n",
    "\n",
    "Now we explore the feedback capability for meeting scheduling:\n",
    "\n",
    "1. The agent proposes the standard 45-minute meeting on Tuesday at 2:00 PM\n",
    "2. Instead of accepting or editing, we provide feedback in natural language\n",
    "3. Our feedback specifies two preferences:\n",
    "   - Shorter meeting (30 minutes instead of 45)\n",
    "   - Preference for afternoon meetings (after 2pm)\n",
    "4. The agent receives this feedback through the `response` type\n",
    "5. The interrupt handler adds this feedback as a message to the state\n",
    "6. The agent processes this feedback and generates a new tool call incorporating these preferences\n",
    "\n",
    "Unlike direct editing, which requires specifying the entire set of parameters, feedback allows users to express their preferences conversationally. The agent must then interpret this feedback and apply it appropriately to create a revised proposal."
   ]
  },
  {
   "cell_type": "code",
   "execution_count": 28,
   "id": "9a916e10",
   "metadata": {},
   "outputs": [
    {
     "name": "stdout",
     "output_type": "stream",
     "text": [
      "\n",
      "Simulating user providing feedback for the schedule_meeting tool call...\n",
      "\n",
      "INTERRUPT OBJECT:\n",
      "Action Request: {'action': 'schedule_meeting', 'args': {'attendees': ['pm@client.com', 'lance@company.com'], 'subject': 'Tax Planning Strategies Discussion', 'duration_minutes': 30, 'preferred_day': '2025-04-22', 'start_time': 14}}\n"
     ]
    }
   ],
   "source": [
    "print(f\"\\nSimulating user providing feedback for the {Interrupt_Object.value[0]['action_request']['action']} tool call...\")\n",
    "for chunk in graph.stream(Command(resume=[{\"type\": \"response\", \"args\": \"Please schedule this for 30 minutes instead of 45 minutes, and I prefer afternoon meetings after 2pm.\"}]), config=thread_config_5):\n",
    "    # Inspect interrupt object if present\n",
    "    if '__interrupt__' in chunk:\n",
    "        Interrupt_Object = chunk['__interrupt__'][0]\n",
    "        print(\"\\nINTERRUPT OBJECT:\")\n",
    "        print(f\"Action Request: {Interrupt_Object.value[0]['action_request']}\")"
   ]
  },
  {
   "cell_type": "markdown",
   "id": "cf35f1a2",
   "metadata": {},
   "source": [
    "Accept the `schedule_meeting` tool call after providing feedback"
   ]
  },
  {
   "cell_type": "code",
   "execution_count": 29,
   "id": "2727fb0e",
   "metadata": {},
   "outputs": [
    {
     "name": "stdout",
     "output_type": "stream",
     "text": [
      "\n",
      "Simulating user accepting the {'action': 'schedule_meeting', 'args': {'attendees': ['pm@client.com', 'lance@company.com'], 'subject': 'Tax Planning Strategies Discussion', 'duration_minutes': 30, 'preferred_day': '2025-04-22', 'start_time': 14}} tool call...\n",
      "\n",
      "INTERRUPT OBJECT:\n",
      "Action Request: {'action': 'write_email', 'args': {'to': 'pm@client.com', 'subject': \"Re: Tax season let's schedule call\", 'content': \"Hello,\\n\\nThank you for reaching out. I've scheduled a call for us to discuss tax planning strategies on Tuesday, April 22, 2025, at 2:00 PM. The meeting is set for 30 minutes.\\n\\nLooking forward to our discussion.\\n\\nBest regards,\\n\\nLance Martin\"}}\n"
     ]
    }
   ],
   "source": [
    "print(f\"\\nSimulating user accepting the {Interrupt_Object.value[0]['action_request']} tool call...\")\n",
    "for chunk in graph.stream(Command(resume=[{\"type\": \"accept\"}]), config=thread_config_5):\n",
    "    # Inspect interrupt object if present\n",
    "    if '__interrupt__' in chunk:\n",
    "        Interrupt_Object = chunk['__interrupt__'][0]\n",
    "        print(\"\\nINTERRUPT OBJECT:\")\n",
    "        print(f\"Action Request: {Interrupt_Object.value[0]['action_request']}\")"
   ]
  },
  {
   "cell_type": "markdown",
   "id": "3ca470c5",
   "metadata": {},
   "source": [
    "Now provide feedback for the `write_email` tool call\n",
    "\n",
    "After accepting the revised meeting schedule, the agent drafts an email. We now test feedback for email content:\n",
    "\n",
    "1. The agent's email is relatively formal and detailed\n",
    "2. We provide stylistic feedback requesting:\n",
    "   - A shorter, more concise email\n",
    "   - A less formal tone\n",
    "   - A specific closing statement about looking forward to the meeting\n",
    "3. The agent processes this feedback to completely rewrite the email\n",
    "4. The new draft is much shorter, more casual, and includes the requested closing\n",
    "\n",
    "This demonstrates the power of natural language feedback for content creation:\n",
    "- Users don't need to rewrite the entire email themselves\n",
    "- They can provide high-level guidance on style, tone, and content\n",
    "- The agent handles the actual writing based on this guidance\n",
    "- The result better matches user preferences while preserving the essential information\n",
    "\n",
    "The message history shows both the original and revised emails, clearly showing how the feedback was incorporated."
   ]
  },
  {
   "cell_type": "code",
   "execution_count": 30,
   "id": "f5221d87",
   "metadata": {},
   "outputs": [
    {
     "name": "stdout",
     "output_type": "stream",
     "text": [
      "\n",
      "Simulating user providing feedback for the write_email tool call...\n",
      "\n",
      "INTERRUPT OBJECT:\n",
      "Action Request: {'action': 'write_email', 'args': {'to': 'pm@client.com', 'subject': \"Re: Tax season let's schedule call\", 'content': \"Hi,\\n\\nI've set up our call for Tuesday, April 22, at 2:00 PM for 30 minutes. Looking forward to it!\\n\\nBest,\\nLance\"}}\n"
     ]
    }
   ],
   "source": [
    "print(f\"\\nSimulating user providing feedback for the {Interrupt_Object.value[0]['action_request']['action']} tool call...\")\n",
    "for chunk in graph.stream(Command(resume=[{\"type\": \"response\", \"args\": \"Shorter and less formal. Include a closing statement about looking forward to the meeting!\"}]), config=thread_config_5):\n",
    "    # Inspect response_agent most recent message\n",
    "    if 'response_agent' in chunk:\n",
    "        chunk['response_agent']['messages'][-1].pretty_print()\n",
    "    # Inspect interrupt object if present\n",
    "    if '__interrupt__' in chunk:\n",
    "        Interrupt_Object = chunk['__interrupt__'][0]\n",
    "        print(\"\\nINTERRUPT OBJECT:\")\n",
    "        print(f\"Action Request: {Interrupt_Object.value[0]['action_request']}\")"
   ]
  },
  {
   "cell_type": "markdown",
   "id": "1266ec72",
   "metadata": {},
   "source": [
    "Accept the `write_email` tool call after providing feedback"
   ]
  },
  {
   "cell_type": "code",
   "execution_count": 31,
   "id": "0b4698c0",
   "metadata": {},
   "outputs": [
    {
     "name": "stdout",
     "output_type": "stream",
     "text": [
      "\n",
      "Simulating user accepting the {'action': 'write_email', 'args': {'to': 'pm@client.com', 'subject': \"Re: Tax season let's schedule call\", 'content': \"Hi,\\n\\nI've set up our call for Tuesday, April 22, at 2:00 PM for 30 minutes. Looking forward to it!\\n\\nBest,\\nLance\"}} tool call...\n"
     ]
    }
   ],
   "source": [
    "print(f\"\\nSimulating user accepting the {Interrupt_Object.value[0]['action_request']} tool call...\")\n",
    "for chunk in graph.stream(Command(resume=[{\"type\": \"accept\"}]), config=thread_config_5):\n",
    "    # Inspect interrupt object if present\n",
    "    if '__interrupt__' in chunk:\n",
    "        Interrupt_Object = chunk['__interrupt__'][0]\n",
    "        print(\"\\nINTERRUPT OBJECT:\")\n",
    "        print(f\"Action Request: {Interrupt_Object.value[0]['action_request']}\")"
   ]
  },
  {
   "cell_type": "markdown",
   "id": "c270f52a",
   "metadata": {},
   "source": [
    "Look at the full message history, and see the trace:\n",
    "\n",
    "https://smith.langchain.com/public/57006770-6bb3-4e40-b990-143c373ebe60/r\n",
    "\n",
    "We can see that user feedback in incorporated into the tool calls.  "
   ]
  },
  {
   "cell_type": "code",
   "execution_count": 32,
   "id": "1daf10d6",
   "metadata": {},
   "outputs": [
    {
     "name": "stdout",
     "output_type": "stream",
     "text": [
      "================================\u001b[1m Human Message \u001b[0m=================================\n",
      "\n",
      "Respond to the email: \n",
      "\n",
      "**Subject**: Tax season let's schedule call\n",
      "**From**: Project Manager <pm@client.com>\n",
      "**To**: Lance Martin <lance@company.com>\n",
      "\n",
      "Lance,\n",
      "\n",
      "It's tax season again, and I wanted to schedule a call to discuss your tax planning strategies for this year. I have some suggestions that could potentially save you money.\n",
      "\n",
      "Are you available sometime next week? Tuesday or Thursday afternoon would work best for me, for about 45 minutes.\n",
      "\n",
      "Regards,\n",
      "Project Manager\n",
      "\n",
      "---\n",
      "\n",
      "==================================\u001b[1m Ai Message \u001b[0m==================================\n",
      "Tool Calls:\n",
      "  check_calendar_availability (call_5Cs51CxeKicG85x0xeeZgRxg)\n",
      " Call ID: call_5Cs51CxeKicG85x0xeeZgRxg\n",
      "  Args:\n",
      "    day: 2025-04-22\n",
      "  check_calendar_availability (call_c7m8uYJaVH9x6l5zJdUj3HMk)\n",
      " Call ID: call_c7m8uYJaVH9x6l5zJdUj3HMk\n",
      "  Args:\n",
      "    day: 2025-04-24\n",
      "=================================\u001b[1m Tool Message \u001b[0m=================================\n",
      "\n",
      "Available times on 2025-04-22: 9:00 AM, 2:00 PM, 4:00 PM\n",
      "=================================\u001b[1m Tool Message \u001b[0m=================================\n",
      "\n",
      "Available times on 2025-04-24: 9:00 AM, 2:00 PM, 4:00 PM\n",
      "==================================\u001b[1m Ai Message \u001b[0m==================================\n",
      "Tool Calls:\n",
      "  schedule_meeting (call_2HHQvYV5EnkOzGfGITEnE772)\n",
      " Call ID: call_2HHQvYV5EnkOzGfGITEnE772\n",
      "  Args:\n",
      "    attendees: ['pm@client.com', 'lance@company.com']\n",
      "    subject: Tax Planning Strategies Discussion\n",
      "    duration_minutes: 45\n",
      "    preferred_day: 2025-04-22\n",
      "    start_time: 14\n",
      "=================================\u001b[1m Tool Message \u001b[0m=================================\n",
      "\n",
      "User gave feedback, which can we incorporate into the meeting request. Feedback: Please schedule this for 30 minutes instead of 45 minutes, and I prefer afternoon meetings after 2pm.\n",
      "==================================\u001b[1m Ai Message \u001b[0m==================================\n",
      "Tool Calls:\n",
      "  schedule_meeting (call_YbywvAlWYqWrbvH7zZqu6yUi)\n",
      " Call ID: call_YbywvAlWYqWrbvH7zZqu6yUi\n",
      "  Args:\n",
      "    attendees: ['pm@client.com', 'lance@company.com']\n",
      "    subject: Tax Planning Strategies Discussion\n",
      "    duration_minutes: 30\n",
      "    preferred_day: 2025-04-22\n",
      "    start_time: 14\n",
      "=================================\u001b[1m Tool Message \u001b[0m=================================\n",
      "\n",
      "Meeting 'Tax Planning Strategies Discussion' scheduled on Tuesday, April 22, 2025 at 14 for 30 minutes with 2 attendees\n",
      "==================================\u001b[1m Ai Message \u001b[0m==================================\n",
      "Tool Calls:\n",
      "  write_email (call_MYaMobBPrGW9ZcC8DXI55rFd)\n",
      " Call ID: call_MYaMobBPrGW9ZcC8DXI55rFd\n",
      "  Args:\n",
      "    to: pm@client.com\n",
      "    subject: Re: Tax season let's schedule call\n",
      "    content: Hello,\n",
      "\n",
      "Thank you for reaching out. I've scheduled a call for us to discuss tax planning strategies on Tuesday, April 22, 2025, at 2:00 PM. The meeting is set for 30 minutes.\n",
      "\n",
      "Looking forward to our discussion.\n",
      "\n",
      "Best regards,\n",
      "\n",
      "Lance Martin\n",
      "=================================\u001b[1m Tool Message \u001b[0m=================================\n",
      "\n",
      "User gave feedback, which can we incorporate into the email. Feedback: Shorter and less formal. Include a closing statement about looking forward to the meeting!\n",
      "==================================\u001b[1m Ai Message \u001b[0m==================================\n",
      "Tool Calls:\n",
      "  write_email (call_xVUwWSfechpEhekihDUmw0fE)\n",
      " Call ID: call_xVUwWSfechpEhekihDUmw0fE\n",
      "  Args:\n",
      "    to: pm@client.com\n",
      "    subject: Re: Tax season let's schedule call\n",
      "    content: Hi,\n",
      "\n",
      "I've set up our call for Tuesday, April 22, at 2:00 PM for 30 minutes. Looking forward to it!\n",
      "\n",
      "Best,\n",
      "Lance\n",
      "=================================\u001b[1m Tool Message \u001b[0m=================================\n",
      "\n",
      "Email sent to pm@client.com with subject 'Re: Tax season let's schedule call' and content: Hi,\n",
      "\n",
      "I've set up our call for Tuesday, April 22, at 2:00 PM for 30 minutes. Looking forward to it!\n",
      "\n",
      "Best,\n",
      "Lance\n",
      "==================================\u001b[1m Ai Message \u001b[0m==================================\n",
      "Tool Calls:\n",
      "  Done (call_Y1oqvAcB4yYoNNY15Wxnroh7)\n",
      " Call ID: call_Y1oqvAcB4yYoNNY15Wxnroh7\n",
      "  Args:\n",
      "    done: True\n"
     ]
    }
   ],
   "source": [
    "state = graph.get_state(thread_config_5)\n",
    "for m in state.values['messages']:\n",
    "    m.pretty_print()"
   ]
  },
  {
   "cell_type": "markdown",
   "id": "1d964e36",
   "metadata": {},
   "source": [
    "Now let's try an email that calls the `Question` tool to provide feedback\n",
    "\n",
    "Finally, we test how feedback works with the `Question` tool:\n",
    "\n",
    "1. For the brunch invitation email, the agent asks about preferred day and time\n",
    "2. Instead of ignoring, we provide a substantive response with additional context:\n",
    "   - Confirming we want to invite the people mentioned\n",
    "   - Noting we need to check which weekend works best\n",
    "   - Adding information about needing a reservation\n",
    "3. The agent uses this information to:\n",
    "   - Draft a comprehensive email response incorporating all our feedback\n",
    "   - Notice we didn't provide a specific day/time, so it suggests checking the calendar\n",
    "   - Include the detail about making a reservation\n",
    "4. The complete email reflects both the original request and our additional guidance\n",
    "\n",
    "This demonstrates how question responses can shape the entire workflow:\n",
    "- Questions let the agent gather missing information\n",
    "- User responses can include both direct answers and additional context\n",
    "- The agent integrates all this information into its next actions\n",
    "- The final outcome reflects the collaborative intelligence of both human and AI"
   ]
  },
  {
   "cell_type": "code",
   "execution_count": 33,
   "id": "8827632a",
   "metadata": {},
   "outputs": [
    {
     "name": "stdout",
     "output_type": "stream",
     "text": [
      "Running the graph until the first interrupt...\n",
      "📧 Classification: RESPOND - This email requires a response\n",
      "\n",
      "INTERRUPT OBJECT:\n",
      "Action Request: {'action': 'Question', 'args': {'content': 'What day and time are you considering for the brunch in 3 weeks? I can check my calendar for availability.'}}\n"
     ]
    }
   ],
   "source": [
    "# Respond - Meeting Request Email\n",
    "email_input_respond = {\n",
    "    \"to\": \"Lance Martin <lance@company.com>\",\n",
    "    \"author\": \"Partner <partner@home.com>\",\n",
    "    \"subject\": \"Meet Jim and Lisa for brunch in 3 weeks?\",\n",
    "    \"email_thread\": \"Hey, should we invite Jim and Lisa to brunch in 3 weeks? We could go to the new place on 17th that everyone is talking about.\"\n",
    "}\n",
    "\n",
    "# Compile the graph\n",
    "checkpointer = MemorySaver()\n",
    "graph = overall_workflow.compile(checkpointer=checkpointer)\n",
    "thread_id_6 = uuid.uuid4()\n",
    "thread_config_6 = {\"configurable\": {\"thread_id\": thread_id_6}}\n",
    "\n",
    "# Run the graph until the first interrupt\n",
    "print(\"Running the graph until the first interrupt...\")\n",
    "for chunk in graph.stream({\"email_input\": email_input_respond}, config=thread_config_6):\n",
    "    # Inspect interrupt object if present\n",
    "    if '__interrupt__' in chunk:\n",
    "        Interrupt_Object = chunk['__interrupt__'][0]\n",
    "        print(\"\\nINTERRUPT OBJECT:\")\n",
    "        print(f\"Action Request: {Interrupt_Object.value[0]['action_request']}\")"
   ]
  },
  {
   "cell_type": "markdown",
   "id": "1d9f7f1b",
   "metadata": {},
   "source": [
    "Provide feedback for the `Question` tool call"
   ]
  },
  {
   "cell_type": "code",
   "execution_count": 34,
   "id": "4979effd",
   "metadata": {},
   "outputs": [
    {
     "name": "stdout",
     "output_type": "stream",
     "text": [
      "\n",
      "Simulating user providing feedback for the Question tool call...\n",
      "\n",
      "INTERRUPT OBJECT:\n",
      "Action Request: {'action': 'write_email', 'args': {'to': 'partner@home.com', 'subject': 'Re: Meet Jim and Lisa for brunch in 3 weeks?', 'content': \"Hi,\\n\\nYes, let's definitely invite Jim and Lisa for brunch. I'll check my calendar to confirm which weekend works best for us. Also, since the new place on 17th is quite popular, we'll need to make a reservation in advance.\\n\\nI'll get back to you shortly with the best date.\\n\\nBest,\\nLance\"}}\n"
     ]
    }
   ],
   "source": [
    "print(f\"\\nSimulating user providing feedback for the {Interrupt_Object.value[0]['action_request']['action']} tool call...\")\n",
    "for chunk in graph.stream(Command(resume=[{\"type\": \"response\", \"args\": \"Yes, let's invite them, but let me confirm which weekend works best. Also mention that we'll need to make a reservation since that place is popular.\"}]), config=thread_config_6):\n",
    "    # Inspect interrupt object if present\n",
    "    if '__interrupt__' in chunk:\n",
    "        Interrupt_Object = chunk['__interrupt__'][0]\n",
    "        print(\"\\nINTERRUPT OBJECT:\")\n",
    "        print(f\"Action Request: {Interrupt_Object.value[0]['action_request']}\")"
   ]
  },
  {
   "cell_type": "markdown",
   "id": "76b4ba9b",
   "metadata": {},
   "source": [
    "Accept the `write_email` tool call"
   ]
  },
  {
   "cell_type": "code",
   "execution_count": 35,
   "id": "bfd34ec2",
   "metadata": {},
   "outputs": [
    {
     "name": "stdout",
     "output_type": "stream",
     "text": [
      "\n",
      "Simulating user accepting the write_email tool call...\n",
      "==================================\u001b[1m Ai Message \u001b[0m==================================\n",
      "Tool Calls:\n",
      "  Done (call_TWXVmN0lmZpypDo7TZwEEWuw)\n",
      " Call ID: call_TWXVmN0lmZpypDo7TZwEEWuw\n",
      "  Args:\n",
      "    done: True\n"
     ]
    }
   ],
   "source": [
    "print(f\"\\nSimulating user accepting the {Interrupt_Object.value[0]['action_request']['action']} tool call...\")\n",
    "for chunk in graph.stream(Command(resume=[{\"type\": \"accept\"}]), config=thread_config_6):\n",
    "    # Inspect response_agent most recent message\n",
    "    if 'response_agent' in chunk:\n",
    "        chunk['response_agent']['messages'][-1].pretty_print()\n",
    "    # Inspect interrupt object if present\n",
    "    if '__interrupt__' in chunk:\n",
    "        Interrupt_Object = chunk['__interrupt__'][0]\n",
    "        print(\"\\nINTERRUPT OBJECT:\")\n",
    "        print(f\"Action Request: {Interrupt_Object.value[0]['action_request']}\")"
   ]
  },
  {
   "cell_type": "markdown",
   "id": "e214fe9e",
   "metadata": {},
   "source": [
    "Look at the full message history, and see the trace:\n",
    "\n",
    "https://smith.langchain.com/public/f4c727c3-b1d9-47a5-b3d0-3451619db8a2/r\n",
    "\n",
    "We can see that user feedback in incorporated into the email response."
   ]
  },
  {
   "cell_type": "code",
   "execution_count": 36,
   "id": "070393eb",
   "metadata": {},
   "outputs": [
    {
     "name": "stdout",
     "output_type": "stream",
     "text": [
      "================================\u001b[1m Human Message \u001b[0m=================================\n",
      "\n",
      "Respond to the email: \n",
      "\n",
      "**Subject**: Meet Jim and Lisa for brunch in 3 weeks?\n",
      "**From**: Partner <partner@home.com>\n",
      "**To**: Lance Martin <lance@company.com>\n",
      "\n",
      "Hey, should we invite Jim and Lisa to brunch in 3 weeks? We could go to the new place on 17th that everyone is talking about.\n",
      "\n",
      "---\n",
      "\n",
      "==================================\u001b[1m Ai Message \u001b[0m==================================\n",
      "Tool Calls:\n",
      "  Question (call_ebOvuGZuyzNxziFBrYtXifeJ)\n",
      " Call ID: call_ebOvuGZuyzNxziFBrYtXifeJ\n",
      "  Args:\n",
      "    content: What day and time are you considering for the brunch in 3 weeks? I can check my calendar for availability.\n",
      "=================================\u001b[1m Tool Message \u001b[0m=================================\n",
      "\n",
      "User answered the question, which can we can use for any follow up actions. Feedback: Yes, let's invite them, but let me confirm which weekend works best. Also mention that we'll need to make a reservation since that place is popular.\n",
      "==================================\u001b[1m Ai Message \u001b[0m==================================\n",
      "Tool Calls:\n",
      "  write_email (call_SWBLQ1lAEioAMc2KdMft7AhX)\n",
      " Call ID: call_SWBLQ1lAEioAMc2KdMft7AhX\n",
      "  Args:\n",
      "    to: partner@home.com\n",
      "    subject: Re: Meet Jim and Lisa for brunch in 3 weeks?\n",
      "    content: Hi,\n",
      "\n",
      "Yes, let's definitely invite Jim and Lisa for brunch. I'll check my calendar to confirm which weekend works best for us. Also, since the new place on 17th is quite popular, we'll need to make a reservation in advance.\n",
      "\n",
      "I'll get back to you shortly with the best date.\n",
      "\n",
      "Best,\n",
      "Lance\n",
      "=================================\u001b[1m Tool Message \u001b[0m=================================\n",
      "\n",
      "Email sent to partner@home.com with subject 'Re: Meet Jim and Lisa for brunch in 3 weeks?' and content: Hi,\n",
      "\n",
      "Yes, let's definitely invite Jim and Lisa for brunch. I'll check my calendar to confirm which weekend works best for us. Also, since the new place on 17th is quite popular, we'll need to make a reservation in advance.\n",
      "\n",
      "I'll get back to you shortly with the best date.\n",
      "\n",
      "Best,\n",
      "Lance\n",
      "==================================\u001b[1m Ai Message \u001b[0m==================================\n",
      "Tool Calls:\n",
      "  Done (call_TWXVmN0lmZpypDo7TZwEEWuw)\n",
      " Call ID: call_TWXVmN0lmZpypDo7TZwEEWuw\n",
      "  Args:\n",
      "    done: True\n"
     ]
    }
   ],
   "source": [
    "state = graph.get_state(thread_config_6)\n",
    "for m in state.values['messages']:\n",
    "    m.pretty_print()"
   ]
  },
  {
   "cell_type": "markdown",
   "id": "8036348c",
   "metadata": {},
   "source": [
    "## Test Case for Notify Classification\n",
    "\n",
    "This test demonstrates how the system handles emails classified as \"NOTIFY\" and how users can respond to notifications:\n",
    "\n",
    "1. The triage system classifies important informational emails as \"NOTIFY\" when:\n",
    "   - They contain important information (like security updates)\n",
    "   - They don't require immediate action\n",
    "   - They should be brought to the user's attention\n",
    "   \n",
    "2. For notify classifications:\n",
    "   - The workflow routes to the `triage_interrupt_handler`\n",
    "   - The user sees the email content with options to ignore or respond\n",
    "   - No default action is suggested\n",
    "\n",
    "3. In this test, we:\n",
    "   - Process an IT security update email that gets classified as \"NOTIFY\"\n",
    "   - Simulate the user deciding to respond with specific feedback\n",
    "   - See how the agent drafts an appropriate response based on this feedback\n",
    "   - Approve the response to be sent\n",
    "\n",
    "This showcases how the HITL system can transform a passive notification into an active response when the user decides one is warranted, bridging the gap between the initial \"NOTIFY\" classification and a full response."
   ]
  },
  {
   "cell_type": "code",
   "execution_count": 37,
   "id": "930e86cf",
   "metadata": {},
   "outputs": [
    {
     "name": "stdout",
     "output_type": "stream",
     "text": [
      "Running the graph until the first interrupt...\n",
      "🔔 Classification: NOTIFY - This email contains important information\n",
      "\n",
      "INTERRUPT OBJECT:\n",
      "Action Request: {'action': 'Email Assistant: notify', 'args': {}}\n"
     ]
    }
   ],
   "source": [
    "# Notify - Important FYI Email\n",
    "email_input_notify = {\n",
    "    \"to\": \"Team Members <team@company.com>\",\n",
    "    \"author\": \"IT Department <it@company.com>\",\n",
    "    \"subject\": \"Critical Security Update\",\n",
    "    \"email_thread\": \"Dear Team,\\n\\nThis is an important security notification. We will be updating our authentication system this weekend. During the update window (Saturday 2am-4am), you will not be able to access company resources.\\n\\nPlease ensure you log out of all systems before the maintenance window.\\n\\nRegards,\\nIT Department\"\n",
    "}\n",
    "\n",
    "# Compile the graph with new thread\n",
    "checkpointer = MemorySaver()\n",
    "graph = overall_workflow.compile(checkpointer=checkpointer)\n",
    "thread_id_7 = uuid.uuid4()\n",
    "thread_config_7 = {\"configurable\": {\"thread_id\": thread_id_7}}\n",
    "\n",
    "# Run the graph until the first interrupt - should be classified as \"notify\"\n",
    "print(\"Running the graph until the first interrupt...\")\n",
    "for chunk in graph.stream({\"email_input\": email_input_notify}, config=thread_config_7):\n",
    "    # Inspect interrupt object if present\n",
    "    if '__interrupt__' in chunk:\n",
    "        Interrupt_Object = chunk['__interrupt__'][0]\n",
    "        print(\"\\nINTERRUPT OBJECT:\")\n",
    "        print(f\"Action Request: {Interrupt_Object.value[0]['action_request']}\")"
   ]
  },
  {
   "cell_type": "markdown",
   "id": "c3d062bb",
   "metadata": {},
   "source": [
    "Now simulate user deciding to respond with feedback.\n",
    "\n",
    "Although the email was classified as \"NOTIFY\" (meaning it normally wouldn't require a response), the HITL system gives users the flexibility to override this classification. In this step:\n",
    "\n",
    "1. We provide feedback indicating we want to acknowledge receipt of the security notice\n",
    "2. The `triage_interrupt_handler` processes this feedback:\n",
    "   - It adds the user's guidance as a message to the state\n",
    "   - It routes to the `response_agent` node instead of ending\n",
    "3. The response agent uses this guidance to draft an appropriate acknowledgment email\n",
    "4. An interrupt is created for the user to review this draft before sending\n",
    "\n",
    "This demonstrates an important capability: the ability for users to override the initial classification when they feel a response is warranted. This ensures that the system remains flexible and adaptable to user preferences, while still providing useful initial triage."
   ]
  },
  {
   "cell_type": "code",
   "execution_count": 38,
   "id": "6bd027a4",
   "metadata": {},
   "outputs": [
    {
     "name": "stdout",
     "output_type": "stream",
     "text": [
      "\n",
      "Simulating user deciding to respond with feedback...\n",
      "\n",
      "INTERRUPT OBJECT:\n",
      "Action Request: {'action': 'write_email', 'args': {'to': 'it@company.com', 'subject': 'Re: Critical Security Update', 'content': 'Dear IT Department,\\n\\nThank you for the important security update notification. I acknowledge receipt of this notice and confirm that I will ensure to log out of all systems before the maintenance window this Saturday from 2am to 4am.\\n\\nRegards,\\nLance'}}\n"
     ]
    }
   ],
   "source": [
    "print(\"\\nSimulating user deciding to respond with feedback...\")\n",
    "for chunk in graph.stream(Command(resume=[{\"type\": \"response\", \"args\": \"We should acknowledge receipt of this important notice and confirm that we'll be logged out before the maintenance window.\"}]), config=thread_config_7):\n",
    "    # Inspect interrupt object if present\n",
    "    if '__interrupt__' in chunk:\n",
    "        Interrupt_Object = chunk['__interrupt__'][0]\n",
    "        print(\"\\nINTERRUPT OBJECT:\")\n",
    "        print(f\"Action Request: {Interrupt_Object.value[0]['action_request']}\")"
   ]
  },
  {
   "cell_type": "markdown",
   "id": "e84de751",
   "metadata": {},
   "source": [
    "Accept the `write_email` tool call after feedback."
   ]
  },
  {
   "cell_type": "code",
   "execution_count": 39,
   "id": "073642cd",
   "metadata": {},
   "outputs": [
    {
     "name": "stdout",
     "output_type": "stream",
     "text": [
      "\n",
      "Simulating user accepting the {'action': 'write_email', 'args': {'to': 'it@company.com', 'subject': 'Re: Critical Security Update', 'content': 'Dear IT Department,\\n\\nThank you for the important security update notification. I acknowledge receipt of this notice and confirm that I will ensure to log out of all systems before the maintenance window this Saturday from 2am to 4am.\\n\\nRegards,\\nLance'}} tool call...\n"
     ]
    }
   ],
   "source": [
    "print(f\"\\nSimulating user accepting the {Interrupt_Object.value[0]['action_request']} tool call...\")\n",
    "for chunk in graph.stream(Command(resume=[{\"type\": \"accept\"}]), config=thread_config_7):\n",
    "    # Inspect interrupt object if present\n",
    "    if '__interrupt__' in chunk:\n",
    "        Interrupt_Object = chunk['__interrupt__'][0]\n",
    "        print(\"\\nINTERRUPT OBJECT:\")\n",
    "        print(f\"Action Request: {Interrupt_Object.value[0]['action_request']}\")"
   ]
  },
  {
   "cell_type": "markdown",
   "id": "b270fa6c",
   "metadata": {},
   "source": [
    "Look at the full message history, and see the trace:\n",
    "\n",
    "https://smith.langchain.com/public/6594f98f-eb83-4560-9c34-28ec22ada3dc/r\n",
    "\n",
    "We can see that user feedback causes agent to go reply to the email."
   ]
  },
  {
   "cell_type": "code",
   "execution_count": 40,
   "id": "a1bbc9b7",
   "metadata": {},
   "outputs": [
    {
     "name": "stdout",
     "output_type": "stream",
     "text": [
      "================================\u001b[1m Human Message \u001b[0m=================================\n",
      "\n",
      "Email to notify user about: \n",
      "\n",
      "**Subject**: Critical Security Update\n",
      "**From**: IT Department <it@company.com>\n",
      "**To**: Team Members <team@company.com>\n",
      "\n",
      "Dear Team,\n",
      "\n",
      "This is an important security notification. We will be updating our authentication system this weekend. During the update window (Saturday 2am-4am), you will not be able to access company resources.\n",
      "\n",
      "Please ensure you log out of all systems before the maintenance window.\n",
      "\n",
      "Regards,\n",
      "IT Department\n",
      "\n",
      "---\n",
      "\n",
      "================================\u001b[1m Human Message \u001b[0m=================================\n",
      "\n",
      "User wants to reply to the email. Use this feedback to respond: We should acknowledge receipt of this important notice and confirm that we'll be logged out before the maintenance window.\n",
      "==================================\u001b[1m Ai Message \u001b[0m==================================\n",
      "Tool Calls:\n",
      "  write_email (call_9fi3k78DE98MFtey5aYSaql7)\n",
      " Call ID: call_9fi3k78DE98MFtey5aYSaql7\n",
      "  Args:\n",
      "    to: it@company.com\n",
      "    subject: Re: Critical Security Update\n",
      "    content: Dear IT Department,\n",
      "\n",
      "Thank you for the important security update notification. I acknowledge receipt of this notice and confirm that I will ensure to log out of all systems before the maintenance window this Saturday from 2am to 4am.\n",
      "\n",
      "Regards,\n",
      "Lance\n",
      "=================================\u001b[1m Tool Message \u001b[0m=================================\n",
      "\n",
      "Email sent to it@company.com with subject 'Re: Critical Security Update' and content: Dear IT Department,\n",
      "\n",
      "Thank you for the important security update notification. I acknowledge receipt of this notice and confirm that I will ensure to log out of all systems before the maintenance window this Saturday from 2am to 4am.\n",
      "\n",
      "Regards,\n",
      "Lance\n",
      "==================================\u001b[1m Ai Message \u001b[0m==================================\n",
      "Tool Calls:\n",
      "  Done (call_K8dqQ4AIYjMz7QusZ5eZjrRY)\n",
      " Call ID: call_K8dqQ4AIYjMz7QusZ5eZjrRY\n",
      "  Args:\n",
      "    done: True\n"
     ]
    }
   ],
   "source": [
    "state = graph.get_state(thread_config_7)\n",
    "for m in state.values['messages']:\n",
    "    m.pretty_print()"
   ]
  },
  {
   "cell_type": "markdown",
   "id": "318fce72",
   "metadata": {},
   "source": [
    "## Test Case for Notify + Ignore\n",
    "\n",
    "This test demonstrates the other path for notifications - when users choose to simply acknowledge without responding:\n",
    "\n",
    "1. We process a company picnic announcement email, which gets classified as \"NOTIFY\"\n",
    "2. The user decides this notification needs no response and chooses to ignore it\n",
    "3. The workflow ends immediately with no further action\n",
    "\n",
    "This scenario highlights several key aspects of the HITL system:\n",
    "- The initial triage correctly identifies information that's worth seeing but doesn't require action\n",
    "- Users can quickly process such notifications with minimal interaction\n",
    "- The system respects the user's decision not to act\n",
    "- The workflow efficiently ends without wasting time on unnecessary steps\n",
    "\n",
    "Together with the previous test, this demonstrates the complete notification handling workflow:\n",
    "- Some notifications warrant responses (previous test)\n",
    "- Others simply need acknowledgment (this test)\n",
    "- The user maintains control over which path to take"
   ]
  },
  {
   "cell_type": "code",
   "execution_count": 41,
   "id": "ff23e6e7",
   "metadata": {},
   "outputs": [
    {
     "name": "stdout",
     "output_type": "stream",
     "text": [
      "Running the graph until the first interrupt...\n",
      "🔔 Classification: NOTIFY - This email contains important information\n",
      "\n",
      "INTERRUPT OBJECT:\n",
      "Action Request: {'action': 'Email Assistant: notify', 'args': {}}\n"
     ]
    }
   ],
   "source": [
    "# Notify - Important FYI Email\n",
    "email_input_notify = {\n",
    "    \"to\": \"Team Members <team@company.com>\",\n",
    "    \"author\": \"HR Department <hr@company.com>\",\n",
    "    \"subject\": \"Company Picnic Next Month\",\n",
    "    \"email_thread\": \"Dear Team,\\n\\nWe're planning the annual company picnic for next month. The tentative date is Saturday, June 15th from noon to 4pm at Central Park. There will be food, games, and activities for families.\\n\\nMore details will follow in the coming weeks.\\n\\nRegards,\\nHR Department\"\n",
    "}\n",
    "\n",
    "# Compile the graph with new thread\n",
    "checkpointer = MemorySaver()\n",
    "graph = overall_workflow.compile(checkpointer=checkpointer)\n",
    "thread_id_8 = uuid.uuid4()\n",
    "thread_config_8 = {\"configurable\": {\"thread_id\": thread_id_8}}\n",
    "\n",
    "# Run the graph until the first interrupt - should be classified as \"notify\"\n",
    "print(\"Running the graph until the first interrupt...\")\n",
    "for chunk in graph.stream({\"email_input\": email_input_notify}, config=thread_config_8):\n",
    "    # Inspect interrupt object if present\n",
    "    if '__interrupt__' in chunk:\n",
    "        Interrupt_Object = chunk['__interrupt__'][0]\n",
    "        print(\"\\nINTERRUPT OBJECT:\")\n",
    "        print(f\"Action Request: {Interrupt_Object.value[0]['action_request']}\")"
   ]
  },
  {
   "cell_type": "markdown",
   "id": "8b44290b",
   "metadata": {},
   "source": [
    "Now simulate user deciding to ignore the notification.\n",
    "\n",
    "In this step, we simulate the simplest path for notification handling - acknowledgment without action:\n",
    "\n",
    "1. We receive the interrupt with the notification about the company picnic\n",
    "2. We respond with the \"ignore\" response type\n",
    "3. The workflow immediately ends without creating any responses\n",
    "4. The message history shows only the notification itself, with no additional processing\n",
    "\n",
    "This straightforward path is actually critical for workflow efficiency:\n",
    "- It allows users to quickly process informational emails\n",
    "- It avoids the overhead of unnecessary response generation\n",
    "- It recognizes that many notifications simply need to be seen, not answered\n",
    "- It respects the user's time by ending the workflow immediately\n",
    "\n",
    "The complete message history shows how clean this path is - just the notification itself, with no additional messages once the user chooses to ignore it."
   ]
  },
  {
   "cell_type": "code",
   "execution_count": 42,
   "id": "d17d9526",
   "metadata": {},
   "outputs": [
    {
     "name": "stdout",
     "output_type": "stream",
     "text": [
      "\n",
      "Simulating user deciding to ignore the notification...\n"
     ]
    }
   ],
   "source": [
    "print(\"\\nSimulating user deciding to ignore the notification...\")\n",
    "for chunk in graph.stream(Command(resume=[{\"type\": \"ignore\"}]), config=thread_config_8):\n",
    "    # Inspect interrupt object if present\n",
    "    if '__interrupt__' in chunk:\n",
    "        Interrupt_Object = chunk['__interrupt__'][0]\n",
    "        print(\"\\nINTERRUPT OBJECT:\")\n",
    "        print(f\"Action Request: {Interrupt_Object.value[0]['action_request']}\")"
   ]
  },
  {
   "cell_type": "markdown",
   "id": "0d7269bb",
   "metadata": {},
   "source": [
    "Look at the full message history, and see the trace:\n",
    "\n",
    "https://smith.langchain.com/public/8193f616-244f-471d-8ec6-bd39624a0c88/r\n",
    "\n",
    "Here, we can see that if we ignore the notification, we just end. "
   ]
  },
  {
   "cell_type": "code",
   "execution_count": 43,
   "id": "ae5dbaba",
   "metadata": {},
   "outputs": [
    {
     "name": "stdout",
     "output_type": "stream",
     "text": [
      "================================\u001b[1m Human Message \u001b[0m=================================\n",
      "\n",
      "Email to notify user about: \n",
      "\n",
      "**Subject**: Company Picnic Next Month\n",
      "**From**: HR Department <hr@company.com>\n",
      "**To**: Team Members <team@company.com>\n",
      "\n",
      "Dear Team,\n",
      "\n",
      "We're planning the annual company picnic for next month. The tentative date is Saturday, June 15th from noon to 4pm at Central Park. There will be food, games, and activities for families.\n",
      "\n",
      "More details will follow in the coming weeks.\n",
      "\n",
      "Regards,\n",
      "HR Department\n",
      "\n",
      "---\n",
      "\n"
     ]
    }
   ],
   "source": [
    "state = graph.get_state(thread_config_8)\n",
    "for m in state.values['messages']:\n",
    "    m.pretty_print()"
   ]
  },
  {
   "cell_type": "markdown",
   "id": "afb1be24",
   "metadata": {},
   "source": []
  }
 ],
 "metadata": {
  "jupytext": {
   "cell_metadata_filter": "-all",
   "main_language": "python",
   "notebook_metadata_filter": "-all"
  },
  "kernelspec": {
   "display_name": ".venv",
   "language": "python",
   "name": "python3"
  },
  "language_info": {
   "codemirror_mode": {
    "name": "ipython",
    "version": 3
   },
   "file_extension": ".py",
   "mimetype": "text/x-python",
   "name": "python",
   "nbconvert_exporter": "python",
   "pygments_lexer": "ipython3",
   "version": "3.11.6"
  }
 },
 "nbformat": 4,
 "nbformat_minor": 5
}
